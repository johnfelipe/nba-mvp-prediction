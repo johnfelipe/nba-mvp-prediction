{
 "cells": [
  {
   "cell_type": "code",
   "execution_count": 1,
   "metadata": {},
   "outputs": [],
   "source": [
    "import pandas\n",
    "pandas.set_option('display.max_columns', None)\n",
    "from nba import br_extractor\n",
    "extractor = br_extractor.BRExtractor()"
   ]
  },
  {
   "cell_type": "code",
   "execution_count": 2,
   "metadata": {
    "tags": []
   },
   "outputs": [
    {
     "output_type": "stream",
     "name": "stdout",
     "text": "Conferences: EASTERN_CONF,WESTERN_CONF\nConferences: EASTERN_CONF,WESTERN_CONF\n"
    }
   ],
   "source": [
    "stats = extractor.get_team_standings(subset_by_seasons=[2018, 2019])"
   ]
  },
  {
   "cell_type": "code",
   "execution_count": 3,
   "metadata": {},
   "outputs": [
    {
     "output_type": "execute_result",
     "data": {
      "text/plain": "            TEAM   W   L   W/L%    GB  PW  PL   PS/G   PA/G          CONF  \\\nTEAM_SEASON                                                                 \nBOS_2018     BOS  55  27  0.671   4.0  51  31  104.0  100.4  EASTERN_CONF   \nSAS_2019     SAS  48  34  0.585   9.0  45  37  111.7  110.0  WESTERN_CONF   \nCHO_2019     CHO  39  43  0.476  21.0  38  44  110.7  111.8  EASTERN_CONF   \nOKC_2019     OKC  49  33  0.598   8.0  50  32  114.5  111.1  WESTERN_CONF   \nMEM_2018     MEM  22  60  0.268  43.0  25  57   99.3  105.5  WESTERN_CONF   \nDET_2018     DET  39  43  0.476  20.0  41  41  103.8  103.9  EASTERN_CONF   \nATL_2019     ATL  29  53  0.354  31.0  27  55  113.3  119.4  EASTERN_CONF   \nHOU_2019     HOU  53  29  0.646   4.0  53  29  113.9  109.1  WESTERN_CONF   \nHOU_2018     HOU  65  17  0.793   0.0  61  21  112.4  103.9  WESTERN_CONF   \nLAL_2018     LAL  35  47  0.427  30.0  37  45  108.1  109.6  WESTERN_CONF   \nWAS_2019     WAS  32  50  0.390  28.0  34  48  114.0  116.9  EASTERN_CONF   \nORL_2019     ORL  42  40  0.512  18.0  43  39  107.3  106.6  EASTERN_CONF   \nMIL_2019     MIL  60  22  0.732   0.0  61  21  118.1  109.3  EASTERN_CONF   \nPHO_2018     PHO  21  61  0.256  44.0  19  63  103.9  113.3  WESTERN_CONF   \nNOP_2019     NOP  33  49  0.402  24.0  38  44  115.4  116.8  WESTERN_CONF   \nIND_2019     IND  48  34  0.585  12.0  50  32  108.0  104.7  EASTERN_CONF   \nUTA_2019     UTA  50  32  0.610   7.0  54  28  111.7  106.5  WESTERN_CONF   \nNYK_2018     NYK  29  53  0.354  30.0  32  50  104.5  108.0  EASTERN_CONF   \nPOR_2019     POR  53  29  0.646   4.0  51  31  114.7  110.5  WESTERN_CONF   \nCHI_2019     CHI  22  60  0.268  38.0  21  61  104.9  113.4  EASTERN_CONF   \n\n             CONF_RANK  SEASON  \nTEAM_SEASON                     \nBOS_2018             1    2018  \nSAS_2019             7    2019  \nCHO_2019             8    2019  \nOKC_2019             5    2019  \nMEM_2018            13    2018  \nDET_2018             8    2018  \nATL_2019            11    2019  \nHOU_2019             2    2019  \nHOU_2018             0    2018  \nLAL_2018            10    2018  \nWAS_2019            10    2019  \nORL_2019             5    2019  \nMIL_2019             0    2019  \nPHO_2018            14    2018  \nNOP_2019            13    2019  \nIND_2019             4    2019  \nUTA_2019             4    2019  \nNYK_2018            10    2018  \nPOR_2019             3    2019  \nCHI_2019            12    2019  ",
      "text/html": "<div>\n<style scoped>\n    .dataframe tbody tr th:only-of-type {\n        vertical-align: middle;\n    }\n\n    .dataframe tbody tr th {\n        vertical-align: top;\n    }\n\n    .dataframe thead th {\n        text-align: right;\n    }\n</style>\n<table border=\"1\" class=\"dataframe\">\n  <thead>\n    <tr style=\"text-align: right;\">\n      <th></th>\n      <th>TEAM</th>\n      <th>W</th>\n      <th>L</th>\n      <th>W/L%</th>\n      <th>GB</th>\n      <th>PW</th>\n      <th>PL</th>\n      <th>PS/G</th>\n      <th>PA/G</th>\n      <th>CONF</th>\n      <th>CONF_RANK</th>\n      <th>SEASON</th>\n    </tr>\n    <tr>\n      <th>TEAM_SEASON</th>\n      <th></th>\n      <th></th>\n      <th></th>\n      <th></th>\n      <th></th>\n      <th></th>\n      <th></th>\n      <th></th>\n      <th></th>\n      <th></th>\n      <th></th>\n      <th></th>\n    </tr>\n  </thead>\n  <tbody>\n    <tr>\n      <th>BOS_2018</th>\n      <td>BOS</td>\n      <td>55</td>\n      <td>27</td>\n      <td>0.671</td>\n      <td>4.0</td>\n      <td>51</td>\n      <td>31</td>\n      <td>104.0</td>\n      <td>100.4</td>\n      <td>EASTERN_CONF</td>\n      <td>1</td>\n      <td>2018</td>\n    </tr>\n    <tr>\n      <th>SAS_2019</th>\n      <td>SAS</td>\n      <td>48</td>\n      <td>34</td>\n      <td>0.585</td>\n      <td>9.0</td>\n      <td>45</td>\n      <td>37</td>\n      <td>111.7</td>\n      <td>110.0</td>\n      <td>WESTERN_CONF</td>\n      <td>7</td>\n      <td>2019</td>\n    </tr>\n    <tr>\n      <th>CHO_2019</th>\n      <td>CHO</td>\n      <td>39</td>\n      <td>43</td>\n      <td>0.476</td>\n      <td>21.0</td>\n      <td>38</td>\n      <td>44</td>\n      <td>110.7</td>\n      <td>111.8</td>\n      <td>EASTERN_CONF</td>\n      <td>8</td>\n      <td>2019</td>\n    </tr>\n    <tr>\n      <th>OKC_2019</th>\n      <td>OKC</td>\n      <td>49</td>\n      <td>33</td>\n      <td>0.598</td>\n      <td>8.0</td>\n      <td>50</td>\n      <td>32</td>\n      <td>114.5</td>\n      <td>111.1</td>\n      <td>WESTERN_CONF</td>\n      <td>5</td>\n      <td>2019</td>\n    </tr>\n    <tr>\n      <th>MEM_2018</th>\n      <td>MEM</td>\n      <td>22</td>\n      <td>60</td>\n      <td>0.268</td>\n      <td>43.0</td>\n      <td>25</td>\n      <td>57</td>\n      <td>99.3</td>\n      <td>105.5</td>\n      <td>WESTERN_CONF</td>\n      <td>13</td>\n      <td>2018</td>\n    </tr>\n    <tr>\n      <th>DET_2018</th>\n      <td>DET</td>\n      <td>39</td>\n      <td>43</td>\n      <td>0.476</td>\n      <td>20.0</td>\n      <td>41</td>\n      <td>41</td>\n      <td>103.8</td>\n      <td>103.9</td>\n      <td>EASTERN_CONF</td>\n      <td>8</td>\n      <td>2018</td>\n    </tr>\n    <tr>\n      <th>ATL_2019</th>\n      <td>ATL</td>\n      <td>29</td>\n      <td>53</td>\n      <td>0.354</td>\n      <td>31.0</td>\n      <td>27</td>\n      <td>55</td>\n      <td>113.3</td>\n      <td>119.4</td>\n      <td>EASTERN_CONF</td>\n      <td>11</td>\n      <td>2019</td>\n    </tr>\n    <tr>\n      <th>HOU_2019</th>\n      <td>HOU</td>\n      <td>53</td>\n      <td>29</td>\n      <td>0.646</td>\n      <td>4.0</td>\n      <td>53</td>\n      <td>29</td>\n      <td>113.9</td>\n      <td>109.1</td>\n      <td>WESTERN_CONF</td>\n      <td>2</td>\n      <td>2019</td>\n    </tr>\n    <tr>\n      <th>HOU_2018</th>\n      <td>HOU</td>\n      <td>65</td>\n      <td>17</td>\n      <td>0.793</td>\n      <td>0.0</td>\n      <td>61</td>\n      <td>21</td>\n      <td>112.4</td>\n      <td>103.9</td>\n      <td>WESTERN_CONF</td>\n      <td>0</td>\n      <td>2018</td>\n    </tr>\n    <tr>\n      <th>LAL_2018</th>\n      <td>LAL</td>\n      <td>35</td>\n      <td>47</td>\n      <td>0.427</td>\n      <td>30.0</td>\n      <td>37</td>\n      <td>45</td>\n      <td>108.1</td>\n      <td>109.6</td>\n      <td>WESTERN_CONF</td>\n      <td>10</td>\n      <td>2018</td>\n    </tr>\n    <tr>\n      <th>WAS_2019</th>\n      <td>WAS</td>\n      <td>32</td>\n      <td>50</td>\n      <td>0.390</td>\n      <td>28.0</td>\n      <td>34</td>\n      <td>48</td>\n      <td>114.0</td>\n      <td>116.9</td>\n      <td>EASTERN_CONF</td>\n      <td>10</td>\n      <td>2019</td>\n    </tr>\n    <tr>\n      <th>ORL_2019</th>\n      <td>ORL</td>\n      <td>42</td>\n      <td>40</td>\n      <td>0.512</td>\n      <td>18.0</td>\n      <td>43</td>\n      <td>39</td>\n      <td>107.3</td>\n      <td>106.6</td>\n      <td>EASTERN_CONF</td>\n      <td>5</td>\n      <td>2019</td>\n    </tr>\n    <tr>\n      <th>MIL_2019</th>\n      <td>MIL</td>\n      <td>60</td>\n      <td>22</td>\n      <td>0.732</td>\n      <td>0.0</td>\n      <td>61</td>\n      <td>21</td>\n      <td>118.1</td>\n      <td>109.3</td>\n      <td>EASTERN_CONF</td>\n      <td>0</td>\n      <td>2019</td>\n    </tr>\n    <tr>\n      <th>PHO_2018</th>\n      <td>PHO</td>\n      <td>21</td>\n      <td>61</td>\n      <td>0.256</td>\n      <td>44.0</td>\n      <td>19</td>\n      <td>63</td>\n      <td>103.9</td>\n      <td>113.3</td>\n      <td>WESTERN_CONF</td>\n      <td>14</td>\n      <td>2018</td>\n    </tr>\n    <tr>\n      <th>NOP_2019</th>\n      <td>NOP</td>\n      <td>33</td>\n      <td>49</td>\n      <td>0.402</td>\n      <td>24.0</td>\n      <td>38</td>\n      <td>44</td>\n      <td>115.4</td>\n      <td>116.8</td>\n      <td>WESTERN_CONF</td>\n      <td>13</td>\n      <td>2019</td>\n    </tr>\n    <tr>\n      <th>IND_2019</th>\n      <td>IND</td>\n      <td>48</td>\n      <td>34</td>\n      <td>0.585</td>\n      <td>12.0</td>\n      <td>50</td>\n      <td>32</td>\n      <td>108.0</td>\n      <td>104.7</td>\n      <td>EASTERN_CONF</td>\n      <td>4</td>\n      <td>2019</td>\n    </tr>\n    <tr>\n      <th>UTA_2019</th>\n      <td>UTA</td>\n      <td>50</td>\n      <td>32</td>\n      <td>0.610</td>\n      <td>7.0</td>\n      <td>54</td>\n      <td>28</td>\n      <td>111.7</td>\n      <td>106.5</td>\n      <td>WESTERN_CONF</td>\n      <td>4</td>\n      <td>2019</td>\n    </tr>\n    <tr>\n      <th>NYK_2018</th>\n      <td>NYK</td>\n      <td>29</td>\n      <td>53</td>\n      <td>0.354</td>\n      <td>30.0</td>\n      <td>32</td>\n      <td>50</td>\n      <td>104.5</td>\n      <td>108.0</td>\n      <td>EASTERN_CONF</td>\n      <td>10</td>\n      <td>2018</td>\n    </tr>\n    <tr>\n      <th>POR_2019</th>\n      <td>POR</td>\n      <td>53</td>\n      <td>29</td>\n      <td>0.646</td>\n      <td>4.0</td>\n      <td>51</td>\n      <td>31</td>\n      <td>114.7</td>\n      <td>110.5</td>\n      <td>WESTERN_CONF</td>\n      <td>3</td>\n      <td>2019</td>\n    </tr>\n    <tr>\n      <th>CHI_2019</th>\n      <td>CHI</td>\n      <td>22</td>\n      <td>60</td>\n      <td>0.268</td>\n      <td>38.0</td>\n      <td>21</td>\n      <td>61</td>\n      <td>104.9</td>\n      <td>113.4</td>\n      <td>EASTERN_CONF</td>\n      <td>12</td>\n      <td>2019</td>\n    </tr>\n  </tbody>\n</table>\n</div>"
     },
     "metadata": {},
     "execution_count": 3
    }
   ],
   "source": [
    "stats.sample(20)"
   ]
  },
  {
   "cell_type": "code",
   "execution_count": 4,
   "metadata": {
    "tags": []
   },
   "outputs": [
    {
     "output_type": "stream",
     "name": "stdout",
     "text": "Conferences: EASTERN_CONF,WESTERN_CONF\nConferences: EASTERN_CONF,WESTERN_CONF\nConferences: EASTERN_CONF,WESTERN_CONF\nConferences: EASTERN_CONF,WESTERN_CONF\nConferences: EASTERN_CONF,WESTERN_CONF\nConferences: EASTERN_CONF,WESTERN_CONF\nConferences: EASTERN_CONF,WESTERN_CONF\nConferences: EASTERN_CONF,WESTERN_CONF\nConferences: EASTERN_CONF,WESTERN_CONF\nConferences: EASTERN_CONF,WESTERN_CONF\nConferences: EASTERN_CONF,WESTERN_CONF\nConferences: EASTERN_CONF,WESTERN_CONF\nConferences: EASTERN_CONF,WESTERN_CONF\nConferences: EASTERN_CONF,WESTERN_CONF\nConferences: EASTERN_CONF,WESTERN_CONF\nConferences: EASTERN_CONF,WESTERN_CONF\nConferences: EASTERN_CONF,WESTERN_CONF\nConferences: EASTERN_CONF,WESTERN_CONF\nConferences: EASTERN_CONF,WESTERN_CONF\nConferences: EASTERN_CONF,WESTERN_CONF\nConferences: EASTERN_CONF,WESTERN_CONF\nConferences: EASTERN_CONF,WESTERN_CONF\nConferences: EASTERN_CONF,WESTERN_CONF\nConferences: EASTERN_CONF,WESTERN_CONF\nConferences: EASTERN_CONF,WESTERN_CONF\nConferences: EASTERN_CONF,WESTERN_CONF\nConferences: EASTERN_CONF,WESTERN_CONF\nConferences: EASTERN_CONF,WESTERN_CONF\nConferences: EASTERN_CONF,WESTERN_CONF\nConferences: EASTERN_CONF,WESTERN_CONF\nConferences: EASTERN_CONF,WESTERN_CONF\nConferences: EASTERN_CONF,WESTERN_CONF\nConferences: EASTERN_CONF,WESTERN_CONF\nConferences: EASTERN_CONF,WESTERN_CONF\nConferences: EASTERN_CONF,WESTERN_CONF\nConferences: EASTERN_CONF,WESTERN_CONF\nConferences: EASTERN_CONF,WESTERN_CONF\nConferences: EASTERN_CONF,WESTERN_CONF\nConferences: EASTERN_CONF,WESTERN_CONF\nConferences: EASTERN_CONF,WESTERN_CONF\nConferences: EASTERN_CONF,WESTERN_CONF\nConferences: EASTERN_CONF,WESTERN_CONF\nConferences: EASTERN_CONF,WESTERN_CONF\nConferences: EASTERN_CONF,WESTERN_CONF\nConferences: EASTERN_CONF,WESTERN_CONF\nConferences: EASTERN_CONF,WESTERN_CONF\nConferences: EASTERN_CONF,WESTERN_CONF\n"
    }
   ],
   "source": [
    "stats = extractor.get_team_standings()\n",
    "stats.to_csv(\"./data/all_teams_standings.csv\")"
   ]
  },
  {
   "cell_type": "code",
   "execution_count": null,
   "metadata": {},
   "outputs": [],
   "source": []
  }
 ],
 "metadata": {
  "language_info": {
   "codemirror_mode": {
    "name": "ipython",
    "version": 3
   },
   "file_extension": ".py",
   "mimetype": "text/x-python",
   "name": "python",
   "nbconvert_exporter": "python",
   "pygments_lexer": "ipython3",
   "version": "3.7.7-final"
  },
  "orig_nbformat": 2,
  "kernelspec": {
   "name": "python37764bitnba1ouegnjovenv4fdc84ead6214ab69fe6eec387d9b7f7",
   "display_name": "Python 3.7.7 64-bit ('nba-1OUeGnJo': venv)"
  }
 },
 "nbformat": 4,
 "nbformat_minor": 2
}