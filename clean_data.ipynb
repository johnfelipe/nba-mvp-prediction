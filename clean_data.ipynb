{
 "cells": [
  {
   "cell_type": "code",
   "execution_count": 1,
   "metadata": {},
   "outputs": [],
   "source": [
    "import pandas\n",
    "from scipy import stats\n",
    "import numpy\n",
    "pandas.set_option('display.max_columns', None)"
   ]
  },
  {
   "cell_type": "code",
   "execution_count": 2,
   "metadata": {},
   "outputs": [],
   "source": [
    "data = pandas.read_csv(\"./data/all_consolidated_raw.csv\")"
   ]
  },
  {
   "cell_type": "code",
   "execution_count": 3,
   "metadata": {},
   "outputs": [
    {
     "output_type": "execute_result",
     "data": {
      "text/plain": [
       "           player_season_team    2P%  2PA_per_100poss  2PA_per_36min  \\\n",
       "5750    GregAnderson_1992_DEN  0.458             14.8           11.0   \n",
       "9392  RubenPatterson_2000_SEA  0.539             15.5           10.9   \n",
       "3451     MichaelCage_1985_LAC  0.543             11.8            8.9   \n",
       "\n",
       "      2PA_per_game  2P_per_100poss  2P_per_36min  2P_per_game    3P%  \\\n",
       "5750          10.4             6.8           5.0          4.7  0.000   \n",
       "9392           7.8             8.4           5.9          4.2  0.444   \n",
       "3451           5.3             6.4           4.8          2.9  0.000   \n",
       "\n",
       "      3PAR_advanced  3PA_per_100poss  3PA_per_36min  3PA_per_game  \\\n",
       "5750          0.005              0.1            0.1           0.0   \n",
       "9392          0.041              0.7            0.5           0.3   \n",
       "3451          0.000              0.0            0.0           0.0   \n",
       "\n",
       "      3P_per_100poss  3P_per_36min  3P_per_game  AGE  AST%_advanced  \\\n",
       "5750             0.0           0.0          0.0   27            4.1   \n",
       "9392             0.3           0.2          0.1   24            9.7   \n",
       "3451             0.0           0.0          0.0   23            4.2   \n",
       "\n",
       "      AST_per_100poss  AST_per_36min  AST_per_game  BLK%_advanced  \\\n",
       "5750              1.4            1.0           1.0            1.4   \n",
       "9392              3.1            2.2           1.6            1.3   \n",
       "3451              1.5            1.1           0.7            1.1   \n",
       "\n",
       "      BLK_per_100poss  BLK_per_36min  BLK_per_game  BPM_advanced  \\\n",
       "5750              1.1            0.8           0.8          -3.4   \n",
       "9392              1.0            0.7           0.5           1.9   \n",
       "3451              0.9            0.7           0.4          -1.5   \n",
       "\n",
       "      DBPM_advanced  DRB%_advanced  DRB_per_100poss  DRB_per_36min  \\\n",
       "5750           -1.1           24.7             10.5            7.8   \n",
       "9392            0.1           11.4              5.3            3.7   \n",
       "3451           -0.2           17.7              7.9            5.9   \n",
       "\n",
       "      DRB_per_game  DRTG_per_100poss  DWS_advanced  EFG%_per_game    FG%  \\\n",
       "5750           7.4             106.0           3.6          0.456  0.456   \n",
       "9392           2.7             104.0           2.1          0.545  0.536   \n",
       "3451           3.5             109.0           1.4          0.543  0.543   \n",
       "\n",
       "      FGA_per_100poss  FGA_per_36min  FGA_per_game  FG_per_100poss  \\\n",
       "5750             14.9           11.0          10.4             6.8   \n",
       "9392             16.2           11.3           8.2             8.7   \n",
       "3451             11.8            8.9           5.3             6.4   \n",
       "\n",
       "      FG_per_36min  FG_per_game    FT%  FTA_per_100poss  FTA_per_36min  \\\n",
       "5750           5.0          4.7  0.623              4.7            3.5   \n",
       "9392           6.1          4.4  0.692              7.9            5.5   \n",
       "3451           4.8          2.9  0.737              4.0            3.1   \n",
       "\n",
       "      FTA_per_game  FTR_advanced  FT_per_100poss  FT_per_36min  FT_per_game  \\\n",
       "5750           3.3         0.314             2.9           2.2          2.0   \n",
       "9392           4.0         0.486             5.4           3.8          2.7   \n",
       "3451           1.8         0.344             3.0           2.3          1.3   \n",
       "\n",
       "       G    GS  MP_advanced  MP_per_100poss  MP_per_36min  MP_per_game  \\\n",
       "5750  82  82.0         2793            2793          2793         34.1   \n",
       "9392  81  74.0         2097            2097          2097         25.9   \n",
       "3451  75  41.0         1610            1610          1610         21.5   \n",
       "\n",
       "      OBPM_advanced  ORB%_advanced  ORB_per_100poss  ORB_per_36min  \\\n",
       "5750           -2.4           12.3              5.9            4.3   \n",
       "9392            1.8           11.3              5.3            3.7   \n",
       "3451           -1.3            9.0              3.7            2.8   \n",
       "\n",
       "      ORB_per_game  ORTG_per_100poss  OWS_advanced  PER_advanced  \\\n",
       "5750           4.1              98.0          -0.6          12.6   \n",
       "9392           2.7             113.0           4.6          18.8   \n",
       "3451           1.7             113.0           1.8          12.5   \n",
       "\n",
       "      PF_per_100poss  PF_per_36min  PF_per_game          PLAYER POS  \\\n",
       "5750             4.6           3.4          3.2    GregAnderson  PF   \n",
       "9392             4.7           3.3          2.3  RubenPatterson  SF   \n",
       "3451             4.8           3.7          2.2     MichaelCage  PF   \n",
       "\n",
       "      PTS_per_100poss  PTS_per_36min  PTS_per_game  SEASON  STL%_advanced  \\\n",
       "5750             16.5           12.2          11.5    1992            1.5   \n",
       "9392             23.1           16.2          11.6    2000            2.3   \n",
       "3451             15.7           11.9           7.1    1985            1.2   \n",
       "\n",
       "      STL_per_100poss  STL_per_36min  STL_per_game TEAM  TOV%_advanced  \\\n",
       "5750              1.5            1.1           1.1  DEN           17.1   \n",
       "9392              2.3            1.6           1.2  SEA           15.2   \n",
       "3451              1.2            0.9           0.5  LAC           15.0   \n",
       "\n",
       "      TOV_per_100poss  TOV_per_36min  TOV_per_game  TRB%_advanced  \\\n",
       "5750              3.5            2.6           2.5           18.2   \n",
       "9392              3.5            2.5           1.8           11.3   \n",
       "3451              2.4            1.8           1.1           13.5   \n",
       "\n",
       "      TRB_per_100poss  TRB_per_36min  TRB_per_game  TS%_advanced  \\\n",
       "5750             16.4           12.1          11.5         0.486   \n",
       "9392             10.6            7.5           5.4         0.587   \n",
       "3451             11.6            8.8           5.2         0.582   \n",
       "\n",
       "      USG%_advanced  VORP_advanced  WS/48_advanced  WS_advanced  \\\n",
       "5750           17.1           -1.0           0.052          3.0   \n",
       "9392           19.9            2.1           0.153          6.7   \n",
       "3451           13.7            0.2           0.096          3.2   \n",
       "\n",
       "      MVP_VOTES_SHARE MVP_WINNER MVP_PODIUM MVP_CANDIDATE TEAM_SEASON   W   L  \\\n",
       "5750              0.0      False      False         False    DEN_1992  24  58   \n",
       "9392              0.0      False      False         False    SEA_2000  45  37   \n",
       "3451              0.0      False      False         False    LAC_1985  31  51   \n",
       "\n",
       "       W/L%    GB  PW  PL   PS/G   PA/G          CONF  CONF_RANK  \n",
       "5750  0.293  31.0  21  61   99.7  107.6  WESTERN_CONF         13  \n",
       "9392  0.549  22.0  44  38   99.1   98.1  WESTERN_CONF          9  \n",
       "3451  0.378  31.0  30  52  107.1  111.6  WESTERN_CONF         13  "
      ],
      "text/html": "<div>\n<style scoped>\n    .dataframe tbody tr th:only-of-type {\n        vertical-align: middle;\n    }\n\n    .dataframe tbody tr th {\n        vertical-align: top;\n    }\n\n    .dataframe thead th {\n        text-align: right;\n    }\n</style>\n<table border=\"1\" class=\"dataframe\">\n  <thead>\n    <tr style=\"text-align: right;\">\n      <th></th>\n      <th>player_season_team</th>\n      <th>2P%</th>\n      <th>2PA_per_100poss</th>\n      <th>2PA_per_36min</th>\n      <th>2PA_per_game</th>\n      <th>2P_per_100poss</th>\n      <th>2P_per_36min</th>\n      <th>2P_per_game</th>\n      <th>3P%</th>\n      <th>3PAR_advanced</th>\n      <th>3PA_per_100poss</th>\n      <th>3PA_per_36min</th>\n      <th>3PA_per_game</th>\n      <th>3P_per_100poss</th>\n      <th>3P_per_36min</th>\n      <th>3P_per_game</th>\n      <th>AGE</th>\n      <th>AST%_advanced</th>\n      <th>AST_per_100poss</th>\n      <th>AST_per_36min</th>\n      <th>AST_per_game</th>\n      <th>BLK%_advanced</th>\n      <th>BLK_per_100poss</th>\n      <th>BLK_per_36min</th>\n      <th>BLK_per_game</th>\n      <th>BPM_advanced</th>\n      <th>DBPM_advanced</th>\n      <th>DRB%_advanced</th>\n      <th>DRB_per_100poss</th>\n      <th>DRB_per_36min</th>\n      <th>DRB_per_game</th>\n      <th>DRTG_per_100poss</th>\n      <th>DWS_advanced</th>\n      <th>EFG%_per_game</th>\n      <th>FG%</th>\n      <th>FGA_per_100poss</th>\n      <th>FGA_per_36min</th>\n      <th>FGA_per_game</th>\n      <th>FG_per_100poss</th>\n      <th>FG_per_36min</th>\n      <th>FG_per_game</th>\n      <th>FT%</th>\n      <th>FTA_per_100poss</th>\n      <th>FTA_per_36min</th>\n      <th>FTA_per_game</th>\n      <th>FTR_advanced</th>\n      <th>FT_per_100poss</th>\n      <th>FT_per_36min</th>\n      <th>FT_per_game</th>\n      <th>G</th>\n      <th>GS</th>\n      <th>MP_advanced</th>\n      <th>MP_per_100poss</th>\n      <th>MP_per_36min</th>\n      <th>MP_per_game</th>\n      <th>OBPM_advanced</th>\n      <th>ORB%_advanced</th>\n      <th>ORB_per_100poss</th>\n      <th>ORB_per_36min</th>\n      <th>ORB_per_game</th>\n      <th>ORTG_per_100poss</th>\n      <th>OWS_advanced</th>\n      <th>PER_advanced</th>\n      <th>PF_per_100poss</th>\n      <th>PF_per_36min</th>\n      <th>PF_per_game</th>\n      <th>PLAYER</th>\n      <th>POS</th>\n      <th>PTS_per_100poss</th>\n      <th>PTS_per_36min</th>\n      <th>PTS_per_game</th>\n      <th>SEASON</th>\n      <th>STL%_advanced</th>\n      <th>STL_per_100poss</th>\n      <th>STL_per_36min</th>\n      <th>STL_per_game</th>\n      <th>TEAM</th>\n      <th>TOV%_advanced</th>\n      <th>TOV_per_100poss</th>\n      <th>TOV_per_36min</th>\n      <th>TOV_per_game</th>\n      <th>TRB%_advanced</th>\n      <th>TRB_per_100poss</th>\n      <th>TRB_per_36min</th>\n      <th>TRB_per_game</th>\n      <th>TS%_advanced</th>\n      <th>USG%_advanced</th>\n      <th>VORP_advanced</th>\n      <th>WS/48_advanced</th>\n      <th>WS_advanced</th>\n      <th>MVP_VOTES_SHARE</th>\n      <th>MVP_WINNER</th>\n      <th>MVP_PODIUM</th>\n      <th>MVP_CANDIDATE</th>\n      <th>TEAM_SEASON</th>\n      <th>W</th>\n      <th>L</th>\n      <th>W/L%</th>\n      <th>GB</th>\n      <th>PW</th>\n      <th>PL</th>\n      <th>PS/G</th>\n      <th>PA/G</th>\n      <th>CONF</th>\n      <th>CONF_RANK</th>\n    </tr>\n  </thead>\n  <tbody>\n    <tr>\n      <th>5750</th>\n      <td>GregAnderson_1992_DEN</td>\n      <td>0.458</td>\n      <td>14.8</td>\n      <td>11.0</td>\n      <td>10.4</td>\n      <td>6.8</td>\n      <td>5.0</td>\n      <td>4.7</td>\n      <td>0.000</td>\n      <td>0.005</td>\n      <td>0.1</td>\n      <td>0.1</td>\n      <td>0.0</td>\n      <td>0.0</td>\n      <td>0.0</td>\n      <td>0.0</td>\n      <td>27</td>\n      <td>4.1</td>\n      <td>1.4</td>\n      <td>1.0</td>\n      <td>1.0</td>\n      <td>1.4</td>\n      <td>1.1</td>\n      <td>0.8</td>\n      <td>0.8</td>\n      <td>-3.4</td>\n      <td>-1.1</td>\n      <td>24.7</td>\n      <td>10.5</td>\n      <td>7.8</td>\n      <td>7.4</td>\n      <td>106.0</td>\n      <td>3.6</td>\n      <td>0.456</td>\n      <td>0.456</td>\n      <td>14.9</td>\n      <td>11.0</td>\n      <td>10.4</td>\n      <td>6.8</td>\n      <td>5.0</td>\n      <td>4.7</td>\n      <td>0.623</td>\n      <td>4.7</td>\n      <td>3.5</td>\n      <td>3.3</td>\n      <td>0.314</td>\n      <td>2.9</td>\n      <td>2.2</td>\n      <td>2.0</td>\n      <td>82</td>\n      <td>82.0</td>\n      <td>2793</td>\n      <td>2793</td>\n      <td>2793</td>\n      <td>34.1</td>\n      <td>-2.4</td>\n      <td>12.3</td>\n      <td>5.9</td>\n      <td>4.3</td>\n      <td>4.1</td>\n      <td>98.0</td>\n      <td>-0.6</td>\n      <td>12.6</td>\n      <td>4.6</td>\n      <td>3.4</td>\n      <td>3.2</td>\n      <td>GregAnderson</td>\n      <td>PF</td>\n      <td>16.5</td>\n      <td>12.2</td>\n      <td>11.5</td>\n      <td>1992</td>\n      <td>1.5</td>\n      <td>1.5</td>\n      <td>1.1</td>\n      <td>1.1</td>\n      <td>DEN</td>\n      <td>17.1</td>\n      <td>3.5</td>\n      <td>2.6</td>\n      <td>2.5</td>\n      <td>18.2</td>\n      <td>16.4</td>\n      <td>12.1</td>\n      <td>11.5</td>\n      <td>0.486</td>\n      <td>17.1</td>\n      <td>-1.0</td>\n      <td>0.052</td>\n      <td>3.0</td>\n      <td>0.0</td>\n      <td>False</td>\n      <td>False</td>\n      <td>False</td>\n      <td>DEN_1992</td>\n      <td>24</td>\n      <td>58</td>\n      <td>0.293</td>\n      <td>31.0</td>\n      <td>21</td>\n      <td>61</td>\n      <td>99.7</td>\n      <td>107.6</td>\n      <td>WESTERN_CONF</td>\n      <td>13</td>\n    </tr>\n    <tr>\n      <th>9392</th>\n      <td>RubenPatterson_2000_SEA</td>\n      <td>0.539</td>\n      <td>15.5</td>\n      <td>10.9</td>\n      <td>7.8</td>\n      <td>8.4</td>\n      <td>5.9</td>\n      <td>4.2</td>\n      <td>0.444</td>\n      <td>0.041</td>\n      <td>0.7</td>\n      <td>0.5</td>\n      <td>0.3</td>\n      <td>0.3</td>\n      <td>0.2</td>\n      <td>0.1</td>\n      <td>24</td>\n      <td>9.7</td>\n      <td>3.1</td>\n      <td>2.2</td>\n      <td>1.6</td>\n      <td>1.3</td>\n      <td>1.0</td>\n      <td>0.7</td>\n      <td>0.5</td>\n      <td>1.9</td>\n      <td>0.1</td>\n      <td>11.4</td>\n      <td>5.3</td>\n      <td>3.7</td>\n      <td>2.7</td>\n      <td>104.0</td>\n      <td>2.1</td>\n      <td>0.545</td>\n      <td>0.536</td>\n      <td>16.2</td>\n      <td>11.3</td>\n      <td>8.2</td>\n      <td>8.7</td>\n      <td>6.1</td>\n      <td>4.4</td>\n      <td>0.692</td>\n      <td>7.9</td>\n      <td>5.5</td>\n      <td>4.0</td>\n      <td>0.486</td>\n      <td>5.4</td>\n      <td>3.8</td>\n      <td>2.7</td>\n      <td>81</td>\n      <td>74.0</td>\n      <td>2097</td>\n      <td>2097</td>\n      <td>2097</td>\n      <td>25.9</td>\n      <td>1.8</td>\n      <td>11.3</td>\n      <td>5.3</td>\n      <td>3.7</td>\n      <td>2.7</td>\n      <td>113.0</td>\n      <td>4.6</td>\n      <td>18.8</td>\n      <td>4.7</td>\n      <td>3.3</td>\n      <td>2.3</td>\n      <td>RubenPatterson</td>\n      <td>SF</td>\n      <td>23.1</td>\n      <td>16.2</td>\n      <td>11.6</td>\n      <td>2000</td>\n      <td>2.3</td>\n      <td>2.3</td>\n      <td>1.6</td>\n      <td>1.2</td>\n      <td>SEA</td>\n      <td>15.2</td>\n      <td>3.5</td>\n      <td>2.5</td>\n      <td>1.8</td>\n      <td>11.3</td>\n      <td>10.6</td>\n      <td>7.5</td>\n      <td>5.4</td>\n      <td>0.587</td>\n      <td>19.9</td>\n      <td>2.1</td>\n      <td>0.153</td>\n      <td>6.7</td>\n      <td>0.0</td>\n      <td>False</td>\n      <td>False</td>\n      <td>False</td>\n      <td>SEA_2000</td>\n      <td>45</td>\n      <td>37</td>\n      <td>0.549</td>\n      <td>22.0</td>\n      <td>44</td>\n      <td>38</td>\n      <td>99.1</td>\n      <td>98.1</td>\n      <td>WESTERN_CONF</td>\n      <td>9</td>\n    </tr>\n    <tr>\n      <th>3451</th>\n      <td>MichaelCage_1985_LAC</td>\n      <td>0.543</td>\n      <td>11.8</td>\n      <td>8.9</td>\n      <td>5.3</td>\n      <td>6.4</td>\n      <td>4.8</td>\n      <td>2.9</td>\n      <td>0.000</td>\n      <td>0.000</td>\n      <td>0.0</td>\n      <td>0.0</td>\n      <td>0.0</td>\n      <td>0.0</td>\n      <td>0.0</td>\n      <td>0.0</td>\n      <td>23</td>\n      <td>4.2</td>\n      <td>1.5</td>\n      <td>1.1</td>\n      <td>0.7</td>\n      <td>1.1</td>\n      <td>0.9</td>\n      <td>0.7</td>\n      <td>0.4</td>\n      <td>-1.5</td>\n      <td>-0.2</td>\n      <td>17.7</td>\n      <td>7.9</td>\n      <td>5.9</td>\n      <td>3.5</td>\n      <td>109.0</td>\n      <td>1.4</td>\n      <td>0.543</td>\n      <td>0.543</td>\n      <td>11.8</td>\n      <td>8.9</td>\n      <td>5.3</td>\n      <td>6.4</td>\n      <td>4.8</td>\n      <td>2.9</td>\n      <td>0.737</td>\n      <td>4.0</td>\n      <td>3.1</td>\n      <td>1.8</td>\n      <td>0.344</td>\n      <td>3.0</td>\n      <td>2.3</td>\n      <td>1.3</td>\n      <td>75</td>\n      <td>41.0</td>\n      <td>1610</td>\n      <td>1610</td>\n      <td>1610</td>\n      <td>21.5</td>\n      <td>-1.3</td>\n      <td>9.0</td>\n      <td>3.7</td>\n      <td>2.8</td>\n      <td>1.7</td>\n      <td>113.0</td>\n      <td>1.8</td>\n      <td>12.5</td>\n      <td>4.8</td>\n      <td>3.7</td>\n      <td>2.2</td>\n      <td>MichaelCage</td>\n      <td>PF</td>\n      <td>15.7</td>\n      <td>11.9</td>\n      <td>7.1</td>\n      <td>1985</td>\n      <td>1.2</td>\n      <td>1.2</td>\n      <td>0.9</td>\n      <td>0.5</td>\n      <td>LAC</td>\n      <td>15.0</td>\n      <td>2.4</td>\n      <td>1.8</td>\n      <td>1.1</td>\n      <td>13.5</td>\n      <td>11.6</td>\n      <td>8.8</td>\n      <td>5.2</td>\n      <td>0.582</td>\n      <td>13.7</td>\n      <td>0.2</td>\n      <td>0.096</td>\n      <td>3.2</td>\n      <td>0.0</td>\n      <td>False</td>\n      <td>False</td>\n      <td>False</td>\n      <td>LAC_1985</td>\n      <td>31</td>\n      <td>51</td>\n      <td>0.378</td>\n      <td>31.0</td>\n      <td>30</td>\n      <td>52</td>\n      <td>107.1</td>\n      <td>111.6</td>\n      <td>WESTERN_CONF</td>\n      <td>13</td>\n    </tr>\n  </tbody>\n</table>\n</div>"
     },
     "metadata": {},
     "execution_count": 3
    }
   ],
   "source": [
    "data.sample(3)"
   ]
  },
  {
   "cell_type": "markdown",
   "metadata": {},
   "source": [
    "## 1. Fill NAN"
   ]
  },
  {
   "cell_type": "code",
   "execution_count": 4,
   "metadata": {},
   "outputs": [
    {
     "output_type": "execute_result",
     "data": {
      "text/plain": [
       "20197"
      ]
     },
     "metadata": {},
     "execution_count": 4
    }
   ],
   "source": [
    "len(data)"
   ]
  },
  {
   "cell_type": "code",
   "execution_count": 5,
   "metadata": {},
   "outputs": [],
   "source": [
    "def safe_drop(dataframe, cols):\n",
    "    cols = [col for col in cols if col in dataframe.columns]\n",
    "    dataframe = dataframe.drop(cols, axis='columns', inplace=False)\n",
    "    return dataframe"
   ]
  },
  {
   "cell_type": "code",
   "execution_count": 7,
   "metadata": {},
   "outputs": [],
   "source": [
    "def drop_columns_by_nan_ratio(dataframe, ratio:float):\n",
    "    if not 0. <= ratio <= 1.:\n",
    "        raise ValueError(\"Ratio must be between 0 and 1\")\n",
    "    else:\n",
    "        ratios = data.isna().sum(axis = 'index') / len(data)\n",
    "        ratios = ratios[ratios > ratio]\n",
    "        cols = ratios.index.tolist()\n",
    "        print(\"Dropping\", cols, \"...\")\n",
    "        dataframe = dataframe.drop(cols, axis='columns', inplace=False)\n",
    "        return dataframe"
   ]
  },
  {
   "cell_type": "code",
   "execution_count": 9,
   "metadata": {},
   "outputs": [
    {
     "output_type": "execute_result",
     "data": {
      "text/plain": [
       "GS                  2220\n",
       "TOV%_advanced       1073\n",
       "ORTG_per_100poss    1057\n",
       "TOV_per_100poss     1008\n",
       "TOV_per_36min       1008\n",
       "USG%_advanced       1008\n",
       "TOV_per_game        1003\n",
       "FT%                  854\n",
       "MVP_CANDIDATE        591\n",
       "MVP_PODIUM           591\n",
       "dtype: int64"
      ]
     },
     "metadata": {},
     "execution_count": 9
    }
   ],
   "source": [
    "data.isna().sum(axis = 'index').sort_values(ascending=False).head(10)"
   ]
  },
  {
   "cell_type": "code",
   "execution_count": 10,
   "metadata": {
    "tags": []
   },
   "outputs": [
    {
     "output_type": "stream",
     "name": "stdout",
     "text": [
      "Dropping ['GS'] ...\n"
     ]
    }
   ],
   "source": [
    "data = drop_columns_by_nan_ratio(data, 0.1)"
   ]
  },
  {
   "cell_type": "code",
   "execution_count": 11,
   "metadata": {},
   "outputs": [],
   "source": [
    "data[\"MVP_PODIUM\"] = data[\"MVP_PODIUM\"].fillna(False)\n",
    "data[\"MVP_CANDIDATE\"] = data[\"MVP_CANDIDATE\"].fillna(False)\n",
    "data[\"MVP_WINNER\"] = data[\"MVP_WINNER\"].fillna(False)\n",
    "data[\"MVP_VOTES_SHARE\"] = data[\"MVP_VOTES_SHARE\"].fillna(0.)"
   ]
  },
  {
   "cell_type": "code",
   "execution_count": 12,
   "metadata": {},
   "outputs": [
    {
     "output_type": "execute_result",
     "data": {
      "text/plain": [
       "TOV%_advanced       1073\n",
       "ORTG_per_100poss    1057\n",
       "USG%_advanced       1008\n",
       "TOV_per_36min       1008\n",
       "TOV_per_100poss     1008\n",
       "TOV_per_game        1003\n",
       "FT%                  854\n",
       "2P%                  152\n",
       "FTR_advanced          98\n",
       "FG%                   98\n",
       "dtype: int64"
      ]
     },
     "metadata": {},
     "execution_count": 12
    }
   ],
   "source": [
    "data.isna().sum(axis = 'index').sort_values(ascending=False).head(10)"
   ]
  },
  {
   "cell_type": "code",
   "execution_count": 23,
   "metadata": {
    "tags": []
   },
   "outputs": [
    {
     "output_type": "stream",
     "name": "stdout",
     "text": [
      "Not dropping NAN on col TOV%_advanced because some MVPs candidates have NAN too\nNot dropping NAN on col TOV_per_100poss because some MVPs candidates have NAN too\nNot dropping NAN on col TOV_per_36min because some MVPs candidates have NAN too\nNot dropping NAN on col TOV_per_game because some MVPs candidates have NAN too\nNot dropping NAN on col ORTG_per_100poss because some MVPs candidates have NAN too\nNot dropping NAN on col USG%_advanced because some MVPs candidates have NAN too\n"
     ]
    }
   ],
   "source": [
    "cols_with_nan_all = data.isna().sum(axis = 'index').sort_values(ascending=False)\n",
    "cols_with_nan_all = cols_with_nan_all[cols_with_nan_all>0]\n",
    "cols_with_nan_all = cols_with_nan_all.index.tolist()\n",
    "\n",
    "mvp_candidates = data[data[\"MVP_CANDIDATE\"]==True]\n",
    "\n",
    "cols_with_nan_candidates = mvp_candidates.isna().sum(axis = 'index').sort_values(ascending=False)\n",
    "cols_with_nan_candidates = cols_with_nan_candidates[cols_with_nan_candidates>0]\n",
    "cols_with_nan_candidates = cols_with_nan_candidates.index.tolist()\n",
    "\n",
    "for col in cols_with_nan_all:\n",
    "    if col not in cols_with_nan_candidates:\n",
    "        print(\"Dropping NAN on col\", col, \"because no MVP candidates have NAN...\")\n",
    "        data = data.dropna(subset=[col], axis='index')\n",
    "    else:\n",
    "        print(\"Not dropping NAN on col\", col, \"because some MVPs candidates have NAN too\")"
   ]
  },
  {
   "cell_type": "code",
   "execution_count": 24,
   "metadata": {},
   "outputs": [
    {
     "output_type": "execute_result",
     "data": {
      "text/plain": [
       "TOV%_advanced       982\n",
       "TOV_per_100poss     982\n",
       "TOV_per_36min       982\n",
       "TOV_per_game        982\n",
       "ORTG_per_100poss    982\n",
       "USG%_advanced       982\n",
       "FG%                   0\n",
       "DBPM_advanced         0\n",
       "DRB%_advanced         0\n",
       "DRB_per_100poss       0\n",
       "dtype: int64"
      ]
     },
     "metadata": {},
     "execution_count": 24
    }
   ],
   "source": [
    "data.isna().sum(axis = 'index').sort_values(ascending=False).head(10)"
   ]
  },
  {
   "cell_type": "code",
   "execution_count": 25,
   "metadata": {},
   "outputs": [
    {
     "output_type": "execute_result",
     "data": {
      "text/plain": [
       "array([1974, 1975, 1976, 1977], dtype=int64)"
      ]
     },
     "metadata": {},
     "execution_count": 25
    }
   ],
   "source": [
    "data[data.isna().any(axis=\"columns\")].SEASON.unique()"
   ]
  },
  {
   "cell_type": "code",
   "execution_count": 14,
   "metadata": {},
   "outputs": [],
   "source": [
    "#We will infer values intead of removing years\n",
    "#data = data[data.SEASON > 1977]"
   ]
  },
  {
   "cell_type": "code",
   "execution_count": 30,
   "metadata": {
    "tags": []
   },
   "outputs": [
    {
     "output_type": "stream",
     "name": "stdout",
     "text": [
      "Filling ORTG_per_100poss ...\n",
      "Stat : ORTG_per_100poss | Position : C | MVP candidate : True  | Median : 112.5\n",
      "Stat : ORTG_per_100poss | Position : PF | MVP candidate : True  | Median : 113.0\n",
      "Stat : ORTG_per_100poss | Position : SG | MVP candidate : True  | Median : 114.0\n",
      "Stat : ORTG_per_100poss | Position : SF | MVP candidate : True  | Median : 113.0\n",
      "Stat : ORTG_per_100poss | Position : PG | MVP candidate : True  | Median : 115.0\n",
      "Stat : ORTG_per_100poss | Position : C | MVP candidate : False  | Median : 104.0\n",
      "Stat : ORTG_per_100poss | Position : PF | MVP candidate : False  | Median : 105.0\n",
      "Stat : ORTG_per_100poss | Position : SG | MVP candidate : False  | Median : 103.0\n",
      "Stat : ORTG_per_100poss | Position : SF | MVP candidate : False  | Median : 104.0\n",
      "Stat : ORTG_per_100poss | Position : PG | MVP candidate : False  | Median : 103.0\n",
      "Filling TOV%_advanced ...\n",
      "Stat : TOV%_advanced | Position : C | MVP candidate : True  | Median : 13.2\n",
      "Stat : TOV%_advanced | Position : PF | MVP candidate : True  | Median : 12.2\n",
      "Stat : TOV%_advanced | Position : SG | MVP candidate : True  | Median : 11.5\n",
      "Stat : TOV%_advanced | Position : SF | MVP candidate : True  | Median : 12.3\n",
      "Stat : TOV%_advanced | Position : PG | MVP candidate : True  | Median : 15.6\n",
      "Stat : TOV%_advanced | Position : C | MVP candidate : False  | Median : 15.2\n",
      "Stat : TOV%_advanced | Position : PF | MVP candidate : False  | Median : 13.8\n",
      "Stat : TOV%_advanced | Position : SG | MVP candidate : False  | Median : 12.5\n",
      "Stat : TOV%_advanced | Position : SF | MVP candidate : False  | Median : 12.4\n",
      "Stat : TOV%_advanced | Position : PG | MVP candidate : False  | Median : 16.5\n",
      "Filling TOV_per_100poss ...\n",
      "Stat : TOV_per_100poss | Position : C | MVP candidate : True  | Median : 4.0\n",
      "Stat : TOV_per_100poss | Position : PF | MVP candidate : True  | Median : 3.8\n",
      "Stat : TOV_per_100poss | Position : SG | MVP candidate : True  | Median : 3.8\n",
      "Stat : TOV_per_100poss | Position : SF | MVP candidate : True  | Median : 4.0\n",
      "Stat : TOV_per_100poss | Position : PG | MVP candidate : True  | Median : 4.5\n",
      "Stat : TOV_per_100poss | Position : C | MVP candidate : False  | Median : 2.9\n",
      "Stat : TOV_per_100poss | Position : PF | MVP candidate : False  | Median : 2.8\n",
      "Stat : TOV_per_100poss | Position : SG | MVP candidate : False  | Median : 2.9\n",
      "Stat : TOV_per_100poss | Position : SF | MVP candidate : False  | Median : 2.7\n",
      "Stat : TOV_per_100poss | Position : PG | MVP candidate : False  | Median : 3.6\n",
      "Filling TOV_per_36min ...\n",
      "Stat : TOV_per_36min | Position : C | MVP candidate : True  | Median : 2.8499999999999996\n",
      "Stat : TOV_per_36min | Position : PF | MVP candidate : True  | Median : 2.7\n",
      "Stat : TOV_per_36min | Position : SG | MVP candidate : True  | Median : 2.8\n",
      "Stat : TOV_per_36min | Position : SF | MVP candidate : True  | Median : 2.9\n",
      "Stat : TOV_per_36min | Position : PG | MVP candidate : True  | Median : 3.1\n",
      "Stat : TOV_per_36min | Position : C | MVP candidate : False  | Median : 2.1\n",
      "Stat : TOV_per_36min | Position : PF | MVP candidate : False  | Median : 2.0\n",
      "Stat : TOV_per_36min | Position : SG | MVP candidate : False  | Median : 2.1\n",
      "Stat : TOV_per_36min | Position : SF | MVP candidate : False  | Median : 1.9\n",
      "Stat : TOV_per_36min | Position : PG | MVP candidate : False  | Median : 2.6\n",
      "Filling TOV_per_game ...\n",
      "Stat : TOV_per_game | Position : C | MVP candidate : True  | Median : 2.8\n",
      "Stat : TOV_per_game | Position : PF | MVP candidate : True  | Median : 2.8\n",
      "Stat : TOV_per_game | Position : SG | MVP candidate : True  | Median : 2.8\n",
      "Stat : TOV_per_game | Position : SF | MVP candidate : True  | Median : 3.0\n",
      "Stat : TOV_per_game | Position : PG | MVP candidate : True  | Median : 3.1\n",
      "Stat : TOV_per_game | Position : C | MVP candidate : False  | Median : 0.9\n",
      "Stat : TOV_per_game | Position : PF | MVP candidate : False  | Median : 1.0\n",
      "Stat : TOV_per_game | Position : SG | MVP candidate : False  | Median : 1.1\n",
      "Stat : TOV_per_game | Position : SF | MVP candidate : False  | Median : 1.0\n",
      "Stat : TOV_per_game | Position : PG | MVP candidate : False  | Median : 1.4\n",
      "Filling USG%_advanced ...\n",
      "Stat : USG%_advanced | Position : C | MVP candidate : True  | Median : 26.2\n",
      "Stat : USG%_advanced | Position : PF | MVP candidate : True  | Median : 27.2\n",
      "Stat : USG%_advanced | Position : SG | MVP candidate : True  | Median : 29.3\n",
      "Stat : USG%_advanced | Position : SF | MVP candidate : True  | Median : 28.4\n",
      "Stat : USG%_advanced | Position : PG | MVP candidate : True  | Median : 24.3\n",
      "Stat : USG%_advanced | Position : C | MVP candidate : False  | Median : 16.7\n",
      "Stat : USG%_advanced | Position : PF | MVP candidate : False  | Median : 18.0\n",
      "Stat : USG%_advanced | Position : SG | MVP candidate : False  | Median : 19.7\n",
      "Stat : USG%_advanced | Position : SF | MVP candidate : False  | Median : 18.7\n",
      "Stat : USG%_advanced | Position : PG | MVP candidate : False  | Median : 18.8\n"
     ]
    }
   ],
   "source": [
    "cols_to_fill = data.isna().sum(axis = 'index')\n",
    "cols_to_fill = cols_to_fill[cols_to_fill>0]\n",
    "cols_to_fill = cols_to_fill.index.tolist()\n",
    "\n",
    "# Median of the same position depending on MVP candidate caliber\n",
    "\n",
    "for col in cols_to_fill:\n",
    "    print(\"Filling\", col, \"...\")\n",
    "    for is_mvp_candidate in True, False:\n",
    "        for position in data.POS.unique():\n",
    "            reference = data[(data[\"MVP_CANDIDATE\"]==is_mvp_candidate) & (data[\"POS\"]==position)][col]\n",
    "            reference_median = reference[reference.notna()].median()\n",
    "            print(\"Stat :\", col, \"| Position :\", position, \"| MVP candidate :\", is_mvp_candidate, \" | Median :\", reference_median)\n",
    "            data.loc[(data[\"MVP_CANDIDATE\"]==is_mvp_candidate) & (data[\"POS\"]==position) & (data[col].isna())][col] = reference_median"
   ]
  },
  {
   "cell_type": "code",
   "execution_count": 31,
   "metadata": {},
   "outputs": [
    {
     "output_type": "execute_result",
     "data": {
      "text/plain": [
       "TOV%_advanced       982\n",
       "TOV_per_100poss     982\n",
       "TOV_per_36min       982\n",
       "TOV_per_game        982\n",
       "ORTG_per_100poss    982\n",
       "USG%_advanced       982\n",
       "FG%                   0\n",
       "DBPM_advanced         0\n",
       "DRB%_advanced         0\n",
       "DRB_per_100poss       0\n",
       "dtype: int64"
      ]
     },
     "metadata": {},
     "execution_count": 31
    }
   ],
   "source": [
    "data.isna().sum(axis = 'index').sort_values(ascending=False).head(10)"
   ]
  },
  {
   "cell_type": "markdown",
   "metadata": {},
   "source": [
    "## 2. Remove outliers"
   ]
  },
  {
   "cell_type": "code",
   "execution_count": 16,
   "metadata": {},
   "outputs": [],
   "source": [
    "def pretty_print_df_values(dataframe_values):\n",
    "    entries = []\n",
    "    for v in dataframe_values:\n",
    "        entry = \" :: \".join([str(vi) for vi in v])\n",
    "        entries.append(entry)\n",
    "    print(\"\\n\".join(entries))"
   ]
  },
  {
   "cell_type": "code",
   "execution_count": 17,
   "metadata": {},
   "outputs": [
    {
     "output_type": "execute_result",
     "data": {
      "text/plain": "18761"
     },
     "metadata": {},
     "execution_count": 17
    }
   ],
   "source": [
    "len(data)"
   ]
  },
  {
   "cell_type": "code",
   "execution_count": 18,
   "metadata": {
    "tags": []
   },
   "outputs": [
    {
     "output_type": "stream",
     "name": "stdout",
     "text": "\nOutliers for BLK_per_game in season 1974 :\nElmoreSmith_1974_LAL :: 4.9 :: False\n\nOutliers for FTR_advanced in season 1974 :\nTomPatterson_1974_CAP :: 2.0 :: False\n\nOutliers for TS%_advanced in season 1975 :\nWaltBellamy_1975_NOJ :: 1.042 :: False\n\nOutliers for BLK_per_game in season 1976 :\nKareemAbdulJabbar_1976_LAL :: 4.1 :: True\n\nOutliers for BLK_totals in season 1976 :\nKareemAbdulJabbar_1976_LAL :: 338 :: True\n\nOutliers for FTA_per_36min in season 1976 :\nWaltWesley_1976_LAL :: 20.6 :: False\n\nOutliers for FTA_per_100poss in season 1977 :\nRudyHackett_1977_NYN :: 28.9 :: False\nEarlWilliams_1977_NYN :: 39.7 :: False\n\nOutliers for FTR_advanced in season 1978 :\nJimArd_1978_BOS :: 2.0 :: False\n\nOutliers for AST_totals in season 1979 :\nKevinPorter_1979_DET :: 1099 :: False\n\nOutliers for BLK_totals in season 1979 :\nKareemAbdulJabbar_1979_LAL :: 316 :: True\n\nOutliers for ORB_totals in season 1979 :\nMosesMalone_1979_HOU :: 587 :: True\n\nOutliers for STL%_advanced in season 1979 :\nGusGerard_1979_DET :: 14.9 :: False\nBubblesHawkins_1979_DET :: 8.0 :: False\n\nOutliers for ORB_totals in season 1980 :\nMosesMalone_1980_HOU :: 573 :: True\n\nOutliers for FTA_per_100poss in season 1981 :\nMontiDavis_1981_DAL :: 30.4 :: False\n\nOutliers for ORB%_advanced in season 1981 :\nRoyHamilton_1981_POR :: 43.4 :: False\n\nOutliers for FTR_advanced in season 1982 :\nRockLee_1982_SDC :: 2.0 :: False\n\nOutliers for ORB_totals in season1982 :\nMosesMalone_1982_HOU :: 558 :: True\n\nOutliers for STL%_advanced in season 1982 :\nRogerBurkman_1982_CHI :: 9.7 :: False\n\nOutliers for BLK_per_36min in season 1983 :\nMarkEaton_1983_UTA :: 6.5 :: False\nChuckNevitt_1983_HOU :: 6.8 :: False\n\nOutliers for BLK_per_game in season 1983 :\nTreeRollins_1983_ATL :: 4.3 :: False\n\nOutliers for BLK_per_game in season 1984 :\nMarkEaton_1984_UTA :: 4.3 :: False\n\nOutliers for FTA_per_100poss in season 1984 :\nCharlesJones_1984_PHI :: 64.3 :: False\n\nOutliers for FTR_advanced in season 1984 :\nSteveLingenfelter_1984_SAS :: 2.0 :: False\n\nOutliers for FT_per_36min in season 1984 :\nTracyJackson_1984_IND :: 14.4 :: False\n\nOutliers for AST_totals in season 1985 :\nIsiahThomas_1985_DET :: 1123 :: True\n\nOutliers for BLK%_advanced in season 1985 :\nChuckNevitt_1985_LAL :: 13.7 :: False\n\nOutliers for BLK_per_game in season 1985 :\nMarkEaton_1985_UTA :: 5.6 :: True\n\nOutliers for BLK_totals in season 1985 :\nMarkEaton_1985_UTA :: 456 :: True\n\nOutliers for FTR_advanced in season 1985 :\nTomLaGarde_1985_NJN :: 2.0 :: False\nMarkWest_1985_MIL :: 2.0 :: False\n\nOutliers for BLK_per_game in season 1986 :\nMarkEaton_1986_UTA :: 4.6 :: False\n\nOutliers for FTA_per_100poss in season 1986 :\nRonCrevier_1986_DET :: 30.7 :: False\n\nOutliers for BLK_per_game in season 1987 :\nMarkEaton_1987_UTA :: 4.1 :: False\n\nOutliers for DRB%_advanced in season 1987 :\nCedricHenderson_1987_MIL :: 75.1 :: False\n\nOutliers for ORB%_advanced in season 1987 :\nChrisEngler_1987_POR :: 40.4 :: False\n\nOutliers for STL%_advanced in season 1987 :\nRonRowan_1987_POR :: 11.4 :: False\n\nOutliers for VORP_advanced in season 1987 :\nMichaelJordan_1987_CHI :: 10.6 :: True\n\nOutliers for AST_totals in season 1988 :\nJohnStockton_1988_UTA :: 1128 :: True\n\nOutliers for BLK_totals in season 1988 :\nMarkEaton_1988_UTA :: 304 :: False\n\nOutliers for FTA_per_100poss in season 1988 :\nKevinHenderson_1988_CLE :: 29.6 :: False\n\nOutliers for FTR_advanced in season 1988 :\nTodMurphy_1988_LAC :: 4.0 :: False\n\nOutliers for PF_per_100poss in season 1988 :\nDarrylDawkins_1988_DET :: 27.9 :: False\n\nOutliers for STL%_advanced in season 1988 :\nMichaelPhelps_1988_LAC :: 10.3 :: False\n\nOutliers for VORP_advanced in season 1988 :\nMichaelJordan_1988_CHI :: 12.5 :: True\n\nOutliers for AST_totals in season 1989 :\nJohnStockton_1989_UTA :: 1118 :: True\n\nOutliers for BLK_per_36min in season 1989 :\nManuteBol_1989_GSW :: 7.0 :: False\n\nOutliers for BLK_totals in season 1989 :\nMarkEaton_1989_UTA :: 315 :: True\n\nOutliers for FTR_advanced in season 1989 :\nJimRowinski_1989_DET :: 2.0 :: False\nKennyGattison_1989_PHO :: 2.0 :: False\n\nOutliers for ORB%_advanced in season 1989 :\nOrlandoGraham_1989_GSW :: 36.5 :: False\n\nOutliers for VORP_advanced in season 1989 :\nMichaelJordan_1989_CHI :: 11.4 :: True\n\nOutliers for AST_totals in season 1990 :\nJohnStockton_1990_UTA :: 1134 :: True\n\nOutliers for BLK_per_36min in season 1990 :\nManuteBol_1990_GSW :: 6.5 :: False\n\nOutliers for BLK_per_game in season 1990 :\nHakeemOlajuwon_1990_HOU :: 4.6 :: True\n\nOutliers for BLK_totals in season 1990 :\nDavidRobinson_1990_SAS :: 319 :: True\nHakeemOlajuwon_1990_HOU :: 376 :: True\nPatrickEwing_1990_NYK :: 327 :: True\n\nOutliers for DBPM_advanced in season 1990 :\nHaywoodeWorkman_1990_ATL :: 13.8 :: False\n\nOutliers for FTA_per_100poss in season 1990 :\nTorgeirBryn_1990_LAC :: 29.0 :: False\n\nOutliers for FTR_advanced in season 1990 :\nLeonardTaylor_1990_GSW :: 2.667 :: False\n\nOutliers for VORP_advanced in season 1990 :\nMichaelJordan_1990_CHI :: 10.6 :: True\n\nOutliers for AST_totals in season 1991 :\nJohnStockton_1991_UTA :: 1164 :: True\n\nOutliers for BLK%_advanced in season 1991 :\nDanGodfread_1991_MIN :: 12.7 :: False\n\nOutliers for BLK_per_36min in season 1991 :\nStojkoVrankovi_1991_BOS :: 6.3 :: False\n\nOutliers for BLK_totals in season 1991 :\nDavidRobinson_1991_SAS :: 320 :: True\n\nOutliers for BPM_advanced in season 1991 :\nEveretteStephens_1991_MIL :: 24.6 :: False\nIanLockhart_1991_PHO :: 39.9 :: False\n\nOutliers for FTR_advanced in season 1991 :\nAnthonyMason_1991_DEN :: 2.0 :: False\nBartKofoed_1991_GSW :: 2.0 :: False\n\nOutliers for VORP_advanced in season 1991 :\nMichaelJordan_1991_CHI :: 10.8 :: True\n\nOutliers for 2PA_per_100poss in season 1992 :\nBobThornton_1992_UTA :: 58.6 :: False\n\nOutliers for AST_totals in season 1992 :\nJohnStockton_1992_UTA :: 1126 :: True\n\nOutliers for BLK_per_game in season 1992 :\nDavidRobinson_1992_SAS :: 4.5 :: True\nHakeemOlajuwon_1992_HOU :: 4.3 :: False\n\nOutliers for BLK_totals in season 1992 :\nDavidRobinson_1992_SAS :: 305 :: True\n\nOutliers for DRB%_advanced in season 1992 :\nJeromeLane_1992_MIL :: 59.5 :: False\n\nOutliers for FTR_advanced in season 1992 :\nKennyBattle_1992_BOS :: 2.0 :: False\nSteveScheffler_1992_SAC :: 3.0 :: False\n\nOutliers for PF_per_36min in season 1992 :\nTonyMassenburg_1992_GSW :: 16.4 :: False\n\nOutliers for BLK_per_game in season 1993 :\nHakeemOlajuwon_1993_HOU :: 4.2 :: True\n\nOutliers for BLK_totals in season 1993 :\nDikembeMutombo_1993_DEN :: 287 :: False\nHakeemOlajuwon_1993_HOU :: 342 :: True\nShaquilleONeal_1993_ORL :: 286 :: True\n\nOutliers for FTA_per_100poss in season 1993 :\nDanOSullivan_1993_MIL :: 28.5 :: False\nHenryJames_1993_UTA :: 33.1 :: False\n\nOutliers for FTR_advanced in season 1993 :\nJoeWolf_1993_BOS :: 2.0 :: False\nDaveHoppen_1993_NJN :: 2.0 :: False\n\nOutliers for VORP_advanced in season 1993 :\nMichaelJordan_1993_CHI :: 10.2 :: True\n\nOutliers for BLK_per_game in season 1994 :\nDikembeMutombo_1994_DEN :: 4.1 :: False\n\nOutliers for BLK_totals in season 1994 :\nHakeemOlajuwon_1994_HOU :: 297 :: True\n\nOutliers for DBPM_advanced in season 1994 :\nTracyMoore_1994_DET :: 10.8 :: False\n\nOutliers for ORB%_advanced in season 1994 :\nAndrsGuibert_1994_MIN :: 36.4 :: False\n\nOutliers for PF_per_100poss in season 1994 :\nMarcusLiberty_1994_DEN :: 22.7 :: False\n\nOutliers for STL%_advanced in season 1994 :\nDellDemps_1994_GSW :: 8.8 :: False\n\nOutliers for TS%_advanced in season 1994 :\nChuckyBrown_1994_DAL :: 1.042 :: False\n\nOutliers for VORP_advanced in season 1994 :\nDavidRobinson_1994_SAS :: 11.4 :: True\n\nOutliers for 3PA_per_100poss in season 1995 :\nDarrellArmstrong_1995_ORL :: 37.9 :: False\n\nOutliers for BLK_totals in season 1995 :\nDikembeMutombo_1995_DEN :: 321 :: False\n\nOutliers for DBPM_advanced in season 1995 :\nElmerBennett_1995_CLE :: 12.4 :: False\n\nOutliers for FTA_per_100poss in season 1995 :\nTonyHarris_1995_BOS :: 25.5 :: False\n\nOutliers for FTR_advanced in season 1995 :\nDerrickPhelps_1995_SAC :: 2.0 :: False\n\nOutliers for PF_per_100poss in season 1995 :\nMikePeplowski_1995_DET :: 24.5 :: False\n\nOutliers for STL%_advanced in season 1995 :\nEldridgeRecasner_1995_DEN :: 12.1 :: False\n\nOutliers for BLK%_advanced in season 1996 :\nMikePeplowski_1996_MIL :: 12.8 :: False\n\nOutliers for BLK_per_game in season 1996 :\nDikembeMutombo_1996_DEN :: 4.5 :: False\n\nOutliers for FTA_per_100poss in season 1996 :\nGeertHammink_1996_ORL :: 29.9 :: False\n\nOutliers for FTR_advanced in season 1996 :\nTerrenceRencher_1996_PHO :: 3.0 :: False\n\nOutliers for PF_per_100poss in season 1996 :\nCharlesClaxton_1996_BOS :: 28.5 :: False\n\nOutliers for STL%_advanced in season 1996 :\nHowardNathan_1996_ATL :: 10.7 :: False\n\nOutliers for STL_per_100poss in season 1996 :\nDarrellArmstrong_1996_ORL :: 7.7 :: False\n\nOutliers for BLK%_advanced in season 1997 :\nAntonioHarvey_1997_SEA :: 13.2 :: False\n\nOutliers for BLK_per_game in season 1997 :\nShawnBradley_1997_NJN :: 4.0 :: False\n\nOutliers for FTA_per_100poss in season 1997 :\nMartinMrsepp_1997_MIA :: 28.2 :: False\n\nOutliers for FTR_advanced in season 1997 :\nDarvinHam_1997_IND :: 2.0 :: False\n\nOutliers for STL%_advanced in season 1997 :\nLarryKrystkowiak_1997_LAL :: 9.6 :: False\n\nOutliers for FTA_per_100poss in season 1998 :\nDavidVaughn_1998_CHI :: 35.9 :: False\n\nOutliers for FT_per_100poss in season 1998 :\nKeithBooth_1998_CHI :: 19.0 :: False\n\nOutliers for ORB%_advanced in season 1998 :\nSheaSeals_1998_LAL :: 38.7 :: False\n\nOutliers for STL%_advanced in season 1998 :\nTomChambers_1998_PHI :: 10.6 :: False\n\nOutliers for FTA_per_100poss in season 1999 :\nKevinOllie_1999_ORL :: 27.0 :: False\nCarlosRogers_1999_POR :: 26.9 :: False\nBonziWells_1999_POR :: 27.7 :: False\nShammondWilliams_1999_ATL :: 56.2 :: False\n\nOutliers for FTR_advanced in season 1999 :\nMikkiMoore_1999_DET :: 2.0 :: False\n\nOutliers for ORB%_advanced in season 1999 :\nBenDavis_1999_NYK :: 52.5 :: False\n\nOutliers for PF_per_100poss in season 1999 :\nJeraldHoneycutt_1999_MIL :: 27.6 :: False\n\nOutliers for STL%_advanced in season 1999 :\nAdonisJordan_1999_MIL :: 9.2 :: False\n\nOutliers for BLK_totals in season 2000 :\nAlonzoMourning_2000_MIA :: 294 :: True\n\nOutliers for FTR_advanced in season 2000 :\nMarkHendrickson_2000_NJN :: 2.0 :: False\n\nOutliers for TS%_advanced in season 2000 :\nAntonioLang_2000_PHI :: 1.042 :: False\n\nOutliers for DBPM_advanced in season 2002 :\nMikePenberthy_2002_LAL :: 10.1 :: False\n\nOutliers for FG% in season 2002 :\nReggieSlater_2002_NJN :: 1.0 :: False\n\nOutliers for PF_per_100poss in season 2002 :\nRatkoVarda_2002_DET :: 26.7 :: False\n\nOutliers for FTR_advanced in season 2003 :\nMarkBryant_2003_DEN :: 2.0 :: False\n\nOutliers for PF_per_100poss in season 2003 :\nDonReid_2003_DET :: 22.1 :: False\n\nOutliers for BLK_per_game in season 2004 :\nRasheedWallace_2004_ATL :: 5.0 :: False\nTheoRatliff_2004_POR :: 4.4 :: False\n\nOutliers for FG% in season 2004 :\nKanielDickens_2004_POR :: 1.0 :: False\n\nOutliers for FTA_per_100poss in season 2004 :\nRobertArchibald_2004_ORL :: 26.4 :: False\n\nOutliers for FTR_advanced in season 2004 :\nRobertArchibald_2004_PHO :: 2.0 :: False\nWangZhizhi_2004_LAC :: 4.0 :: False\n\nOutliers for PF_per_100poss in season 2004 :\nCezaryTrybaski_2004_NYK :: 21.4 :: False\n\nOutliers for STL%_advanced in season 2004 :\nAlexGarcia_2004_SAS :: 8.3 :: False\n\nOutliers for 2P_per_100poss in season 2005 :\nJackieButler_2005_NYK :: 42.4 :: False\n\nOutliers for FG% in season 2005 :\nDonnellHarvey_2005_NJN :: 1.0 :: False\n\nOutliers for FTR_advanced in season 2005 :\nGenoCarlisle_2005_POR :: 2.0 :: False\n\nOutliers for PF_per_100poss in season 2005 :\nVinBaker_2005_HOU :: 29.1 :: False\n\nOutliers for STL%_advanced in season 2005 :\nDorellWright_2005_MIA :: 7.8 :: False\n\nOutliers for FG% in season 2006 :\nMattWalsh_2006_MIA :: 1.0 :: False\n\nOutliers for FTA_per_100poss in season 2006 :\nJoshDavis_2006_PHO :: 30.1 :: False\nZendonHamilton_2006_PHI :: 34.5 :: False\n\nOutliers for FTR_advanced in season 2006 :\nPavelPodkolzin_2006_DAL :: 3.0 :: False\nTonyDelk_2006_ATL :: 2.0 :: False\n\nOutliers for STL%_advanced in season 2006 :\nSergeiMonia_2006_SAC :: 7.5 :: False\n\nOutliers for FTR_advanced in season 2007 :\nAlvinWilliams_2007_LAC :: 2.0 :: False\nDwayneJones_2007_CLE :: 6.0 :: False\n\nOutliers for BLK%_advanced in season 2008 :\nIanMahinmi_2008_SAS :: 13.2 :: False\n\nOutliers for BLK_totals in season 2008 :\nMarcusCamby_2008_DEN :: 285 :: False\n\nOutliers for DRB%_advanced in season 2008 :\nJeromeJames_2008_NYK :: 70.6 :: False\n\nOutliers for FG% in season 2008 :\nJelaniMcCoy_2008_DEN :: 1.0 :: False\n\nOutliers for FTA_per_100poss in season 2008 :\nJamaalMagloire_2008_DAL :: 25.6 :: False\nJustinWilliams_2008_HOU :: 35.4 :: False\n\nOutliers for BLK%_advanced in season 2009 :\nMouhamedSene_2009_NYK :: 12.2 :: False\n\nOutliers for FG% in season 2009 :\nEddyCurry_2009_NYK :: 1.0 :: False\n\nOutliers for VORP_advanced in season 2009 :\nLeBronJames_2009_CLE :: 11.8 :: True\n\nOutliers for FG% in season 2010 :\nRyanBowen_2010_OKC :: 1.0 :: False\n\nOutliers for FTA_per_100poss in season 2010 :\nFranciscoElson_2010_PHI :: 39.3 :: False\n\nOutliers for FTR_advanced in season 2010 :\nCedricJackson_2010_CLE :: 2.0 :: False\n\nOutliers for FT_per_100poss in season 2010 :\nShavlikRandolph_2010_POR :: 18.2 :: False\n\nOutliers for VORP_advanced in season 2010 :\nLeBronJames_2010_CLE :: 10.3 :: True\n\nOutliers for 3P_per_100poss in season 2011 :\nPejaStojakovi_2011_TOR :: 9.4 :: False\n\nOutliers for FTR_advanced in season 2011 :\nMarcusBanks_2011_TOR :: 4.0 :: False\nHamadyNDiaye_2011_WAS :: 2.4 :: False\n\nOutliers for STL%_advanced in season 2011 :\nOrienGreene_2011_NJN :: 10.7 :: False\n\nOutliers for FG% in season 2013 :\nJulyanStone_2013_DEN :: 1.0 :: False\n\nOutliers for FTR_advanced in season 2013 :\nMalcolmThomas_2013_GSW :: 4.0 :: False\n\nOutliers for STL%_advanced in season 2013 :\nHakimWarrick_2013_NOH :: 7.7 :: False\n\nOutliers for DRB%_advanced in season 2014 :\nMalcolmThomas_2014_SAS :: 57.8 :: False\n\nOutliers for FG% in season 2014 :\nAndrisBiedri_2014_UTA :: 1.0 :: False\n\nOutliers for FTA_per_100poss in season 2014 :\nDexterPittman_2014_ATL :: 33.8 :: False\n\nOutliers for FTR_advanced in season 2014 :\nDewayneDedmon_2014_GSW :: 2.0 :: False\nTonyMitchell_2014_DET :: 1.5830000000000002 :: False\n\nOutliers for STL%_advanced in season 2014 :\nScottyHopson_2014_CLE :: 7.4 :: False\n\nOutliers for FG% in season 2015 :\nTyrusThomas_2015_MEM :: 1.0 :: False\n\nOutliers for FTR_advanced in season 2015 :\nXavierHenry_2015_LAL :: 1.846 :: False\n\nOutliers for STL%_advanced in season 2015 :\nDwightPowell_2015_BOS :: 11.1 :: False\n\nOutliers for 3PA_totals in season 2016 :\nStephenCurry_2016_GSW :: 886.0 :: True\n\nOutliers for 3P_per_game in season 2016 :\nStephenCurry_2016_GSW :: 5.1 :: True\n\nOutliers for 3P_totals in season 2016 :\nStephenCurry_2016_GSW :: 402.0 :: True\n\nOutliers for BLK%_advanced in season 2016 :\nAlexStepheson_2016_LAC :: 13.1 :: False\nJordanMickey_2016_BOS :: 15.1 :: False\n\nOutliers for STL%_advanced in season 2016 :\nJordanAdams_2016_MEM :: 10.3 :: False\n\nOutliers for 3P_totals in season 2017 :\nStephenCurry_2017_GSW :: 324.0 :: True\n\nOutliers for BLK%_advanced in season 2017 :\nEdyTavares_2017_CLE :: 20.2 :: False\n\nOutliers for DBPM_advanced in season 2017 :\nJarnellStokes_2017_DEN :: 11.9 :: False\n\nOutliers for FG% in season 2017 :\nEdyTavares_2017_ATL :: 1.0 :: False\n\nOutliers for FTR_advanced in season 2017 :\nArchieGoodwin_2017_NOP :: 2.0 :: False\n\nOutliers for FTR_advanced in season 2018 :\nMarshallPlumlee_2018_MIL :: 5.332999999999998 :: False\nScottyHopson_2018_DAL :: 2.0 :: False\n\nOutliers for STL%_advanced in season 2018 :\nBriceJohnson_2018_LAC :: 7.7 :: False\n\nOutliers for 3PA_per_game in season 2019 :\nJamesHarden_2019_HOU :: 13.2 :: True\n\nOutliers for 3PA_totals in season 2019 :\nJamesHarden_2019_HOU :: 1028.0 :: True\n\nOutliers for 3P_per_game in season 2019 :\nJamesHarden_2019_HOU :: 4.8 :: True\nStephenCurry_2019_GSW :: 5.1 :: True\n\nOutliers for 3P_totals in season 2019 :\nJamesHarden_2019_HOU :: 378.0 :: True\nStephenCurry_2019_GSW :: 354.0 :: True\n\nOutliers for BLK%_advanced in season 2019 :\nChrisBoucher_2019_TOR :: 12.2 :: False\nRobertWilliams_2019_BOS :: 12.5 :: False\n\nOutliers for DRB%_advanced in season 2019 :\nAlanWilliams_2019_BRK :: 60.3 :: False\nTerrenceJones_2019_HOU :: 90.3 :: False\n\nOutliers for FTA_per_100poss in season 2019 :\nEmanuelTerry_2019_MIA :: 32.6 :: False\n\nOutliers for PF_per_100poss in season 2019 :\nDonatasMotiejnas_2019_SAS :: 22.5 :: False\n\nOutliers for STL%_advanced in season 2019 :\nKostasAntetokounmpo_2019_DAL :: 8.8 :: False\n\nOutliers for STL_per_36min in season 2019 :\nEmanuelTerry_2019_PHO :: 5.4 :: False\n"
    }
   ],
   "source": [
    "for season in data.SEASON.unique():\n",
    "    for col in data.columns:\n",
    "        if col not in [\"MVP_VOTES_SHARE\", \"MVP_WINNER\", \"MVP_PODIUM\", \"MVP_CANDIDATE\"]:\n",
    "            try:\n",
    "                outliers = data[(stats.zscore(data[col]) > 7) & (data.SEASON==season)][[\"player_season_team\", col, \"MVP_CANDIDATE\"]]\n",
    "                outliers_mvp_candidates = outliers[outliers[\"MVP_CANDIDATE\"]==True][[\"player_season_team\", col]]\n",
    "                outliers_non_mvp_candidates = outliers[outliers[\"MVP_CANDIDATE\"]==False][[\"player_season_team\", col]]\n",
    "                if len(outliers) > 0:\n",
    "                    print()\n",
    "                    print(\"Outliers for\", col, \"in season\", season, \":\")\n",
    "                    pretty_print_df_values(outliers.values)\n",
    "                if len(outliers_non_mvp_candidates) > 0:\n",
    "                    invalid_id = outliers_non_mvp_candidates.index.tolist()\n",
    "                    data = data.loc[~data.index.isin(invalid_id)]\n",
    "            except TypeError:\n",
    "                pass"
   ]
  },
  {
   "cell_type": "code",
   "execution_count": 19,
   "metadata": {},
   "outputs": [
    {
     "output_type": "execute_result",
     "data": {
      "text/plain": "18590"
     },
     "metadata": {},
     "execution_count": 19
    }
   ],
   "source": [
    "len(data)"
   ]
  },
  {
   "cell_type": "markdown",
   "metadata": {},
   "source": [
    "## 3. Remove duplicated columns"
   ]
  },
  {
   "cell_type": "code",
   "execution_count": 26,
   "metadata": {},
   "outputs": [
    {
     "output_type": "execute_result",
     "data": {
      "text/plain": "  EFG%_totals MP_totals\n0       0.459      2459\n1       0.512      1075\n2       0.458      1007\n3       0.451       238\n4       0.491       361",
      "text/html": "<div>\n<style scoped>\n    .dataframe tbody tr th:only-of-type {\n        vertical-align: middle;\n    }\n\n    .dataframe tbody tr th {\n        vertical-align: top;\n    }\n\n    .dataframe thead th {\n        text-align: right;\n    }\n</style>\n<table border=\"1\" class=\"dataframe\">\n  <thead>\n    <tr style=\"text-align: right;\">\n      <th></th>\n      <th>EFG%_totals</th>\n      <th>MP_totals</th>\n    </tr>\n  </thead>\n  <tbody>\n    <tr>\n      <th>0</th>\n      <td>0.459</td>\n      <td>2459</td>\n    </tr>\n    <tr>\n      <th>1</th>\n      <td>0.512</td>\n      <td>1075</td>\n    </tr>\n    <tr>\n      <th>2</th>\n      <td>0.458</td>\n      <td>1007</td>\n    </tr>\n    <tr>\n      <th>3</th>\n      <td>0.451</td>\n      <td>238</td>\n    </tr>\n    <tr>\n      <th>4</th>\n      <td>0.491</td>\n      <td>361</td>\n    </tr>\n  </tbody>\n</table>\n</div>"
     },
     "metadata": {},
     "execution_count": 26
    }
   ],
   "source": [
    "data.T[data.T.duplicated()].T.sample(5)"
   ]
  },
  {
   "cell_type": "code",
   "execution_count": 24,
   "metadata": {},
   "outputs": [],
   "source": [
    "data = data.drop(['MP_per_100poss', 'MP_per_36min'], axis='columns')"
   ]
  },
  {
   "cell_type": "code",
   "execution_count": null,
   "metadata": {},
   "outputs": [],
   "source": [
    "#data = data.T.drop_duplicates(how=\"all\", keep=\"first\").T"
   ]
  },
  {
   "cell_type": "markdown",
   "metadata": {},
   "source": [
    "## Export"
   ]
  },
  {
   "cell_type": "code",
   "execution_count": 28,
   "metadata": {},
   "outputs": [],
   "source": [
    "data.to_csv(\"./data/all.csv\", index=False)"
   ]
  },
  {
   "cell_type": "code",
   "execution_count": null,
   "metadata": {},
   "outputs": [],
   "source": []
  }
 ],
 "metadata": {
  "language_info": {
   "codemirror_mode": {
    "name": "ipython",
    "version": 3
   },
   "file_extension": ".py",
   "mimetype": "text/x-python",
   "name": "python",
   "nbconvert_exporter": "python",
   "pygments_lexer": "ipython3",
   "version": "3.7.7-final"
  },
  "orig_nbformat": 2,
  "kernelspec": {
   "name": "python37764bitnba1ouegnjovenv4fdc84ead6214ab69fe6eec387d9b7f7",
   "display_name": "Python 3.7.7 64-bit ('nba-1OUeGnJo': venv)",
   "language": "python"
  }
 },
 "nbformat": 4,
 "nbformat_minor": 2
}