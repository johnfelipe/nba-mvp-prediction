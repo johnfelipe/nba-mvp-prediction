{
 "cells": [
  {
   "cell_type": "code",
   "execution_count": 1,
   "metadata": {},
   "outputs": [],
   "source": [
    "import pandas\n",
    "from scipy import stats\n",
    "import numpy\n",
    "pandas.set_option('display.max_columns', None)"
   ]
  },
  {
   "cell_type": "code",
   "execution_count": 2,
   "metadata": {},
   "outputs": [],
   "source": [
    "data = pandas.read_csv(\"./data/all_consolidated_raw.csv\")"
   ]
  },
  {
   "cell_type": "code",
   "execution_count": 3,
   "metadata": {},
   "outputs": [
    {
     "output_type": "execute_result",
     "data": {
      "text/plain": "            player_season_team    2P%  2PA_per_100poss  2PA_per_36min  \\\n14    RudyTomjanovich_1974_HOU  0.536             20.6           16.4   \n6587      HaroldMiner_1994_MIA  0.475             19.8           13.9   \n2101   FrankieSanders_1981_KCK  0.442             19.6           14.9   \n\n      2PA_per_game  2PA_totals  2P_per_100poss  2P_per_36min  2P_per_game  \\\n14            18.4        1470            11.0           8.8          9.9   \n6587           8.3         526             9.4           6.6          4.0   \n2101           3.3          77             8.7           6.6          1.5   \n\n      2P_totals    3P%  3PAR_advanced  3PA_per_100poss  3PA_per_36min  \\\n14          788  0.000          0.000              0.0            0.0   \n6587        250  0.667          0.011              0.2            0.2   \n2101         34  0.000          0.000              0.0            0.0   \n\n      3PA_per_game  3PA_totals  3P_per_100poss  3P_per_36min  3P_per_game  \\\n14             0.0         0.0             0.0           0.0          0.0   \n6587           0.1         6.0             0.2           0.1          0.1   \n2101           0.0         0.0             0.0           0.0          0.0   \n\n      3P_totals  AGE  AST%_advanced  AST_per_100poss  AST_per_36min  \\\n14          0.0   25           11.9              3.5            2.8   \n6587        4.0   22           11.3              3.6            2.5   \n2101        0.0   24           12.7              4.3            3.3   \n\n      AST_per_game  AST_totals  BLK%_advanced  BLK_per_100poss  BLK_per_36min  \\\n14             3.1         250            1.1              0.9            0.7   \n6587           1.5          95            0.7              0.5            0.3   \n2101           0.7          17            0.3              0.3            0.2   \n\n      BLK_per_game  BLK_totals  BPM_advanced  DBPM_advanced  DRB%_advanced  \\\n14             0.8          66           3.2           -0.9           16.0   \n6587           0.2          13          -1.6           -1.4            6.8   \n2101           0.0           1          -2.4            0.9            8.9   \n\n      DRB_per_100poss  DRB_per_36min  DRB_per_game  DRB_totals  \\\n14                6.8            5.4           6.1         487   \n6587              3.1            2.1           1.3          81   \n2101              3.8            2.9           0.7          15   \n\n      DRTG_per_100poss  DWS_advanced  EFG%_per_game  EFG%_totals  EFG_totals  \\\n14               101.0           2.1          0.536        0.536         NaN   \n6587             110.0           0.7          0.481        0.481         NaN   \n2101             102.0           0.3          0.442        0.442         NaN   \n\n        FG%  FGA_per_100poss  FGA_per_36min  FGA_per_game  FGA_totals  \\\n14    0.536             20.6           16.4          18.4        1470   \n6587  0.477             20.0           14.1           8.4         532   \n2101  0.442             19.6           14.9           3.3          77   \n\n      FG_per_100poss  FG_per_36min  FG_per_game  FG_totals    FT%  \\\n14              11.0           8.8          9.9        788  0.848   \n6587             9.6           6.7          4.0        254  0.828   \n2101             8.7           6.6          1.5         34  0.909   \n\n      FT.1_per_100poss  FT.1_totals  FTA_per_100poss  FTA_per_36min  \\\n14                 NaN          NaN              6.4            5.1   \n6587               NaN          NaN              6.8            4.8   \n2101               NaN          NaN              5.6            4.3   \n\n      FTA_per_game  FTA_totals  FTR_advanced  FT_per_100poss  FT_per_36min  \\\n14             5.7         454         0.309             5.4           4.3   \n6587           2.9         180         0.338             5.6           3.9   \n2101           1.0          22         0.286             5.1           3.9   \n\n      FT_per_game  FT_totals   G    GS  MP_advanced  MP_per_100poss  \\\n14            4.8        385  80   NaN         3227            3227   \n6587          2.4        149  63  31.0         1358            1358   \n2101          0.9         20  23   NaN          186             186   \n\n      MP_per_36min  MP_per_game  MP_totals  OBPM_advanced  ORB%_advanced  \\\n14            3227         40.3       3227            4.1            7.7   \n6587          1358         21.6       1358           -0.2            6.2   \n2101           186          8.1        186           -3.3            3.6   \n\n      ORB_per_100poss  ORB_per_36min  ORB_per_game  ORB_totals  \\\n14                3.2            2.6           2.9         230   \n6587              2.8            2.0           1.2          75   \n2101              1.5            1.2           0.3           6   \n\n      ORTG_per_100poss  OWS_advanced  PER_advanced  PF_per_100poss  \\\n14                 NaN          10.8          20.5             3.2   \n6587             109.0           1.9          14.0             5.0   \n2101              92.0          -0.1          13.0             5.1   \n\n      PF_per_36min  PF_per_game  PF_totals           PLAYER POS  \\\n14             2.6          2.9        230  RudyTomjanovich  SF   \n6587           3.5          2.1        132      HaroldMiner  SG   \n2101           3.9          0.9         20   FrankieSanders  SF   \n\n      PTS_per_100poss  PTS_per_36min  PTS_per_game  PTS_totals  SEASON  \\\n14               27.5           21.9          24.5        1961    1974   \n6587             24.9           17.5          10.5         661    1994   \n2101             22.4           17.0           3.8          88    1981   \n\n      STL%_advanced  STL_per_100poss  STL_per_36min  STL_per_game  STL_totals  \\\n14              1.2              1.2            1.0           1.1          89   \n6587            1.2              1.2            0.8           0.5          31   \n2101            4.1              4.1            3.1           0.7          16   \n\n     TEAM  TOV%_advanced  TOV_per_100poss  TOV_per_36min  TOV_per_game  \\\n14    HOU            NaN              NaN            NaN           NaN   \n6587  MIA           13.5              3.6            2.5           1.5   \n2101  KCK           19.5              5.3            4.1           0.9   \n\n      TOV_totals  TRB%_advanced  TRB_per_100poss  TRB_per_36min  TRB_per_game  \\\n14           NaN           11.9             10.0            8.0           9.0   \n6587        95.0            6.5              5.9            4.1           2.5   \n2101        21.0            6.3              5.3            4.1           0.9   \n\n      TRB_totals  TS%_advanced  USG%_advanced  VORP_advanced  WS/48_advanced  \\\n14           717         0.587            NaN            4.2           0.191   \n6587         156         0.541           22.4            0.1           0.094   \n2101          21         0.508           24.0            0.0           0.035   \n\n      WS_advanced  MVP_VOTES_SHARE MVP_WINNER MVP_PODIUM MVP_CANDIDATE  \\\n14           12.8            0.001      False      False          True   \n6587          2.7            0.000      False      False         False   \n2101          0.1            0.000      False      False         False   \n\n     TEAM_SEASON     W     L   W/L%    GB    PW    PL   PS/G   PA/G  \\\n14      HOU_1974  32.0  50.0  0.390  15.0  41.0  41.0  107.4  107.6   \n6587    MIA_1994  42.0  40.0  0.512  15.0  48.0  34.0  103.4  100.7   \n2101    KCK_1981  40.0  42.0  0.488  12.0  41.0  41.0  106.9  106.9   \n\n              CONF  CONF_RANK  \n14    EASTERN_CONF          6  \n6587  EASTERN_CONF          8  \n2101  WESTERN_CONF          6  ",
      "text/html": "<div>\n<style scoped>\n    .dataframe tbody tr th:only-of-type {\n        vertical-align: middle;\n    }\n\n    .dataframe tbody tr th {\n        vertical-align: top;\n    }\n\n    .dataframe thead th {\n        text-align: right;\n    }\n</style>\n<table border=\"1\" class=\"dataframe\">\n  <thead>\n    <tr style=\"text-align: right;\">\n      <th></th>\n      <th>player_season_team</th>\n      <th>2P%</th>\n      <th>2PA_per_100poss</th>\n      <th>2PA_per_36min</th>\n      <th>2PA_per_game</th>\n      <th>2PA_totals</th>\n      <th>2P_per_100poss</th>\n      <th>2P_per_36min</th>\n      <th>2P_per_game</th>\n      <th>2P_totals</th>\n      <th>3P%</th>\n      <th>3PAR_advanced</th>\n      <th>3PA_per_100poss</th>\n      <th>3PA_per_36min</th>\n      <th>3PA_per_game</th>\n      <th>3PA_totals</th>\n      <th>3P_per_100poss</th>\n      <th>3P_per_36min</th>\n      <th>3P_per_game</th>\n      <th>3P_totals</th>\n      <th>AGE</th>\n      <th>AST%_advanced</th>\n      <th>AST_per_100poss</th>\n      <th>AST_per_36min</th>\n      <th>AST_per_game</th>\n      <th>AST_totals</th>\n      <th>BLK%_advanced</th>\n      <th>BLK_per_100poss</th>\n      <th>BLK_per_36min</th>\n      <th>BLK_per_game</th>\n      <th>BLK_totals</th>\n      <th>BPM_advanced</th>\n      <th>DBPM_advanced</th>\n      <th>DRB%_advanced</th>\n      <th>DRB_per_100poss</th>\n      <th>DRB_per_36min</th>\n      <th>DRB_per_game</th>\n      <th>DRB_totals</th>\n      <th>DRTG_per_100poss</th>\n      <th>DWS_advanced</th>\n      <th>EFG%_per_game</th>\n      <th>EFG%_totals</th>\n      <th>EFG_totals</th>\n      <th>FG%</th>\n      <th>FGA_per_100poss</th>\n      <th>FGA_per_36min</th>\n      <th>FGA_per_game</th>\n      <th>FGA_totals</th>\n      <th>FG_per_100poss</th>\n      <th>FG_per_36min</th>\n      <th>FG_per_game</th>\n      <th>FG_totals</th>\n      <th>FT%</th>\n      <th>FT.1_per_100poss</th>\n      <th>FT.1_totals</th>\n      <th>FTA_per_100poss</th>\n      <th>FTA_per_36min</th>\n      <th>FTA_per_game</th>\n      <th>FTA_totals</th>\n      <th>FTR_advanced</th>\n      <th>FT_per_100poss</th>\n      <th>FT_per_36min</th>\n      <th>FT_per_game</th>\n      <th>FT_totals</th>\n      <th>G</th>\n      <th>GS</th>\n      <th>MP_advanced</th>\n      <th>MP_per_100poss</th>\n      <th>MP_per_36min</th>\n      <th>MP_per_game</th>\n      <th>MP_totals</th>\n      <th>OBPM_advanced</th>\n      <th>ORB%_advanced</th>\n      <th>ORB_per_100poss</th>\n      <th>ORB_per_36min</th>\n      <th>ORB_per_game</th>\n      <th>ORB_totals</th>\n      <th>ORTG_per_100poss</th>\n      <th>OWS_advanced</th>\n      <th>PER_advanced</th>\n      <th>PF_per_100poss</th>\n      <th>PF_per_36min</th>\n      <th>PF_per_game</th>\n      <th>PF_totals</th>\n      <th>PLAYER</th>\n      <th>POS</th>\n      <th>PTS_per_100poss</th>\n      <th>PTS_per_36min</th>\n      <th>PTS_per_game</th>\n      <th>PTS_totals</th>\n      <th>SEASON</th>\n      <th>STL%_advanced</th>\n      <th>STL_per_100poss</th>\n      <th>STL_per_36min</th>\n      <th>STL_per_game</th>\n      <th>STL_totals</th>\n      <th>TEAM</th>\n      <th>TOV%_advanced</th>\n      <th>TOV_per_100poss</th>\n      <th>TOV_per_36min</th>\n      <th>TOV_per_game</th>\n      <th>TOV_totals</th>\n      <th>TRB%_advanced</th>\n      <th>TRB_per_100poss</th>\n      <th>TRB_per_36min</th>\n      <th>TRB_per_game</th>\n      <th>TRB_totals</th>\n      <th>TS%_advanced</th>\n      <th>USG%_advanced</th>\n      <th>VORP_advanced</th>\n      <th>WS/48_advanced</th>\n      <th>WS_advanced</th>\n      <th>MVP_VOTES_SHARE</th>\n      <th>MVP_WINNER</th>\n      <th>MVP_PODIUM</th>\n      <th>MVP_CANDIDATE</th>\n      <th>TEAM_SEASON</th>\n      <th>W</th>\n      <th>L</th>\n      <th>W/L%</th>\n      <th>GB</th>\n      <th>PW</th>\n      <th>PL</th>\n      <th>PS/G</th>\n      <th>PA/G</th>\n      <th>CONF</th>\n      <th>CONF_RANK</th>\n    </tr>\n  </thead>\n  <tbody>\n    <tr>\n      <th>14</th>\n      <td>RudyTomjanovich_1974_HOU</td>\n      <td>0.536</td>\n      <td>20.6</td>\n      <td>16.4</td>\n      <td>18.4</td>\n      <td>1470</td>\n      <td>11.0</td>\n      <td>8.8</td>\n      <td>9.9</td>\n      <td>788</td>\n      <td>0.000</td>\n      <td>0.000</td>\n      <td>0.0</td>\n      <td>0.0</td>\n      <td>0.0</td>\n      <td>0.0</td>\n      <td>0.0</td>\n      <td>0.0</td>\n      <td>0.0</td>\n      <td>0.0</td>\n      <td>25</td>\n      <td>11.9</td>\n      <td>3.5</td>\n      <td>2.8</td>\n      <td>3.1</td>\n      <td>250</td>\n      <td>1.1</td>\n      <td>0.9</td>\n      <td>0.7</td>\n      <td>0.8</td>\n      <td>66</td>\n      <td>3.2</td>\n      <td>-0.9</td>\n      <td>16.0</td>\n      <td>6.8</td>\n      <td>5.4</td>\n      <td>6.1</td>\n      <td>487</td>\n      <td>101.0</td>\n      <td>2.1</td>\n      <td>0.536</td>\n      <td>0.536</td>\n      <td>NaN</td>\n      <td>0.536</td>\n      <td>20.6</td>\n      <td>16.4</td>\n      <td>18.4</td>\n      <td>1470</td>\n      <td>11.0</td>\n      <td>8.8</td>\n      <td>9.9</td>\n      <td>788</td>\n      <td>0.848</td>\n      <td>NaN</td>\n      <td>NaN</td>\n      <td>6.4</td>\n      <td>5.1</td>\n      <td>5.7</td>\n      <td>454</td>\n      <td>0.309</td>\n      <td>5.4</td>\n      <td>4.3</td>\n      <td>4.8</td>\n      <td>385</td>\n      <td>80</td>\n      <td>NaN</td>\n      <td>3227</td>\n      <td>3227</td>\n      <td>3227</td>\n      <td>40.3</td>\n      <td>3227</td>\n      <td>4.1</td>\n      <td>7.7</td>\n      <td>3.2</td>\n      <td>2.6</td>\n      <td>2.9</td>\n      <td>230</td>\n      <td>NaN</td>\n      <td>10.8</td>\n      <td>20.5</td>\n      <td>3.2</td>\n      <td>2.6</td>\n      <td>2.9</td>\n      <td>230</td>\n      <td>RudyTomjanovich</td>\n      <td>SF</td>\n      <td>27.5</td>\n      <td>21.9</td>\n      <td>24.5</td>\n      <td>1961</td>\n      <td>1974</td>\n      <td>1.2</td>\n      <td>1.2</td>\n      <td>1.0</td>\n      <td>1.1</td>\n      <td>89</td>\n      <td>HOU</td>\n      <td>NaN</td>\n      <td>NaN</td>\n      <td>NaN</td>\n      <td>NaN</td>\n      <td>NaN</td>\n      <td>11.9</td>\n      <td>10.0</td>\n      <td>8.0</td>\n      <td>9.0</td>\n      <td>717</td>\n      <td>0.587</td>\n      <td>NaN</td>\n      <td>4.2</td>\n      <td>0.191</td>\n      <td>12.8</td>\n      <td>0.001</td>\n      <td>False</td>\n      <td>False</td>\n      <td>True</td>\n      <td>HOU_1974</td>\n      <td>32.0</td>\n      <td>50.0</td>\n      <td>0.390</td>\n      <td>15.0</td>\n      <td>41.0</td>\n      <td>41.0</td>\n      <td>107.4</td>\n      <td>107.6</td>\n      <td>EASTERN_CONF</td>\n      <td>6</td>\n    </tr>\n    <tr>\n      <th>6587</th>\n      <td>HaroldMiner_1994_MIA</td>\n      <td>0.475</td>\n      <td>19.8</td>\n      <td>13.9</td>\n      <td>8.3</td>\n      <td>526</td>\n      <td>9.4</td>\n      <td>6.6</td>\n      <td>4.0</td>\n      <td>250</td>\n      <td>0.667</td>\n      <td>0.011</td>\n      <td>0.2</td>\n      <td>0.2</td>\n      <td>0.1</td>\n      <td>6.0</td>\n      <td>0.2</td>\n      <td>0.1</td>\n      <td>0.1</td>\n      <td>4.0</td>\n      <td>22</td>\n      <td>11.3</td>\n      <td>3.6</td>\n      <td>2.5</td>\n      <td>1.5</td>\n      <td>95</td>\n      <td>0.7</td>\n      <td>0.5</td>\n      <td>0.3</td>\n      <td>0.2</td>\n      <td>13</td>\n      <td>-1.6</td>\n      <td>-1.4</td>\n      <td>6.8</td>\n      <td>3.1</td>\n      <td>2.1</td>\n      <td>1.3</td>\n      <td>81</td>\n      <td>110.0</td>\n      <td>0.7</td>\n      <td>0.481</td>\n      <td>0.481</td>\n      <td>NaN</td>\n      <td>0.477</td>\n      <td>20.0</td>\n      <td>14.1</td>\n      <td>8.4</td>\n      <td>532</td>\n      <td>9.6</td>\n      <td>6.7</td>\n      <td>4.0</td>\n      <td>254</td>\n      <td>0.828</td>\n      <td>NaN</td>\n      <td>NaN</td>\n      <td>6.8</td>\n      <td>4.8</td>\n      <td>2.9</td>\n      <td>180</td>\n      <td>0.338</td>\n      <td>5.6</td>\n      <td>3.9</td>\n      <td>2.4</td>\n      <td>149</td>\n      <td>63</td>\n      <td>31.0</td>\n      <td>1358</td>\n      <td>1358</td>\n      <td>1358</td>\n      <td>21.6</td>\n      <td>1358</td>\n      <td>-0.2</td>\n      <td>6.2</td>\n      <td>2.8</td>\n      <td>2.0</td>\n      <td>1.2</td>\n      <td>75</td>\n      <td>109.0</td>\n      <td>1.9</td>\n      <td>14.0</td>\n      <td>5.0</td>\n      <td>3.5</td>\n      <td>2.1</td>\n      <td>132</td>\n      <td>HaroldMiner</td>\n      <td>SG</td>\n      <td>24.9</td>\n      <td>17.5</td>\n      <td>10.5</td>\n      <td>661</td>\n      <td>1994</td>\n      <td>1.2</td>\n      <td>1.2</td>\n      <td>0.8</td>\n      <td>0.5</td>\n      <td>31</td>\n      <td>MIA</td>\n      <td>13.5</td>\n      <td>3.6</td>\n      <td>2.5</td>\n      <td>1.5</td>\n      <td>95.0</td>\n      <td>6.5</td>\n      <td>5.9</td>\n      <td>4.1</td>\n      <td>2.5</td>\n      <td>156</td>\n      <td>0.541</td>\n      <td>22.4</td>\n      <td>0.1</td>\n      <td>0.094</td>\n      <td>2.7</td>\n      <td>0.000</td>\n      <td>False</td>\n      <td>False</td>\n      <td>False</td>\n      <td>MIA_1994</td>\n      <td>42.0</td>\n      <td>40.0</td>\n      <td>0.512</td>\n      <td>15.0</td>\n      <td>48.0</td>\n      <td>34.0</td>\n      <td>103.4</td>\n      <td>100.7</td>\n      <td>EASTERN_CONF</td>\n      <td>8</td>\n    </tr>\n    <tr>\n      <th>2101</th>\n      <td>FrankieSanders_1981_KCK</td>\n      <td>0.442</td>\n      <td>19.6</td>\n      <td>14.9</td>\n      <td>3.3</td>\n      <td>77</td>\n      <td>8.7</td>\n      <td>6.6</td>\n      <td>1.5</td>\n      <td>34</td>\n      <td>0.000</td>\n      <td>0.000</td>\n      <td>0.0</td>\n      <td>0.0</td>\n      <td>0.0</td>\n      <td>0.0</td>\n      <td>0.0</td>\n      <td>0.0</td>\n      <td>0.0</td>\n      <td>0.0</td>\n      <td>24</td>\n      <td>12.7</td>\n      <td>4.3</td>\n      <td>3.3</td>\n      <td>0.7</td>\n      <td>17</td>\n      <td>0.3</td>\n      <td>0.3</td>\n      <td>0.2</td>\n      <td>0.0</td>\n      <td>1</td>\n      <td>-2.4</td>\n      <td>0.9</td>\n      <td>8.9</td>\n      <td>3.8</td>\n      <td>2.9</td>\n      <td>0.7</td>\n      <td>15</td>\n      <td>102.0</td>\n      <td>0.3</td>\n      <td>0.442</td>\n      <td>0.442</td>\n      <td>NaN</td>\n      <td>0.442</td>\n      <td>19.6</td>\n      <td>14.9</td>\n      <td>3.3</td>\n      <td>77</td>\n      <td>8.7</td>\n      <td>6.6</td>\n      <td>1.5</td>\n      <td>34</td>\n      <td>0.909</td>\n      <td>NaN</td>\n      <td>NaN</td>\n      <td>5.6</td>\n      <td>4.3</td>\n      <td>1.0</td>\n      <td>22</td>\n      <td>0.286</td>\n      <td>5.1</td>\n      <td>3.9</td>\n      <td>0.9</td>\n      <td>20</td>\n      <td>23</td>\n      <td>NaN</td>\n      <td>186</td>\n      <td>186</td>\n      <td>186</td>\n      <td>8.1</td>\n      <td>186</td>\n      <td>-3.3</td>\n      <td>3.6</td>\n      <td>1.5</td>\n      <td>1.2</td>\n      <td>0.3</td>\n      <td>6</td>\n      <td>92.0</td>\n      <td>-0.1</td>\n      <td>13.0</td>\n      <td>5.1</td>\n      <td>3.9</td>\n      <td>0.9</td>\n      <td>20</td>\n      <td>FrankieSanders</td>\n      <td>SF</td>\n      <td>22.4</td>\n      <td>17.0</td>\n      <td>3.8</td>\n      <td>88</td>\n      <td>1981</td>\n      <td>4.1</td>\n      <td>4.1</td>\n      <td>3.1</td>\n      <td>0.7</td>\n      <td>16</td>\n      <td>KCK</td>\n      <td>19.5</td>\n      <td>5.3</td>\n      <td>4.1</td>\n      <td>0.9</td>\n      <td>21.0</td>\n      <td>6.3</td>\n      <td>5.3</td>\n      <td>4.1</td>\n      <td>0.9</td>\n      <td>21</td>\n      <td>0.508</td>\n      <td>24.0</td>\n      <td>0.0</td>\n      <td>0.035</td>\n      <td>0.1</td>\n      <td>0.000</td>\n      <td>False</td>\n      <td>False</td>\n      <td>False</td>\n      <td>KCK_1981</td>\n      <td>40.0</td>\n      <td>42.0</td>\n      <td>0.488</td>\n      <td>12.0</td>\n      <td>41.0</td>\n      <td>41.0</td>\n      <td>106.9</td>\n      <td>106.9</td>\n      <td>WESTERN_CONF</td>\n      <td>6</td>\n    </tr>\n  </tbody>\n</table>\n</div>"
     },
     "metadata": {},
     "execution_count": 3
    }
   ],
   "source": [
    "data.sample(3)"
   ]
  },
  {
   "cell_type": "markdown",
   "metadata": {},
   "source": [
    "## 1. Fill NAN"
   ]
  },
  {
   "cell_type": "code",
   "execution_count": 4,
   "metadata": {},
   "outputs": [
    {
     "output_type": "execute_result",
     "data": {
      "text/plain": "20176"
     },
     "metadata": {},
     "execution_count": 4
    }
   ],
   "source": [
    "len(data)"
   ]
  },
  {
   "cell_type": "code",
   "execution_count": 5,
   "metadata": {},
   "outputs": [],
   "source": [
    "def safe_drop(dataframe, cols):\n",
    "    cols = [col for col in cols if col in dataframe.columns]\n",
    "    dataframe = dataframe.drop(cols, axis='columns', inplace=False)\n",
    "    return dataframe"
   ]
  },
  {
   "cell_type": "code",
   "execution_count": 6,
   "metadata": {},
   "outputs": [],
   "source": [
    "def drop_columns_by_nan_ratio(dataframe, ratio:float):\n",
    "    if not 0. <= ratio <= 1.:\n",
    "        raise ValueError(\"Ratio must be between 0 and 1\")\n",
    "    else:\n",
    "        ratios = data.isna().sum(axis = 'index') / len(data)\n",
    "        ratios = ratios[ratios > ratio]\n",
    "        cols = ratios.index.tolist()\n",
    "        print(\"Dropping\", cols, \"...\")\n",
    "        dataframe = dataframe.drop(cols, axis='columns', inplace=False)\n",
    "        return dataframe"
   ]
  },
  {
   "cell_type": "code",
   "execution_count": 7,
   "metadata": {},
   "outputs": [
    {
     "output_type": "execute_result",
     "data": {
      "text/plain": "FT.1_per_100poss    19646\nFT.1_totals         19646\nEFG_totals          19611\nGS                   2220\nTOV%_advanced        1075\nORTG_per_100poss     1058\nTOV_per_100poss      1008\nUSG%_advanced        1008\nTOV_per_36min        1008\nTOV_totals           1003\ndtype: int64"
     },
     "metadata": {},
     "execution_count": 7
    }
   ],
   "source": [
    "data.isna().sum(axis = 'index').sort_values(ascending=False).head(10)"
   ]
  },
  {
   "cell_type": "code",
   "execution_count": 8,
   "metadata": {
    "tags": []
   },
   "outputs": [
    {
     "output_type": "stream",
     "name": "stdout",
     "text": "Dropping ['EFG_totals', 'FT.1_per_100poss', 'FT.1_totals', 'GS'] ...\n"
    }
   ],
   "source": [
    "data = drop_columns_by_nan_ratio(data, 0.1)"
   ]
  },
  {
   "cell_type": "code",
   "execution_count": 9,
   "metadata": {},
   "outputs": [],
   "source": [
    "data[\"MVP_PODIUM\"] = data[\"MVP_PODIUM\"].fillna(False)\n",
    "data[\"MVP_CANDIDATE\"] = data[\"MVP_CANDIDATE\"].fillna(False)\n",
    "data[\"MVP_WINNER\"] = data[\"MVP_WINNER\"].fillna(False)\n",
    "data[\"MVP_VOTES_SHARE\"] = data[\"MVP_VOTES_SHARE\"].fillna(0.)"
   ]
  },
  {
   "cell_type": "code",
   "execution_count": 10,
   "metadata": {},
   "outputs": [
    {
     "output_type": "execute_result",
     "data": {
      "text/plain": "TOV%_advanced       1075\nORTG_per_100poss    1058\nUSG%_advanced       1008\nTOV_per_36min       1008\nTOV_per_100poss     1008\nTOV_totals          1003\nTOV_per_game        1003\nFT%                  861\nEFG%_totals          666\n2P%                  158\ndtype: int64"
     },
     "metadata": {},
     "execution_count": 10
    }
   ],
   "source": [
    "data.isna().sum(axis = 'index').sort_values(ascending=False).head(10)"
   ]
  },
  {
   "cell_type": "code",
   "execution_count": 11,
   "metadata": {
    "tags": []
   },
   "outputs": [
    {
     "output_type": "stream",
     "name": "stdout",
     "text": "Not dropping NAN on col TOV%_advanced because some MVPs candidates have NAN too\nNot dropping NAN on col ORTG_per_100poss because some MVPs candidates have NAN too\nNot dropping NAN on col USG%_advanced because some MVPs candidates have NAN too\nNot dropping NAN on col TOV_per_36min because some MVPs candidates have NAN too\nNot dropping NAN on col TOV_per_100poss because some MVPs candidates have NAN too\nNot dropping NAN on col TOV_totals because some MVPs candidates have NAN too\nNot dropping NAN on col TOV_per_game because some MVPs candidates have NAN too\nDropping NAN on col FT% ...\nDropping NAN on col EFG%_totals ...\nDropping NAN on col 2P% ...\nDropping NAN on col FTR_advanced ...\nDropping NAN on col EFG%_per_game ...\nDropping NAN on col FG% ...\nDropping NAN on col TS%_advanced ...\nDropping NAN on col ORB_per_100poss ...\nDropping NAN on col BLK_per_36min ...\nDropping NAN on col PER_advanced ...\nDropping NAN on col PF_per_100poss ...\nDropping NAN on col PF_per_36min ...\nDropping NAN on col BLK_per_100poss ...\nDropping NAN on col BLK%_advanced ...\nDropping NAN on col ORB_per_36min ...\nDropping NAN on col AST_per_36min ...\nDropping NAN on col ORB%_advanced ...\nDropping NAN on col DRB%_advanced ...\nDropping NAN on col PTS_per_36min ...\nDropping NAN on col DRB_per_100poss ...\nDropping NAN on col DRB_per_36min ...\nDropping NAN on col DRTG_per_100poss ...\nDropping NAN on col FT_per_36min ...\nDropping NAN on col FT_per_100poss ...\nDropping NAN on col FTA_per_36min ...\nDropping NAN on col FTA_per_100poss ...\nDropping NAN on col FGA_per_100poss ...\nDropping NAN on col FG_per_36min ...\nDropping NAN on col FG_per_100poss ...\nDropping NAN on col PTS_per_100poss ...\nDropping NAN on col FGA_per_36min ...\nDropping NAN on col 2P_per_36min ...\nDropping NAN on col AST_per_100poss ...\nDropping NAN on col AST%_advanced ...\nDropping NAN on col 2PA_per_100poss ...\nDropping NAN on col 2PA_per_36min ...\nDropping NAN on col STL%_advanced ...\nDropping NAN on col STL_per_100poss ...\nDropping NAN on col STL_per_36min ...\nDropping NAN on col TRB_per_36min ...\nDropping NAN on col WS/48_advanced ...\nDropping NAN on col 2P_per_100poss ...\nDropping NAN on col TRB%_advanced ...\nDropping NAN on col TRB_per_100poss ...\n"
    }
   ],
   "source": [
    "cols_with_nan_all = data.isna().sum(axis = 'index').sort_values(ascending=False)\n",
    "cols_with_nan_all = cols_with_nan_all[cols_with_nan_all>0]\n",
    "cols_with_nan_all = cols_with_nan_all.index.tolist()\n",
    "\n",
    "mvp_candidates = data[data[\"MVP_CANDIDATE\"]==True]\n",
    "\n",
    "cols_with_nan_candidates = mvp_candidates.isna().sum(axis = 'index').sort_values(ascending=False)\n",
    "cols_with_nan_candidates = cols_with_nan_candidates[cols_with_nan_candidates>0]\n",
    "cols_with_nan_candidates = cols_with_nan_candidates.index.tolist()\n",
    "\n",
    "for col in cols_with_nan_all:\n",
    "    if col not in cols_with_nan_candidates:\n",
    "        print(\"Dropping NAN on col\", col, \"...\")\n",
    "        data = data.dropna(subset=[col], axis='index')\n",
    "    else:\n",
    "        print(\"Not dropping NAN on col\", col, \"because some MVPs candidates have NAN too\")"
   ]
  },
  {
   "cell_type": "code",
   "execution_count": 12,
   "metadata": {},
   "outputs": [
    {
     "output_type": "execute_result",
     "data": {
      "text/plain": "TOV_per_game        982\nORTG_per_100poss    982\nTOV%_advanced       982\nTOV_per_100poss     982\nTOV_per_36min       982\nUSG%_advanced       982\nTOV_totals          982\nDRB_per_game          0\nDWS_advanced          0\nDRTG_per_100poss      0\ndtype: int64"
     },
     "metadata": {},
     "execution_count": 12
    }
   ],
   "source": [
    "data.isna().sum(axis = 'index').sort_values(ascending=False).head(10)"
   ]
  },
  {
   "cell_type": "code",
   "execution_count": 13,
   "metadata": {},
   "outputs": [
    {
     "output_type": "execute_result",
     "data": {
      "text/plain": "array([1974, 1975, 1976, 1977], dtype=int64)"
     },
     "metadata": {},
     "execution_count": 13
    }
   ],
   "source": [
    "data[data.isna().any(axis=\"columns\")].SEASON.unique()"
   ]
  },
  {
   "cell_type": "code",
   "execution_count": 14,
   "metadata": {},
   "outputs": [],
   "source": [
    "#We will infer values intead of removing years\n",
    "#data = data[data.SEASON > 1977]"
   ]
  },
  {
   "cell_type": "code",
   "execution_count": 15,
   "metadata": {
    "tags": []
   },
   "outputs": [
    {
     "output_type": "stream",
     "name": "stdout",
     "text": "Filling ORTG_per_100poss ...\nFilling TOV%_advanced ...\nFilling TOV_per_100poss ...\nFilling TOV_per_36min ...\nFilling TOV_per_game ...\nFilling TOV_totals ...\nFilling USG%_advanced ...\n"
    }
   ],
   "source": [
    "cols_to_fill = data.isna().sum(axis = 'index')\n",
    "cols_to_fill = cols_to_fill[cols_to_fill>0]\n",
    "cols_to_fill = cols_to_fill.index.tolist()\n",
    "\n",
    "# Mean of the same post depending on MVP caliber\n",
    "\n",
    "for col in cols_to_fill:\n",
    "    print(\"Filling\", col, \"...\")\n",
    "    for is_mvp_candidate in True, False:\n",
    "        for position in data.POS.unique():\n",
    "            reference = data[(data[\"MVP_CANDIDATE\"]==is_mvp_candidate) & (data[\"POS\"]==position)][col]\n",
    "            reference_mean = reference[reference.notna()].mean()"
   ]
  },
  {
   "cell_type": "markdown",
   "metadata": {},
   "source": [
    "## 2. Remove outliers"
   ]
  },
  {
   "cell_type": "code",
   "execution_count": 16,
   "metadata": {},
   "outputs": [],
   "source": [
    "def pretty_print_df_values(dataframe_values):\n",
    "    entries = []\n",
    "    for v in dataframe_values:\n",
    "        entry = \" :: \".join([str(vi) for vi in v])\n",
    "        entries.append(entry)\n",
    "    print(\"\\n\".join(entries))"
   ]
  },
  {
   "cell_type": "code",
   "execution_count": 17,
   "metadata": {},
   "outputs": [
    {
     "output_type": "execute_result",
     "data": {
      "text/plain": "18761"
     },
     "metadata": {},
     "execution_count": 17
    }
   ],
   "source": [
    "len(data)"
   ]
  },
  {
   "cell_type": "code",
   "execution_count": 18,
   "metadata": {
    "tags": []
   },
   "outputs": [
    {
     "output_type": "stream",
     "name": "stdout",
     "text": "\nOutliers for BLK_per_game in season 1974 :\nElmoreSmith_1974_LAL :: 4.9 :: False\n\nOutliers for FTR_advanced in season 1974 :\nTomPatterson_1974_CAP :: 2.0 :: False\n\nOutliers for TS%_advanced in season 1975 :\nWaltBellamy_1975_NOJ :: 1.042 :: False\n\nOutliers for BLK_per_game in season 1976 :\nKareemAbdulJabbar_1976_LAL :: 4.1 :: True\n\nOutliers for BLK_totals in season 1976 :\nKareemAbdulJabbar_1976_LAL :: 338 :: True\n\nOutliers for FTA_per_36min in season 1976 :\nWaltWesley_1976_LAL :: 20.6 :: False\n\nOutliers for FTA_per_100poss in season 1977 :\nRudyHackett_1977_NYN :: 28.9 :: False\nEarlWilliams_1977_NYN :: 39.7 :: False\n\nOutliers for FTR_advanced in season 1978 :\nJimArd_1978_BOS :: 2.0 :: False\n\nOutliers for AST_totals in season 1979 :\nKevinPorter_1979_DET :: 1099 :: False\n\nOutliers for BLK_totals in season 1979 :\nKareemAbdulJabbar_1979_LAL :: 316 :: True\n\nOutliers for ORB_totals in season 1979 :\nMosesMalone_1979_HOU :: 587 :: True\n\nOutliers for STL%_advanced in season 1979 :\nGusGerard_1979_DET :: 14.9 :: False\nBubblesHawkins_1979_DET :: 8.0 :: False\n\nOutliers for ORB_totals in season 1980 :\nMosesMalone_1980_HOU :: 573 :: True\n\nOutliers for FTA_per_100poss in season 1981 :\nMontiDavis_1981_DAL :: 30.4 :: False\n\nOutliers for ORB%_advanced in season 1981 :\nRoyHamilton_1981_POR :: 43.4 :: False\n\nOutliers for FTR_advanced in season 1982 :\nRockLee_1982_SDC :: 2.0 :: False\n\nOutliers for ORB_totals in season1982 :\nMosesMalone_1982_HOU :: 558 :: True\n\nOutliers for STL%_advanced in season 1982 :\nRogerBurkman_1982_CHI :: 9.7 :: False\n\nOutliers for BLK_per_36min in season 1983 :\nMarkEaton_1983_UTA :: 6.5 :: False\nChuckNevitt_1983_HOU :: 6.8 :: False\n\nOutliers for BLK_per_game in season 1983 :\nTreeRollins_1983_ATL :: 4.3 :: False\n\nOutliers for BLK_per_game in season 1984 :\nMarkEaton_1984_UTA :: 4.3 :: False\n\nOutliers for FTA_per_100poss in season 1984 :\nCharlesJones_1984_PHI :: 64.3 :: False\n\nOutliers for FTR_advanced in season 1984 :\nSteveLingenfelter_1984_SAS :: 2.0 :: False\n\nOutliers for FT_per_36min in season 1984 :\nTracyJackson_1984_IND :: 14.4 :: False\n\nOutliers for AST_totals in season 1985 :\nIsiahThomas_1985_DET :: 1123 :: True\n\nOutliers for BLK%_advanced in season 1985 :\nChuckNevitt_1985_LAL :: 13.7 :: False\n\nOutliers for BLK_per_game in season 1985 :\nMarkEaton_1985_UTA :: 5.6 :: True\n\nOutliers for BLK_totals in season 1985 :\nMarkEaton_1985_UTA :: 456 :: True\n\nOutliers for FTR_advanced in season 1985 :\nTomLaGarde_1985_NJN :: 2.0 :: False\nMarkWest_1985_MIL :: 2.0 :: False\n\nOutliers for BLK_per_game in season 1986 :\nMarkEaton_1986_UTA :: 4.6 :: False\n\nOutliers for FTA_per_100poss in season 1986 :\nRonCrevier_1986_DET :: 30.7 :: False\n\nOutliers for BLK_per_game in season 1987 :\nMarkEaton_1987_UTA :: 4.1 :: False\n\nOutliers for DRB%_advanced in season 1987 :\nCedricHenderson_1987_MIL :: 75.1 :: False\n\nOutliers for ORB%_advanced in season 1987 :\nChrisEngler_1987_POR :: 40.4 :: False\n\nOutliers for STL%_advanced in season 1987 :\nRonRowan_1987_POR :: 11.4 :: False\n\nOutliers for VORP_advanced in season 1987 :\nMichaelJordan_1987_CHI :: 10.6 :: True\n\nOutliers for AST_totals in season 1988 :\nJohnStockton_1988_UTA :: 1128 :: True\n\nOutliers for BLK_totals in season 1988 :\nMarkEaton_1988_UTA :: 304 :: False\n\nOutliers for FTA_per_100poss in season 1988 :\nKevinHenderson_1988_CLE :: 29.6 :: False\n\nOutliers for FTR_advanced in season 1988 :\nTodMurphy_1988_LAC :: 4.0 :: False\n\nOutliers for PF_per_100poss in season 1988 :\nDarrylDawkins_1988_DET :: 27.9 :: False\n\nOutliers for STL%_advanced in season 1988 :\nMichaelPhelps_1988_LAC :: 10.3 :: False\n\nOutliers for VORP_advanced in season 1988 :\nMichaelJordan_1988_CHI :: 12.5 :: True\n\nOutliers for AST_totals in season 1989 :\nJohnStockton_1989_UTA :: 1118 :: True\n\nOutliers for BLK_per_36min in season 1989 :\nManuteBol_1989_GSW :: 7.0 :: False\n\nOutliers for BLK_totals in season 1989 :\nMarkEaton_1989_UTA :: 315 :: True\n\nOutliers for FTR_advanced in season 1989 :\nJimRowinski_1989_DET :: 2.0 :: False\nKennyGattison_1989_PHO :: 2.0 :: False\n\nOutliers for ORB%_advanced in season 1989 :\nOrlandoGraham_1989_GSW :: 36.5 :: False\n\nOutliers for VORP_advanced in season 1989 :\nMichaelJordan_1989_CHI :: 11.4 :: True\n\nOutliers for AST_totals in season 1990 :\nJohnStockton_1990_UTA :: 1134 :: True\n\nOutliers for BLK_per_36min in season 1990 :\nManuteBol_1990_GSW :: 6.5 :: False\n\nOutliers for BLK_per_game in season 1990 :\nHakeemOlajuwon_1990_HOU :: 4.6 :: True\n\nOutliers for BLK_totals in season 1990 :\nDavidRobinson_1990_SAS :: 319 :: True\nHakeemOlajuwon_1990_HOU :: 376 :: True\nPatrickEwing_1990_NYK :: 327 :: True\n\nOutliers for DBPM_advanced in season 1990 :\nHaywoodeWorkman_1990_ATL :: 13.8 :: False\n\nOutliers for FTA_per_100poss in season 1990 :\nTorgeirBryn_1990_LAC :: 29.0 :: False\n\nOutliers for FTR_advanced in season 1990 :\nLeonardTaylor_1990_GSW :: 2.667 :: False\n\nOutliers for VORP_advanced in season 1990 :\nMichaelJordan_1990_CHI :: 10.6 :: True\n\nOutliers for AST_totals in season 1991 :\nJohnStockton_1991_UTA :: 1164 :: True\n\nOutliers for BLK%_advanced in season 1991 :\nDanGodfread_1991_MIN :: 12.7 :: False\n\nOutliers for BLK_per_36min in season 1991 :\nStojkoVrankovi_1991_BOS :: 6.3 :: False\n\nOutliers for BLK_totals in season 1991 :\nDavidRobinson_1991_SAS :: 320 :: True\n\nOutliers for BPM_advanced in season 1991 :\nEveretteStephens_1991_MIL :: 24.6 :: False\nIanLockhart_1991_PHO :: 39.9 :: False\n\nOutliers for FTR_advanced in season 1991 :\nAnthonyMason_1991_DEN :: 2.0 :: False\nBartKofoed_1991_GSW :: 2.0 :: False\n\nOutliers for VORP_advanced in season 1991 :\nMichaelJordan_1991_CHI :: 10.8 :: True\n\nOutliers for 2PA_per_100poss in season 1992 :\nBobThornton_1992_UTA :: 58.6 :: False\n\nOutliers for AST_totals in season 1992 :\nJohnStockton_1992_UTA :: 1126 :: True\n\nOutliers for BLK_per_game in season 1992 :\nDavidRobinson_1992_SAS :: 4.5 :: True\nHakeemOlajuwon_1992_HOU :: 4.3 :: False\n\nOutliers for BLK_totals in season 1992 :\nDavidRobinson_1992_SAS :: 305 :: True\n\nOutliers for DRB%_advanced in season 1992 :\nJeromeLane_1992_MIL :: 59.5 :: False\n\nOutliers for FTR_advanced in season 1992 :\nKennyBattle_1992_BOS :: 2.0 :: False\nSteveScheffler_1992_SAC :: 3.0 :: False\n\nOutliers for PF_per_36min in season 1992 :\nTonyMassenburg_1992_GSW :: 16.4 :: False\n\nOutliers for BLK_per_game in season 1993 :\nHakeemOlajuwon_1993_HOU :: 4.2 :: True\n\nOutliers for BLK_totals in season 1993 :\nDikembeMutombo_1993_DEN :: 287 :: False\nHakeemOlajuwon_1993_HOU :: 342 :: True\nShaquilleONeal_1993_ORL :: 286 :: True\n\nOutliers for FTA_per_100poss in season 1993 :\nDanOSullivan_1993_MIL :: 28.5 :: False\nHenryJames_1993_UTA :: 33.1 :: False\n\nOutliers for FTR_advanced in season 1993 :\nJoeWolf_1993_BOS :: 2.0 :: False\nDaveHoppen_1993_NJN :: 2.0 :: False\n\nOutliers for VORP_advanced in season 1993 :\nMichaelJordan_1993_CHI :: 10.2 :: True\n\nOutliers for BLK_per_game in season 1994 :\nDikembeMutombo_1994_DEN :: 4.1 :: False\n\nOutliers for BLK_totals in season 1994 :\nHakeemOlajuwon_1994_HOU :: 297 :: True\n\nOutliers for DBPM_advanced in season 1994 :\nTracyMoore_1994_DET :: 10.8 :: False\n\nOutliers for ORB%_advanced in season 1994 :\nAndrsGuibert_1994_MIN :: 36.4 :: False\n\nOutliers for PF_per_100poss in season 1994 :\nMarcusLiberty_1994_DEN :: 22.7 :: False\n\nOutliers for STL%_advanced in season 1994 :\nDellDemps_1994_GSW :: 8.8 :: False\n\nOutliers for TS%_advanced in season 1994 :\nChuckyBrown_1994_DAL :: 1.042 :: False\n\nOutliers for VORP_advanced in season 1994 :\nDavidRobinson_1994_SAS :: 11.4 :: True\n\nOutliers for 3PA_per_100poss in season 1995 :\nDarrellArmstrong_1995_ORL :: 37.9 :: False\n\nOutliers for BLK_totals in season 1995 :\nDikembeMutombo_1995_DEN :: 321 :: False\n\nOutliers for DBPM_advanced in season 1995 :\nElmerBennett_1995_CLE :: 12.4 :: False\n\nOutliers for FTA_per_100poss in season 1995 :\nTonyHarris_1995_BOS :: 25.5 :: False\n\nOutliers for FTR_advanced in season 1995 :\nDerrickPhelps_1995_SAC :: 2.0 :: False\n\nOutliers for PF_per_100poss in season 1995 :\nMikePeplowski_1995_DET :: 24.5 :: False\n\nOutliers for STL%_advanced in season 1995 :\nEldridgeRecasner_1995_DEN :: 12.1 :: False\n\nOutliers for BLK%_advanced in season 1996 :\nMikePeplowski_1996_MIL :: 12.8 :: False\n\nOutliers for BLK_per_game in season 1996 :\nDikembeMutombo_1996_DEN :: 4.5 :: False\n\nOutliers for FTA_per_100poss in season 1996 :\nGeertHammink_1996_ORL :: 29.9 :: False\n\nOutliers for FTR_advanced in season 1996 :\nTerrenceRencher_1996_PHO :: 3.0 :: False\n\nOutliers for PF_per_100poss in season 1996 :\nCharlesClaxton_1996_BOS :: 28.5 :: False\n\nOutliers for STL%_advanced in season 1996 :\nHowardNathan_1996_ATL :: 10.7 :: False\n\nOutliers for STL_per_100poss in season 1996 :\nDarrellArmstrong_1996_ORL :: 7.7 :: False\n\nOutliers for BLK%_advanced in season 1997 :\nAntonioHarvey_1997_SEA :: 13.2 :: False\n\nOutliers for BLK_per_game in season 1997 :\nShawnBradley_1997_NJN :: 4.0 :: False\n\nOutliers for FTA_per_100poss in season 1997 :\nMartinMrsepp_1997_MIA :: 28.2 :: False\n\nOutliers for FTR_advanced in season 1997 :\nDarvinHam_1997_IND :: 2.0 :: False\n\nOutliers for STL%_advanced in season 1997 :\nLarryKrystkowiak_1997_LAL :: 9.6 :: False\n\nOutliers for FTA_per_100poss in season 1998 :\nDavidVaughn_1998_CHI :: 35.9 :: False\n\nOutliers for FT_per_100poss in season 1998 :\nKeithBooth_1998_CHI :: 19.0 :: False\n\nOutliers for ORB%_advanced in season 1998 :\nSheaSeals_1998_LAL :: 38.7 :: False\n\nOutliers for STL%_advanced in season 1998 :\nTomChambers_1998_PHI :: 10.6 :: False\n\nOutliers for FTA_per_100poss in season 1999 :\nKevinOllie_1999_ORL :: 27.0 :: False\nCarlosRogers_1999_POR :: 26.9 :: False\nBonziWells_1999_POR :: 27.7 :: False\nShammondWilliams_1999_ATL :: 56.2 :: False\n\nOutliers for FTR_advanced in season 1999 :\nMikkiMoore_1999_DET :: 2.0 :: False\n\nOutliers for ORB%_advanced in season 1999 :\nBenDavis_1999_NYK :: 52.5 :: False\n\nOutliers for PF_per_100poss in season 1999 :\nJeraldHoneycutt_1999_MIL :: 27.6 :: False\n\nOutliers for STL%_advanced in season 1999 :\nAdonisJordan_1999_MIL :: 9.2 :: False\n\nOutliers for BLK_totals in season 2000 :\nAlonzoMourning_2000_MIA :: 294 :: True\n\nOutliers for FTR_advanced in season 2000 :\nMarkHendrickson_2000_NJN :: 2.0 :: False\n\nOutliers for TS%_advanced in season 2000 :\nAntonioLang_2000_PHI :: 1.042 :: False\n\nOutliers for DBPM_advanced in season 2002 :\nMikePenberthy_2002_LAL :: 10.1 :: False\n\nOutliers for FG% in season 2002 :\nReggieSlater_2002_NJN :: 1.0 :: False\n\nOutliers for PF_per_100poss in season 2002 :\nRatkoVarda_2002_DET :: 26.7 :: False\n\nOutliers for FTR_advanced in season 2003 :\nMarkBryant_2003_DEN :: 2.0 :: False\n\nOutliers for PF_per_100poss in season 2003 :\nDonReid_2003_DET :: 22.1 :: False\n\nOutliers for BLK_per_game in season 2004 :\nRasheedWallace_2004_ATL :: 5.0 :: False\nTheoRatliff_2004_POR :: 4.4 :: False\n\nOutliers for FG% in season 2004 :\nKanielDickens_2004_POR :: 1.0 :: False\n\nOutliers for FTA_per_100poss in season 2004 :\nRobertArchibald_2004_ORL :: 26.4 :: False\n\nOutliers for FTR_advanced in season 2004 :\nRobertArchibald_2004_PHO :: 2.0 :: False\nWangZhizhi_2004_LAC :: 4.0 :: False\n\nOutliers for PF_per_100poss in season 2004 :\nCezaryTrybaski_2004_NYK :: 21.4 :: False\n\nOutliers for STL%_advanced in season 2004 :\nAlexGarcia_2004_SAS :: 8.3 :: False\n\nOutliers for 2P_per_100poss in season 2005 :\nJackieButler_2005_NYK :: 42.4 :: False\n\nOutliers for FG% in season 2005 :\nDonnellHarvey_2005_NJN :: 1.0 :: False\n\nOutliers for FTR_advanced in season 2005 :\nGenoCarlisle_2005_POR :: 2.0 :: False\n\nOutliers for PF_per_100poss in season 2005 :\nVinBaker_2005_HOU :: 29.1 :: False\n\nOutliers for STL%_advanced in season 2005 :\nDorellWright_2005_MIA :: 7.8 :: False\n\nOutliers for FG% in season 2006 :\nMattWalsh_2006_MIA :: 1.0 :: False\n\nOutliers for FTA_per_100poss in season 2006 :\nJoshDavis_2006_PHO :: 30.1 :: False\nZendonHamilton_2006_PHI :: 34.5 :: False\n\nOutliers for FTR_advanced in season 2006 :\nPavelPodkolzin_2006_DAL :: 3.0 :: False\nTonyDelk_2006_ATL :: 2.0 :: False\n\nOutliers for STL%_advanced in season 2006 :\nSergeiMonia_2006_SAC :: 7.5 :: False\n\nOutliers for FTR_advanced in season 2007 :\nAlvinWilliams_2007_LAC :: 2.0 :: False\nDwayneJones_2007_CLE :: 6.0 :: False\n\nOutliers for BLK%_advanced in season 2008 :\nIanMahinmi_2008_SAS :: 13.2 :: False\n\nOutliers for BLK_totals in season 2008 :\nMarcusCamby_2008_DEN :: 285 :: False\n\nOutliers for DRB%_advanced in season 2008 :\nJeromeJames_2008_NYK :: 70.6 :: False\n\nOutliers for FG% in season 2008 :\nJelaniMcCoy_2008_DEN :: 1.0 :: False\n\nOutliers for FTA_per_100poss in season 2008 :\nJamaalMagloire_2008_DAL :: 25.6 :: False\nJustinWilliams_2008_HOU :: 35.4 :: False\n\nOutliers for BLK%_advanced in season 2009 :\nMouhamedSene_2009_NYK :: 12.2 :: False\n\nOutliers for FG% in season 2009 :\nEddyCurry_2009_NYK :: 1.0 :: False\n\nOutliers for VORP_advanced in season 2009 :\nLeBronJames_2009_CLE :: 11.8 :: True\n\nOutliers for FG% in season 2010 :\nRyanBowen_2010_OKC :: 1.0 :: False\n\nOutliers for FTA_per_100poss in season 2010 :\nFranciscoElson_2010_PHI :: 39.3 :: False\n\nOutliers for FTR_advanced in season 2010 :\nCedricJackson_2010_CLE :: 2.0 :: False\n\nOutliers for FT_per_100poss in season 2010 :\nShavlikRandolph_2010_POR :: 18.2 :: False\n\nOutliers for VORP_advanced in season 2010 :\nLeBronJames_2010_CLE :: 10.3 :: True\n\nOutliers for 3P_per_100poss in season 2011 :\nPejaStojakovi_2011_TOR :: 9.4 :: False\n\nOutliers for FTR_advanced in season 2011 :\nMarcusBanks_2011_TOR :: 4.0 :: False\nHamadyNDiaye_2011_WAS :: 2.4 :: False\n\nOutliers for STL%_advanced in season 2011 :\nOrienGreene_2011_NJN :: 10.7 :: False\n\nOutliers for FG% in season 2013 :\nJulyanStone_2013_DEN :: 1.0 :: False\n\nOutliers for FTR_advanced in season 2013 :\nMalcolmThomas_2013_GSW :: 4.0 :: False\n\nOutliers for STL%_advanced in season 2013 :\nHakimWarrick_2013_NOH :: 7.7 :: False\n\nOutliers for DRB%_advanced in season 2014 :\nMalcolmThomas_2014_SAS :: 57.8 :: False\n\nOutliers for FG% in season 2014 :\nAndrisBiedri_2014_UTA :: 1.0 :: False\n\nOutliers for FTA_per_100poss in season 2014 :\nDexterPittman_2014_ATL :: 33.8 :: False\n\nOutliers for FTR_advanced in season 2014 :\nDewayneDedmon_2014_GSW :: 2.0 :: False\nTonyMitchell_2014_DET :: 1.5830000000000002 :: False\n\nOutliers for STL%_advanced in season 2014 :\nScottyHopson_2014_CLE :: 7.4 :: False\n\nOutliers for FG% in season 2015 :\nTyrusThomas_2015_MEM :: 1.0 :: False\n\nOutliers for FTR_advanced in season 2015 :\nXavierHenry_2015_LAL :: 1.846 :: False\n\nOutliers for STL%_advanced in season 2015 :\nDwightPowell_2015_BOS :: 11.1 :: False\n\nOutliers for 3PA_totals in season 2016 :\nStephenCurry_2016_GSW :: 886.0 :: True\n\nOutliers for 3P_per_game in season 2016 :\nStephenCurry_2016_GSW :: 5.1 :: True\n\nOutliers for 3P_totals in season 2016 :\nStephenCurry_2016_GSW :: 402.0 :: True\n\nOutliers for BLK%_advanced in season 2016 :\nAlexStepheson_2016_LAC :: 13.1 :: False\nJordanMickey_2016_BOS :: 15.1 :: False\n\nOutliers for STL%_advanced in season 2016 :\nJordanAdams_2016_MEM :: 10.3 :: False\n\nOutliers for 3P_totals in season 2017 :\nStephenCurry_2017_GSW :: 324.0 :: True\n\nOutliers for BLK%_advanced in season 2017 :\nEdyTavares_2017_CLE :: 20.2 :: False\n\nOutliers for DBPM_advanced in season 2017 :\nJarnellStokes_2017_DEN :: 11.9 :: False\n\nOutliers for FG% in season 2017 :\nEdyTavares_2017_ATL :: 1.0 :: False\n\nOutliers for FTR_advanced in season 2017 :\nArchieGoodwin_2017_NOP :: 2.0 :: False\n\nOutliers for FTR_advanced in season 2018 :\nMarshallPlumlee_2018_MIL :: 5.332999999999998 :: False\nScottyHopson_2018_DAL :: 2.0 :: False\n\nOutliers for STL%_advanced in season 2018 :\nBriceJohnson_2018_LAC :: 7.7 :: False\n\nOutliers for 3PA_per_game in season 2019 :\nJamesHarden_2019_HOU :: 13.2 :: True\n\nOutliers for 3PA_totals in season 2019 :\nJamesHarden_2019_HOU :: 1028.0 :: True\n\nOutliers for 3P_per_game in season 2019 :\nJamesHarden_2019_HOU :: 4.8 :: True\nStephenCurry_2019_GSW :: 5.1 :: True\n\nOutliers for 3P_totals in season 2019 :\nJamesHarden_2019_HOU :: 378.0 :: True\nStephenCurry_2019_GSW :: 354.0 :: True\n\nOutliers for BLK%_advanced in season 2019 :\nChrisBoucher_2019_TOR :: 12.2 :: False\nRobertWilliams_2019_BOS :: 12.5 :: False\n\nOutliers for DRB%_advanced in season 2019 :\nAlanWilliams_2019_BRK :: 60.3 :: False\nTerrenceJones_2019_HOU :: 90.3 :: False\n\nOutliers for FTA_per_100poss in season 2019 :\nEmanuelTerry_2019_MIA :: 32.6 :: False\n\nOutliers for PF_per_100poss in season 2019 :\nDonatasMotiejnas_2019_SAS :: 22.5 :: False\n\nOutliers for STL%_advanced in season 2019 :\nKostasAntetokounmpo_2019_DAL :: 8.8 :: False\n\nOutliers for STL_per_36min in season 2019 :\nEmanuelTerry_2019_PHO :: 5.4 :: False\n"
    }
   ],
   "source": [
    "for season in data.SEASON.unique():\n",
    "    for col in data.columns:\n",
    "        if col not in [\"MVP_VOTES_SHARE\", \"MVP_WINNER\", \"MVP_PODIUM\", \"MVP_CANDIDATE\"]:\n",
    "            try:\n",
    "                outliers = data[(stats.zscore(data[col]) > 7) & (data.SEASON==season)][[\"player_season_team\", col, \"MVP_CANDIDATE\"]]\n",
    "                outliers_mvp_candidates = outliers[outliers[\"MVP_CANDIDATE\"]==True][[\"player_season_team\", col]]\n",
    "                outliers_non_mvp_candidates = outliers[outliers[\"MVP_CANDIDATE\"]==False][[\"player_season_team\", col]]\n",
    "                if len(outliers) > 0:\n",
    "                    print()\n",
    "                    print(\"Outliers for\", col, \"in season\", season, \":\")\n",
    "                    pretty_print_df_values(outliers.values)\n",
    "                if len(outliers_non_mvp_candidates) > 0:\n",
    "                    invalid_id = outliers_non_mvp_candidates.index.tolist()\n",
    "                    data = data.loc[~data.index.isin(invalid_id)]\n",
    "            except TypeError:\n",
    "                pass"
   ]
  },
  {
   "cell_type": "code",
   "execution_count": 19,
   "metadata": {},
   "outputs": [
    {
     "output_type": "execute_result",
     "data": {
      "text/plain": "18590"
     },
     "metadata": {},
     "execution_count": 19
    }
   ],
   "source": [
    "len(data)"
   ]
  },
  {
   "cell_type": "markdown",
   "metadata": {},
   "source": [
    "## 3. Remove duplicated columns"
   ]
  },
  {
   "cell_type": "code",
   "execution_count": 26,
   "metadata": {},
   "outputs": [
    {
     "output_type": "execute_result",
     "data": {
      "text/plain": "  EFG%_totals MP_totals\n0       0.459      2459\n1       0.512      1075\n2       0.458      1007\n3       0.451       238\n4       0.491       361",
      "text/html": "<div>\n<style scoped>\n    .dataframe tbody tr th:only-of-type {\n        vertical-align: middle;\n    }\n\n    .dataframe tbody tr th {\n        vertical-align: top;\n    }\n\n    .dataframe thead th {\n        text-align: right;\n    }\n</style>\n<table border=\"1\" class=\"dataframe\">\n  <thead>\n    <tr style=\"text-align: right;\">\n      <th></th>\n      <th>EFG%_totals</th>\n      <th>MP_totals</th>\n    </tr>\n  </thead>\n  <tbody>\n    <tr>\n      <th>0</th>\n      <td>0.459</td>\n      <td>2459</td>\n    </tr>\n    <tr>\n      <th>1</th>\n      <td>0.512</td>\n      <td>1075</td>\n    </tr>\n    <tr>\n      <th>2</th>\n      <td>0.458</td>\n      <td>1007</td>\n    </tr>\n    <tr>\n      <th>3</th>\n      <td>0.451</td>\n      <td>238</td>\n    </tr>\n    <tr>\n      <th>4</th>\n      <td>0.491</td>\n      <td>361</td>\n    </tr>\n  </tbody>\n</table>\n</div>"
     },
     "metadata": {},
     "execution_count": 26
    }
   ],
   "source": [
    "data.T[data.T.duplicated()].T.sample(5)"
   ]
  },
  {
   "cell_type": "code",
   "execution_count": 24,
   "metadata": {},
   "outputs": [],
   "source": [
    "data = data.drop(['MP_per_100poss', 'MP_per_36min'], axis='columns')"
   ]
  },
  {
   "cell_type": "code",
   "execution_count": null,
   "metadata": {},
   "outputs": [],
   "source": [
    "#data = data.T.drop_duplicates(how=\"all\", keep=\"first\").T"
   ]
  },
  {
   "cell_type": "markdown",
   "metadata": {},
   "source": [
    "## Export"
   ]
  },
  {
   "cell_type": "code",
   "execution_count": 28,
   "metadata": {},
   "outputs": [],
   "source": [
    "data.to_csv(\"./data/all_consolidated_final\", index=False)"
   ]
  },
  {
   "cell_type": "code",
   "execution_count": null,
   "metadata": {},
   "outputs": [],
   "source": []
  }
 ],
 "metadata": {
  "language_info": {
   "codemirror_mode": {
    "name": "ipython",
    "version": 3
   },
   "file_extension": ".py",
   "mimetype": "text/x-python",
   "name": "python",
   "nbconvert_exporter": "python",
   "pygments_lexer": "ipython3",
   "version": "3.7.7-final"
  },
  "orig_nbformat": 2,
  "kernelspec": {
   "name": "python37764bitnba1ouegnjovenv4fdc84ead6214ab69fe6eec387d9b7f7",
   "display_name": "Python 3.7.7 64-bit ('nba-1OUeGnJo': venv)"
  }
 },
 "nbformat": 4,
 "nbformat_minor": 2
}