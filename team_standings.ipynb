{
 "cells": [
  {
   "cell_type": "code",
   "execution_count": 1,
   "metadata": {},
   "outputs": [],
   "source": [
    "import pandas\n",
    "pandas.set_option('display.max_columns', None)\n",
    "from nba import br_extractor\n",
    "extractor = br_extractor.BRExtractor()"
   ]
  },
  {
   "cell_type": "code",
   "execution_count": 5,
   "metadata": {
    "tags": []
   },
   "outputs": [
    {
     "output_type": "stream",
     "name": "stdout",
     "text": "Retrieving standings of season 2018 ...\nRetrieving standings of season 2019 ...\n"
    },
    {
     "output_type": "execute_result",
     "data": {
      "text/plain": "            TEAM   W   L   W/L%    GB  PW  PL   PS/G   PA/G          CONF  \\\nTEAM_SEASON                                                                 \nLAL_2018     LAL  35  47  0.427  30.0  37  45  108.1  109.6  WESTERN_CONF   \nCLE_2018     CLE  50  32  0.610   9.0  43  39  110.9  109.9  EASTERN_CONF   \nNOP_2018     NOP  48  34  0.585  17.0  44  38  111.7  110.4  WESTERN_CONF   \nCHO_2018     CHO  36  46  0.439  23.0  42  40  108.2  108.0  EASTERN_CONF   \nPOR_2018     POR  49  33  0.598  16.0  48  34  105.6  103.0  WESTERN_CONF   \n\n             CONF_RANK  SEASON  \nTEAM_SEASON                     \nLAL_2018            10    2018  \nCLE_2018             3    2018  \nNOP_2018             3    2018  \nCHO_2018             9    2018  \nPOR_2018             2    2018  ",
      "text/html": "<div>\n<style scoped>\n    .dataframe tbody tr th:only-of-type {\n        vertical-align: middle;\n    }\n\n    .dataframe tbody tr th {\n        vertical-align: top;\n    }\n\n    .dataframe thead th {\n        text-align: right;\n    }\n</style>\n<table border=\"1\" class=\"dataframe\">\n  <thead>\n    <tr style=\"text-align: right;\">\n      <th></th>\n      <th>TEAM</th>\n      <th>W</th>\n      <th>L</th>\n      <th>W/L%</th>\n      <th>GB</th>\n      <th>PW</th>\n      <th>PL</th>\n      <th>PS/G</th>\n      <th>PA/G</th>\n      <th>CONF</th>\n      <th>CONF_RANK</th>\n      <th>SEASON</th>\n    </tr>\n    <tr>\n      <th>TEAM_SEASON</th>\n      <th></th>\n      <th></th>\n      <th></th>\n      <th></th>\n      <th></th>\n      <th></th>\n      <th></th>\n      <th></th>\n      <th></th>\n      <th></th>\n      <th></th>\n      <th></th>\n    </tr>\n  </thead>\n  <tbody>\n    <tr>\n      <th>LAL_2018</th>\n      <td>LAL</td>\n      <td>35</td>\n      <td>47</td>\n      <td>0.427</td>\n      <td>30.0</td>\n      <td>37</td>\n      <td>45</td>\n      <td>108.1</td>\n      <td>109.6</td>\n      <td>WESTERN_CONF</td>\n      <td>10</td>\n      <td>2018</td>\n    </tr>\n    <tr>\n      <th>CLE_2018</th>\n      <td>CLE</td>\n      <td>50</td>\n      <td>32</td>\n      <td>0.610</td>\n      <td>9.0</td>\n      <td>43</td>\n      <td>39</td>\n      <td>110.9</td>\n      <td>109.9</td>\n      <td>EASTERN_CONF</td>\n      <td>3</td>\n      <td>2018</td>\n    </tr>\n    <tr>\n      <th>NOP_2018</th>\n      <td>NOP</td>\n      <td>48</td>\n      <td>34</td>\n      <td>0.585</td>\n      <td>17.0</td>\n      <td>44</td>\n      <td>38</td>\n      <td>111.7</td>\n      <td>110.4</td>\n      <td>WESTERN_CONF</td>\n      <td>3</td>\n      <td>2018</td>\n    </tr>\n    <tr>\n      <th>CHO_2018</th>\n      <td>CHO</td>\n      <td>36</td>\n      <td>46</td>\n      <td>0.439</td>\n      <td>23.0</td>\n      <td>42</td>\n      <td>40</td>\n      <td>108.2</td>\n      <td>108.0</td>\n      <td>EASTERN_CONF</td>\n      <td>9</td>\n      <td>2018</td>\n    </tr>\n    <tr>\n      <th>POR_2018</th>\n      <td>POR</td>\n      <td>49</td>\n      <td>33</td>\n      <td>0.598</td>\n      <td>16.0</td>\n      <td>48</td>\n      <td>34</td>\n      <td>105.6</td>\n      <td>103.0</td>\n      <td>WESTERN_CONF</td>\n      <td>2</td>\n      <td>2018</td>\n    </tr>\n  </tbody>\n</table>\n</div>"
     },
     "metadata": {},
     "execution_count": 5
    }
   ],
   "source": [
    "stats = extractor.get_team_standings(subset_by_seasons=[2018, 2019])\n",
    "stats.sample(5)"
   ]
  },
  {
   "cell_type": "code",
   "execution_count": 6,
   "metadata": {
    "tags": []
   },
   "outputs": [
    {
     "output_type": "stream",
     "name": "stdout",
     "text": "Retrieving standings of season 2020 ...\n"
    },
    {
     "output_type": "execute_result",
     "data": {
      "text/plain": "            TEAM   W   L   W/L%    GB  PW  PL  PS/G  PA/G          CONF  \\\nTEAM_SEASON                                                               \nIND_2020     IND  39  26  0.481  14.0  46  35  87.7  86.2  EASTERN_CONF   \nMIL_2020     MIL  53  12  0.663   0.0  64  16  96.4  87.2  EASTERN_CONF   \nUTA_2020     UTA  41  23  0.519   8.5  47  32  89.9  87.4  WESTERN_CONF   \nDEN_2020     DEN  43  22  0.538   7.0  48  32  89.7  87.3  WESTERN_CONF   \nNOP_2020     NOP  28  36  0.354  21.5  38  41  94.1  94.8  WESTERN_CONF   \n\n             CONF_RANK  SEASON  \nTEAM_SEASON                     \nIND_2020             5    2020  \nMIL_2020             0    2020  \nUTA_2020             3    2020  \nDEN_2020             2    2020  \nNOP_2020             9    2020  ",
      "text/html": "<div>\n<style scoped>\n    .dataframe tbody tr th:only-of-type {\n        vertical-align: middle;\n    }\n\n    .dataframe tbody tr th {\n        vertical-align: top;\n    }\n\n    .dataframe thead th {\n        text-align: right;\n    }\n</style>\n<table border=\"1\" class=\"dataframe\">\n  <thead>\n    <tr style=\"text-align: right;\">\n      <th></th>\n      <th>TEAM</th>\n      <th>W</th>\n      <th>L</th>\n      <th>W/L%</th>\n      <th>GB</th>\n      <th>PW</th>\n      <th>PL</th>\n      <th>PS/G</th>\n      <th>PA/G</th>\n      <th>CONF</th>\n      <th>CONF_RANK</th>\n      <th>SEASON</th>\n    </tr>\n    <tr>\n      <th>TEAM_SEASON</th>\n      <th></th>\n      <th></th>\n      <th></th>\n      <th></th>\n      <th></th>\n      <th></th>\n      <th></th>\n      <th></th>\n      <th></th>\n      <th></th>\n      <th></th>\n      <th></th>\n    </tr>\n  </thead>\n  <tbody>\n    <tr>\n      <th>IND_2020</th>\n      <td>IND</td>\n      <td>39</td>\n      <td>26</td>\n      <td>0.481</td>\n      <td>14.0</td>\n      <td>46</td>\n      <td>35</td>\n      <td>87.7</td>\n      <td>86.2</td>\n      <td>EASTERN_CONF</td>\n      <td>5</td>\n      <td>2020</td>\n    </tr>\n    <tr>\n      <th>MIL_2020</th>\n      <td>MIL</td>\n      <td>53</td>\n      <td>12</td>\n      <td>0.663</td>\n      <td>0.0</td>\n      <td>64</td>\n      <td>16</td>\n      <td>96.4</td>\n      <td>87.2</td>\n      <td>EASTERN_CONF</td>\n      <td>0</td>\n      <td>2020</td>\n    </tr>\n    <tr>\n      <th>UTA_2020</th>\n      <td>UTA</td>\n      <td>41</td>\n      <td>23</td>\n      <td>0.519</td>\n      <td>8.5</td>\n      <td>47</td>\n      <td>32</td>\n      <td>89.9</td>\n      <td>87.4</td>\n      <td>WESTERN_CONF</td>\n      <td>3</td>\n      <td>2020</td>\n    </tr>\n    <tr>\n      <th>DEN_2020</th>\n      <td>DEN</td>\n      <td>43</td>\n      <td>22</td>\n      <td>0.538</td>\n      <td>7.0</td>\n      <td>48</td>\n      <td>32</td>\n      <td>89.7</td>\n      <td>87.3</td>\n      <td>WESTERN_CONF</td>\n      <td>2</td>\n      <td>2020</td>\n    </tr>\n    <tr>\n      <th>NOP_2020</th>\n      <td>NOP</td>\n      <td>28</td>\n      <td>36</td>\n      <td>0.354</td>\n      <td>21.5</td>\n      <td>38</td>\n      <td>41</td>\n      <td>94.1</td>\n      <td>94.8</td>\n      <td>WESTERN_CONF</td>\n      <td>9</td>\n      <td>2020</td>\n    </tr>\n  </tbody>\n</table>\n</div>"
     },
     "metadata": {},
     "execution_count": 6
    }
   ],
   "source": [
    "stats = extractor.get_team_standings(subset_by_seasons=[2020])\n",
    "stats.sample(5)"
   ]
  },
  {
   "cell_type": "code",
   "execution_count": 4,
   "metadata": {
    "tags": []
   },
   "outputs": [
    {
     "output_type": "stream",
     "name": "stdout",
     "text": "Retrieving standings of season 1974 ...\nRetrieving standings of season 1975 ...\nRetrieving standings of season 1976 ...\nRetrieving standings of season 1977 ...\nRetrieving standings of season 1978 ...\nRetrieving standings of season 1979 ...\nRetrieving standings of season 1980 ...\nRetrieving standings of season 1981 ...\nRetrieving standings of season 1982 ...\nRetrieving standings of season 1983 ...\nRetrieving standings of season 1984 ...\nRetrieving standings of season 1985 ...\nRetrieving standings of season 1986 ...\nRetrieving standings of season 1987 ...\nRetrieving standings of season 1988 ...\nRetrieving standings of season 1989 ...\nRetrieving standings of season 1990 ...\nRetrieving standings of season 1991 ...\nRetrieving standings of season 1992 ...\nRetrieving standings of season 1993 ...\nRetrieving standings of season 1994 ...\nRetrieving standings of season 1995 ...\nRetrieving standings of season 1996 ...\nRetrieving standings of season 1997 ...\nRetrieving standings of season 1998 ...\nRetrieving standings of season 1999 ...\nRetrieving standings of season 2000 ...\nRetrieving standings of season 2001 ...\nRetrieving standings of season 2002 ...\nRetrieving standings of season 2003 ...\nRetrieving standings of season 2004 ...\nRetrieving standings of season 2005 ...\nRetrieving standings of season 2006 ...\nRetrieving standings of season 2007 ...\nRetrieving standings of season 2008 ...\nRetrieving standings of season 2009 ...\nRetrieving standings of season 2010 ...\nRetrieving standings of season 2011 ...\nRetrieving standings of season 2012 ...\nRetrieving standings of season 2013 ...\nRetrieving standings of season 2014 ...\nRetrieving standings of season 2015 ...\nRetrieving standings of season 2016 ...\nRetrieving standings of season 2017 ...\nRetrieving standings of season 2018 ...\nRetrieving standings of season 2019 ...\nRetrieving standings of season 2020 ...\n"
    }
   ],
   "source": [
    "stats = extractor.get_team_standings()\n",
    "stats.to_csv(\"./data/all_teams_standings.csv\")"
   ]
  },
  {
   "cell_type": "code",
   "execution_count": null,
   "metadata": {},
   "outputs": [],
   "source": []
  }
 ],
 "metadata": {
  "language_info": {
   "codemirror_mode": {
    "name": "ipython",
    "version": 3
   },
   "file_extension": ".py",
   "mimetype": "text/x-python",
   "name": "python",
   "nbconvert_exporter": "python",
   "pygments_lexer": "ipython3",
   "version": "3.7.7-final"
  },
  "orig_nbformat": 2,
  "kernelspec": {
   "name": "python37764bitnba1ouegnjovenv4fdc84ead6214ab69fe6eec387d9b7f7",
   "display_name": "Python 3.7.7 64-bit ('nba-1OUeGnJo': venv)"
  }
 },
 "nbformat": 4,
 "nbformat_minor": 2
}