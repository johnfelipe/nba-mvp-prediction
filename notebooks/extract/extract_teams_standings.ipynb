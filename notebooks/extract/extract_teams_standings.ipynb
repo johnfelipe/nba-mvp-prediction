{
 "cells": [
  {
   "cell_type": "code",
   "execution_count": 1,
   "metadata": {},
   "outputs": [],
   "source": [
    "import pandas\n",
    "pandas.set_option('display.max_columns', None)\n",
    "from nba import br_extractor\n",
    "extractor = br_extractor.BRExtractor()"
   ]
  },
  {
   "cell_type": "code",
   "execution_count": 2,
   "metadata": {
    "tags": []
   },
   "outputs": [
    {
     "output_type": "stream",
     "name": "stdout",
     "text": "Retrieving standings of season 2019 ...\n"
    }
   ],
   "source": [
    "stats = extractor.get_team_standings(subset_by_seasons=[2019])"
   ]
  },
  {
   "cell_type": "code",
   "execution_count": 3,
   "metadata": {},
   "outputs": [
    {
     "output_type": "execute_result",
     "data": {
      "text/plain": "            TEAM   W   L   W/L%    GB  PW  PL   PS/G   PA/G          CONF  \\\nTEAM_SEASON                                                                 \nMIL_2019     MIL  60  22  0.732   0.0  61  21  118.1  109.3  EASTERN_CONF   \nTOR_2019     TOR  58  24  0.707   2.0  56  26  114.4  108.4  EASTERN_CONF   \nPHI_2019     PHI  51  31  0.622   9.0  48  34  115.2  112.5  EASTERN_CONF   \nBOS_2019     BOS  49  33  0.598  11.0  52  30  112.4  108.0  EASTERN_CONF   \nIND_2019     IND  48  34  0.585  12.0  50  32  108.0  104.7  EASTERN_CONF   \nORL_2019     ORL  42  40  0.512  18.0  43  39  107.3  106.6  EASTERN_CONF   \nBRK_2019     BRK  42  40  0.512  18.0  41  41  112.2  112.3  EASTERN_CONF   \nDET_2019     DET  41  41  0.500  19.0  40  42  107.0  107.3  EASTERN_CONF   \nCHO_2019     CHO  39  43  0.476  21.0  38  44  110.7  111.8  EASTERN_CONF   \nMIA_2019     MIA  39  43  0.476  21.0  40  42  105.7  105.9  EASTERN_CONF   \n\n             CONF_RANK  SEASON  \nTEAM_SEASON                     \nMIL_2019             1    2019  \nTOR_2019             2    2019  \nPHI_2019             3    2019  \nBOS_2019             4    2019  \nIND_2019             5    2019  \nORL_2019             6    2019  \nBRK_2019             7    2019  \nDET_2019             8    2019  \nCHO_2019             9    2019  \nMIA_2019            10    2019  ",
      "text/html": "<div>\n<style scoped>\n    .dataframe tbody tr th:only-of-type {\n        vertical-align: middle;\n    }\n\n    .dataframe tbody tr th {\n        vertical-align: top;\n    }\n\n    .dataframe thead th {\n        text-align: right;\n    }\n</style>\n<table border=\"1\" class=\"dataframe\">\n  <thead>\n    <tr style=\"text-align: right;\">\n      <th></th>\n      <th>TEAM</th>\n      <th>W</th>\n      <th>L</th>\n      <th>W/L%</th>\n      <th>GB</th>\n      <th>PW</th>\n      <th>PL</th>\n      <th>PS/G</th>\n      <th>PA/G</th>\n      <th>CONF</th>\n      <th>CONF_RANK</th>\n      <th>SEASON</th>\n    </tr>\n    <tr>\n      <th>TEAM_SEASON</th>\n      <th></th>\n      <th></th>\n      <th></th>\n      <th></th>\n      <th></th>\n      <th></th>\n      <th></th>\n      <th></th>\n      <th></th>\n      <th></th>\n      <th></th>\n      <th></th>\n    </tr>\n  </thead>\n  <tbody>\n    <tr>\n      <th>MIL_2019</th>\n      <td>MIL</td>\n      <td>60</td>\n      <td>22</td>\n      <td>0.732</td>\n      <td>0.0</td>\n      <td>61</td>\n      <td>21</td>\n      <td>118.1</td>\n      <td>109.3</td>\n      <td>EASTERN_CONF</td>\n      <td>1</td>\n      <td>2019</td>\n    </tr>\n    <tr>\n      <th>TOR_2019</th>\n      <td>TOR</td>\n      <td>58</td>\n      <td>24</td>\n      <td>0.707</td>\n      <td>2.0</td>\n      <td>56</td>\n      <td>26</td>\n      <td>114.4</td>\n      <td>108.4</td>\n      <td>EASTERN_CONF</td>\n      <td>2</td>\n      <td>2019</td>\n    </tr>\n    <tr>\n      <th>PHI_2019</th>\n      <td>PHI</td>\n      <td>51</td>\n      <td>31</td>\n      <td>0.622</td>\n      <td>9.0</td>\n      <td>48</td>\n      <td>34</td>\n      <td>115.2</td>\n      <td>112.5</td>\n      <td>EASTERN_CONF</td>\n      <td>3</td>\n      <td>2019</td>\n    </tr>\n    <tr>\n      <th>BOS_2019</th>\n      <td>BOS</td>\n      <td>49</td>\n      <td>33</td>\n      <td>0.598</td>\n      <td>11.0</td>\n      <td>52</td>\n      <td>30</td>\n      <td>112.4</td>\n      <td>108.0</td>\n      <td>EASTERN_CONF</td>\n      <td>4</td>\n      <td>2019</td>\n    </tr>\n    <tr>\n      <th>IND_2019</th>\n      <td>IND</td>\n      <td>48</td>\n      <td>34</td>\n      <td>0.585</td>\n      <td>12.0</td>\n      <td>50</td>\n      <td>32</td>\n      <td>108.0</td>\n      <td>104.7</td>\n      <td>EASTERN_CONF</td>\n      <td>5</td>\n      <td>2019</td>\n    </tr>\n    <tr>\n      <th>ORL_2019</th>\n      <td>ORL</td>\n      <td>42</td>\n      <td>40</td>\n      <td>0.512</td>\n      <td>18.0</td>\n      <td>43</td>\n      <td>39</td>\n      <td>107.3</td>\n      <td>106.6</td>\n      <td>EASTERN_CONF</td>\n      <td>6</td>\n      <td>2019</td>\n    </tr>\n    <tr>\n      <th>BRK_2019</th>\n      <td>BRK</td>\n      <td>42</td>\n      <td>40</td>\n      <td>0.512</td>\n      <td>18.0</td>\n      <td>41</td>\n      <td>41</td>\n      <td>112.2</td>\n      <td>112.3</td>\n      <td>EASTERN_CONF</td>\n      <td>7</td>\n      <td>2019</td>\n    </tr>\n    <tr>\n      <th>DET_2019</th>\n      <td>DET</td>\n      <td>41</td>\n      <td>41</td>\n      <td>0.500</td>\n      <td>19.0</td>\n      <td>40</td>\n      <td>42</td>\n      <td>107.0</td>\n      <td>107.3</td>\n      <td>EASTERN_CONF</td>\n      <td>8</td>\n      <td>2019</td>\n    </tr>\n    <tr>\n      <th>CHO_2019</th>\n      <td>CHO</td>\n      <td>39</td>\n      <td>43</td>\n      <td>0.476</td>\n      <td>21.0</td>\n      <td>38</td>\n      <td>44</td>\n      <td>110.7</td>\n      <td>111.8</td>\n      <td>EASTERN_CONF</td>\n      <td>9</td>\n      <td>2019</td>\n    </tr>\n    <tr>\n      <th>MIA_2019</th>\n      <td>MIA</td>\n      <td>39</td>\n      <td>43</td>\n      <td>0.476</td>\n      <td>21.0</td>\n      <td>40</td>\n      <td>42</td>\n      <td>105.7</td>\n      <td>105.9</td>\n      <td>EASTERN_CONF</td>\n      <td>10</td>\n      <td>2019</td>\n    </tr>\n  </tbody>\n</table>\n</div>"
     },
     "metadata": {},
     "execution_count": 3
    }
   ],
   "source": [
    "stats.head(10)"
   ]
  },
  {
   "cell_type": "code",
   "execution_count": null,
   "metadata": {},
   "outputs": [],
   "source": []
  }
 ],
 "metadata": {
  "language_info": {
   "codemirror_mode": {
    "name": "ipython",
    "version": 3
   },
   "file_extension": ".py",
   "mimetype": "text/x-python",
   "name": "python",
   "nbconvert_exporter": "python",
   "pygments_lexer": "ipython3",
   "version": "3.7.7-final"
  },
  "orig_nbformat": 2,
  "kernelspec": {
   "name": "python37764bitnba1ouegnjovenv4fdc84ead6214ab69fe6eec387d9b7f7",
   "display_name": "Python 3.7.7 64-bit ('nba-1OUeGnJo': venv)"
  }
 },
 "nbformat": 4,
 "nbformat_minor": 2
}