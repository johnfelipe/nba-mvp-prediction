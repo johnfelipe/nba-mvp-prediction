{
 "cells": [
  {
   "cell_type": "code",
   "execution_count": 1,
   "metadata": {},
   "outputs": [],
   "source": [
    "import pandas\n",
    "pandas.set_option('display.max_columns', None)\n",
    "from nba import br_extractor\n",
    "extractor = br_extractor.BRExtractor()"
   ]
  },
  {
   "cell_type": "code",
   "execution_count": 2,
   "metadata": {
    "tags": []
   },
   "outputs": [
    {
     "output_type": "stream",
     "name": "stdout",
     "text": "Retrieving MVP of season 1995 ...\nRetrieving MVP of season 2019 ...\n"
    }
   ],
   "source": [
    "stats = extractor.get_mvp(subset_by_seasons=[1995, 2019])"
   ]
  },
  {
   "cell_type": "code",
   "execution_count": 3,
   "metadata": {},
   "outputs": [
    {
     "output_type": "execute_result",
     "data": {
      "text/plain": "                                     PLAYER TEAM SEASON  MVP_VOTES_SHARE  \\\nplayer_season_team                                                         \nJohnStockton_1995_UTA          JohnStockton  UTA   1995            0.045   \nJamesHarden_2019_HOU            JamesHarden  HOU   2019            0.768   \nKawhiLeonard_2019_TOR          KawhiLeonard  TOR   2019            0.013   \nClydeDrexler_1995_TOT          ClydeDrexler  TOT   1995            0.003   \nKarlMalone_1995_UTA              KarlMalone  UTA   1995            0.507   \nDennisRodman_1995_SAS          DennisRodman  SAS   1995            0.009   \nJasonKidd_1995_DAL                JasonKidd  DAL   1995            0.007   \nGaryPayton_1995_SEA              GaryPayton  SEA   1995            0.032   \nAnferneeHardaway_1995_ORL  AnferneeHardaway  ORL   1995            0.022   \nDavidRobinson_1995_SAS        DavidRobinson  SAS   1995            0.858   \n\n                           MVP_WINNER  MVP_PODIUM  MVP_CANDIDATE  \nplayer_season_team                                                \nJohnStockton_1995_UTA           False       False           True  \nJamesHarden_2019_HOU            False        True           True  \nKawhiLeonard_2019_TOR           False       False           True  \nClydeDrexler_1995_TOT           False       False           True  \nKarlMalone_1995_UTA             False        True           True  \nDennisRodman_1995_SAS           False       False           True  \nJasonKidd_1995_DAL              False       False           True  \nGaryPayton_1995_SEA             False       False           True  \nAnferneeHardaway_1995_ORL       False       False           True  \nDavidRobinson_1995_SAS           True        True           True  ",
      "text/html": "<div>\n<style scoped>\n    .dataframe tbody tr th:only-of-type {\n        vertical-align: middle;\n    }\n\n    .dataframe tbody tr th {\n        vertical-align: top;\n    }\n\n    .dataframe thead th {\n        text-align: right;\n    }\n</style>\n<table border=\"1\" class=\"dataframe\">\n  <thead>\n    <tr style=\"text-align: right;\">\n      <th></th>\n      <th>PLAYER</th>\n      <th>TEAM</th>\n      <th>SEASON</th>\n      <th>MVP_VOTES_SHARE</th>\n      <th>MVP_WINNER</th>\n      <th>MVP_PODIUM</th>\n      <th>MVP_CANDIDATE</th>\n    </tr>\n    <tr>\n      <th>player_season_team</th>\n      <th></th>\n      <th></th>\n      <th></th>\n      <th></th>\n      <th></th>\n      <th></th>\n      <th></th>\n    </tr>\n  </thead>\n  <tbody>\n    <tr>\n      <th>JohnStockton_1995_UTA</th>\n      <td>JohnStockton</td>\n      <td>UTA</td>\n      <td>1995</td>\n      <td>0.045</td>\n      <td>False</td>\n      <td>False</td>\n      <td>True</td>\n    </tr>\n    <tr>\n      <th>JamesHarden_2019_HOU</th>\n      <td>JamesHarden</td>\n      <td>HOU</td>\n      <td>2019</td>\n      <td>0.768</td>\n      <td>False</td>\n      <td>True</td>\n      <td>True</td>\n    </tr>\n    <tr>\n      <th>KawhiLeonard_2019_TOR</th>\n      <td>KawhiLeonard</td>\n      <td>TOR</td>\n      <td>2019</td>\n      <td>0.013</td>\n      <td>False</td>\n      <td>False</td>\n      <td>True</td>\n    </tr>\n    <tr>\n      <th>ClydeDrexler_1995_TOT</th>\n      <td>ClydeDrexler</td>\n      <td>TOT</td>\n      <td>1995</td>\n      <td>0.003</td>\n      <td>False</td>\n      <td>False</td>\n      <td>True</td>\n    </tr>\n    <tr>\n      <th>KarlMalone_1995_UTA</th>\n      <td>KarlMalone</td>\n      <td>UTA</td>\n      <td>1995</td>\n      <td>0.507</td>\n      <td>False</td>\n      <td>True</td>\n      <td>True</td>\n    </tr>\n    <tr>\n      <th>DennisRodman_1995_SAS</th>\n      <td>DennisRodman</td>\n      <td>SAS</td>\n      <td>1995</td>\n      <td>0.009</td>\n      <td>False</td>\n      <td>False</td>\n      <td>True</td>\n    </tr>\n    <tr>\n      <th>JasonKidd_1995_DAL</th>\n      <td>JasonKidd</td>\n      <td>DAL</td>\n      <td>1995</td>\n      <td>0.007</td>\n      <td>False</td>\n      <td>False</td>\n      <td>True</td>\n    </tr>\n    <tr>\n      <th>GaryPayton_1995_SEA</th>\n      <td>GaryPayton</td>\n      <td>SEA</td>\n      <td>1995</td>\n      <td>0.032</td>\n      <td>False</td>\n      <td>False</td>\n      <td>True</td>\n    </tr>\n    <tr>\n      <th>AnferneeHardaway_1995_ORL</th>\n      <td>AnferneeHardaway</td>\n      <td>ORL</td>\n      <td>1995</td>\n      <td>0.022</td>\n      <td>False</td>\n      <td>False</td>\n      <td>True</td>\n    </tr>\n    <tr>\n      <th>DavidRobinson_1995_SAS</th>\n      <td>DavidRobinson</td>\n      <td>SAS</td>\n      <td>1995</td>\n      <td>0.858</td>\n      <td>True</td>\n      <td>True</td>\n      <td>True</td>\n    </tr>\n  </tbody>\n</table>\n</div>"
     },
     "metadata": {},
     "execution_count": 3
    }
   ],
   "source": [
    "stats.sample(10)"
   ]
  },
  {
   "cell_type": "code",
   "execution_count": 4,
   "metadata": {
    "tags": []
   },
   "outputs": [
    {
     "output_type": "stream",
     "name": "stdout",
     "text": "Retrieving MVP of season 1974 ...\nRetrieving MVP of season 1975 ...\nRetrieving MVP of season 1976 ...\nRetrieving MVP of season 1977 ...\nRetrieving MVP of season 1978 ...\nRetrieving MVP of season 1979 ...\nRetrieving MVP of season 1980 ...\nRetrieving MVP of season 1981 ...\nRetrieving MVP of season 1982 ...\nRetrieving MVP of season 1983 ...\nRetrieving MVP of season 1984 ...\nRetrieving MVP of season 1985 ...\nRetrieving MVP of season 1986 ...\nRetrieving MVP of season 1987 ...\nRetrieving MVP of season 1988 ...\nRetrieving MVP of season 1989 ...\nRetrieving MVP of season 1990 ...\nRetrieving MVP of season 1991 ...\nRetrieving MVP of season 1992 ...\nRetrieving MVP of season 1993 ...\nRetrieving MVP of season 1994 ...\nRetrieving MVP of season 1995 ...\nRetrieving MVP of season 1996 ...\nRetrieving MVP of season 1997 ...\nRetrieving MVP of season 1998 ...\nRetrieving MVP of season 1999 ...\nRetrieving MVP of season 2000 ...\nRetrieving MVP of season 2001 ...\nRetrieving MVP of season 2002 ...\nRetrieving MVP of season 2003 ...\nRetrieving MVP of season 2004 ...\nRetrieving MVP of season 2005 ...\nRetrieving MVP of season 2006 ...\nRetrieving MVP of season 2007 ...\nRetrieving MVP of season 2008 ...\nRetrieving MVP of season 2009 ...\nRetrieving MVP of season 2010 ...\nRetrieving MVP of season 2011 ...\nRetrieving MVP of season 2012 ...\nRetrieving MVP of season 2013 ...\nRetrieving MVP of season 2014 ...\nRetrieving MVP of season 2015 ...\nRetrieving MVP of season 2016 ...\nRetrieving MVP of season 2017 ...\nRetrieving MVP of season 2018 ...\nRetrieving MVP of season 2019 ...\n"
    }
   ],
   "source": [
    "stats = extractor.get_mvp()"
   ]
  },
  {
   "cell_type": "code",
   "execution_count": 5,
   "metadata": {},
   "outputs": [
    {
     "output_type": "execute_result",
     "data": {
      "text/plain": "                               PLAYER TEAM SEASON  MVP_VOTES_SHARE  \\\nplayer_season_team                                                   \nLeBronJames_2011_MIA      LeBronJames  MIA   2011            0.431   \nDavidThompson_1979_DEN  DavidThompson  DEN   1979            0.013   \nDamianLillard_2016_POR  DamianLillard  POR   2016            0.020   \nJohnStockton_2001_UTA    JohnStockton  UTA   2001            0.001   \nAlexEnglish_1982_DEN      AlexEnglish  DEN   1982            0.017   \n\n                        MVP_WINNER  MVP_PODIUM  MVP_CANDIDATE  \nplayer_season_team                                             \nLeBronJames_2011_MIA         False        True           True  \nDavidThompson_1979_DEN       False       False           True  \nDamianLillard_2016_POR       False       False           True  \nJohnStockton_2001_UTA        False       False           True  \nAlexEnglish_1982_DEN         False       False           True  ",
      "text/html": "<div>\n<style scoped>\n    .dataframe tbody tr th:only-of-type {\n        vertical-align: middle;\n    }\n\n    .dataframe tbody tr th {\n        vertical-align: top;\n    }\n\n    .dataframe thead th {\n        text-align: right;\n    }\n</style>\n<table border=\"1\" class=\"dataframe\">\n  <thead>\n    <tr style=\"text-align: right;\">\n      <th></th>\n      <th>PLAYER</th>\n      <th>TEAM</th>\n      <th>SEASON</th>\n      <th>MVP_VOTES_SHARE</th>\n      <th>MVP_WINNER</th>\n      <th>MVP_PODIUM</th>\n      <th>MVP_CANDIDATE</th>\n    </tr>\n    <tr>\n      <th>player_season_team</th>\n      <th></th>\n      <th></th>\n      <th></th>\n      <th></th>\n      <th></th>\n      <th></th>\n      <th></th>\n    </tr>\n  </thead>\n  <tbody>\n    <tr>\n      <th>LeBronJames_2011_MIA</th>\n      <td>LeBronJames</td>\n      <td>MIA</td>\n      <td>2011</td>\n      <td>0.431</td>\n      <td>False</td>\n      <td>True</td>\n      <td>True</td>\n    </tr>\n    <tr>\n      <th>DavidThompson_1979_DEN</th>\n      <td>DavidThompson</td>\n      <td>DEN</td>\n      <td>1979</td>\n      <td>0.013</td>\n      <td>False</td>\n      <td>False</td>\n      <td>True</td>\n    </tr>\n    <tr>\n      <th>DamianLillard_2016_POR</th>\n      <td>DamianLillard</td>\n      <td>POR</td>\n      <td>2016</td>\n      <td>0.020</td>\n      <td>False</td>\n      <td>False</td>\n      <td>True</td>\n    </tr>\n    <tr>\n      <th>JohnStockton_2001_UTA</th>\n      <td>JohnStockton</td>\n      <td>UTA</td>\n      <td>2001</td>\n      <td>0.001</td>\n      <td>False</td>\n      <td>False</td>\n      <td>True</td>\n    </tr>\n    <tr>\n      <th>AlexEnglish_1982_DEN</th>\n      <td>AlexEnglish</td>\n      <td>DEN</td>\n      <td>1982</td>\n      <td>0.017</td>\n      <td>False</td>\n      <td>False</td>\n      <td>True</td>\n    </tr>\n  </tbody>\n</table>\n</div>"
     },
     "metadata": {},
     "execution_count": 5
    }
   ],
   "source": [
    "stats.sample(5)"
   ]
  },
  {
   "cell_type": "code",
   "execution_count": 6,
   "metadata": {
    "tags": []
   },
   "outputs": [
    {
     "output_type": "stream",
     "name": "stdout",
     "text": "\nTOP 5 MVP_WINNER\nPLAYER\nMichaelJordan        5.0\nKareemAbdulJabbar    4.0\nLeBronJames          4.0\nLarryBird            3.0\nMosesMalone          3.0\nName: MVP_WINNER, dtype: float64\n\nTOP 5 MVP_PODIUM\nPLAYER\nMichaelJordan    10.0\nLeBronJames      10.0\nMagicJohnson      9.0\nLarryBird         8.0\nKarlMalone        5.0\nName: MVP_PODIUM, dtype: float64\n\nTOP 5 MVP_CANDIDATE\nPLAYER\nLeBronJames       16.0\nTimDuncan         16.0\nKarlMalone        15.0\nShaquilleONeal    14.0\nHakeemOlajuwon    13.0\nName: MVP_CANDIDATE, dtype: float64\n"
    }
   ],
   "source": [
    "for col in \"MVP_WINNER\", \"MVP_PODIUM\", \"MVP_CANDIDATE\":\n",
    "    print(\"\\nTOP 5\", col)\n",
    "    print(stats.groupby(\"PLAYER\").sum()[col].sort_values(ascending=False).head(5))"
   ]
  },
  {
   "cell_type": "code",
   "execution_count": 7,
   "metadata": {
    "tags": []
   },
   "outputs": [
    {
     "output_type": "stream",
     "name": "stdout",
     "text": "\nTOP 5 MVP_WINNER\nTEAM\nLAL    8.0\nCHI    6.0\nHOU    4.0\nPHI    3.0\nBOS    3.0\nName: MVP_WINNER, dtype: float64\n\nTOP 5 MVP_PODIUM\nTEAM\nLAL    21.0\nSAS    15.0\nCHI    12.0\nBOS    11.0\nHOU     8.0\nName: MVP_PODIUM, dtype: float64\n\nTOP 5 MVP_CANDIDATE\nTEAM\nLAL    53.0\nSAS    53.0\nBOS    43.0\nUTA    40.0\nPHO    38.0\nName: MVP_CANDIDATE, dtype: float64\n"
    }
   ],
   "source": [
    "for col in \"MVP_WINNER\", \"MVP_PODIUM\", \"MVP_CANDIDATE\":\n",
    "    print(\"\\nTOP 5\", col)\n",
    "    print(stats.groupby(\"TEAM\").sum()[col].sort_values(ascending=False).head(5))"
   ]
  },
  {
   "cell_type": "code",
   "execution_count": null,
   "metadata": {},
   "outputs": [],
   "source": []
  }
 ],
 "metadata": {
  "language_info": {
   "codemirror_mode": {
    "name": "ipython",
    "version": 3
   },
   "file_extension": ".py",
   "mimetype": "text/x-python",
   "name": "python",
   "nbconvert_exporter": "python",
   "pygments_lexer": "ipython3",
   "version": "3.7.7-final"
  },
  "orig_nbformat": 2,
  "kernelspec": {
   "name": "python37764bitnba1ouegnjovenv4fdc84ead6214ab69fe6eec387d9b7f7",
   "display_name": "Python 3.7.7 64-bit ('nba-1OUeGnJo': venv)"
  }
 },
 "nbformat": 4,
 "nbformat_minor": 2
}