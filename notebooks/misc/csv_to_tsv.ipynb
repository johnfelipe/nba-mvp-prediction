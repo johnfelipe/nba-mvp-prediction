{
 "metadata": {
  "language_info": {
   "codemirror_mode": {
    "name": "ipython",
    "version": 3
   },
   "file_extension": ".py",
   "mimetype": "text/x-python",
   "name": "python",
   "nbconvert_exporter": "python",
   "pygments_lexer": "ipython3",
   "version": "3.7.9"
  },
  "orig_nbformat": 2,
  "kernelspec": {
   "name": "python379jvsc74a57bd0588e6cf7f0e2d88a88a9c0fa699285da3f1e3d1b707cdb9814f8d3d36f077494",
   "display_name": "Python 3.7.9 64-bit ('nba-mvp-prediction-O7Ksfrer': pipenv)"
  }
 },
 "nbformat": 4,
 "nbformat_minor": 2,
 "cells": [
  {
   "cell_type": "code",
   "execution_count": 2,
   "metadata": {},
   "outputs": [],
   "source": [
    "import pandas"
   ]
  },
  {
   "cell_type": "code",
   "execution_count": 19,
   "metadata": {},
   "outputs": [
    {
     "output_type": "execute_result",
     "data": {
      "text/plain": [
       "                          2P%  2PA_per_100poss  2PA_per_36min  2PA_per_game  \\\n",
       "player_season_team                                                            \n",
       "ZaidAbdulAziz_1974_HOU  0.459             13.5           10.7           9.3   \n",
       "ECColeman_1974_HOU      0.512             10.5            8.4           4.3   \n",
       "MattGuokas_1974_HOU     0.458              9.1            7.3           5.2   \n",
       "GeorgeJohnson_1974_HOU  0.451              9.7            7.7           2.0   \n",
       "KevinKunnert_1974_HOU   0.491             14.3           11.4           4.6   \n",
       "\n",
       "                        2P_per_100poss  2P_per_36min  2P_per_game  3P%  \\\n",
       "player_season_team                                                       \n",
       "ZaidAbdulAziz_1974_HOU             6.2           4.9          4.3  0.0   \n",
       "ECColeman_1974_HOU                 5.4           4.3          2.2  0.0   \n",
       "MattGuokas_1974_HOU                4.2           3.3          2.4  0.0   \n",
       "GeorgeJohnson_1974_HOU             4.4           3.5          0.9  0.0   \n",
       "KevinKunnert_1974_HOU              7.0           5.6          2.2  0.0   \n",
       "\n",
       "                        3PAR_advanced  3PA_per_100poss  ...   W   L  W/L%  \\\n",
       "player_season_team                                      ...                 \n",
       "ZaidAbdulAziz_1974_HOU            0.0              0.0  ...  32  50  0.39   \n",
       "ECColeman_1974_HOU                0.0              0.0  ...  32  50  0.39   \n",
       "MattGuokas_1974_HOU               0.0              0.0  ...  32  50  0.39   \n",
       "GeorgeJohnson_1974_HOU            0.0              0.0  ...  32  50  0.39   \n",
       "KevinKunnert_1974_HOU             0.0              0.0  ...  32  50  0.39   \n",
       "\n",
       "                          GB  PW  PL   PS/G   PA/G          CONF  CONF_RANK  \n",
       "player_season_team                                                           \n",
       "ZaidAbdulAziz_1974_HOU  15.0  41  41  107.4  107.6  EASTERN_CONF          8  \n",
       "ECColeman_1974_HOU      15.0  41  41  107.4  107.6  EASTERN_CONF          8  \n",
       "MattGuokas_1974_HOU     15.0  41  41  107.4  107.6  EASTERN_CONF          8  \n",
       "GeorgeJohnson_1974_HOU  15.0  41  41  107.4  107.6  EASTERN_CONF          8  \n",
       "KevinKunnert_1974_HOU   15.0  41  41  107.4  107.6  EASTERN_CONF          8  \n",
       "\n",
       "[5 rows x 100 columns]"
      ],
      "text/html": "<div>\n<style scoped>\n    .dataframe tbody tr th:only-of-type {\n        vertical-align: middle;\n    }\n\n    .dataframe tbody tr th {\n        vertical-align: top;\n    }\n\n    .dataframe thead th {\n        text-align: right;\n    }\n</style>\n<table border=\"1\" class=\"dataframe\">\n  <thead>\n    <tr style=\"text-align: right;\">\n      <th></th>\n      <th>2P%</th>\n      <th>2PA_per_100poss</th>\n      <th>2PA_per_36min</th>\n      <th>2PA_per_game</th>\n      <th>2P_per_100poss</th>\n      <th>2P_per_36min</th>\n      <th>2P_per_game</th>\n      <th>3P%</th>\n      <th>3PAR_advanced</th>\n      <th>3PA_per_100poss</th>\n      <th>...</th>\n      <th>W</th>\n      <th>L</th>\n      <th>W/L%</th>\n      <th>GB</th>\n      <th>PW</th>\n      <th>PL</th>\n      <th>PS/G</th>\n      <th>PA/G</th>\n      <th>CONF</th>\n      <th>CONF_RANK</th>\n    </tr>\n    <tr>\n      <th>player_season_team</th>\n      <th></th>\n      <th></th>\n      <th></th>\n      <th></th>\n      <th></th>\n      <th></th>\n      <th></th>\n      <th></th>\n      <th></th>\n      <th></th>\n      <th></th>\n      <th></th>\n      <th></th>\n      <th></th>\n      <th></th>\n      <th></th>\n      <th></th>\n      <th></th>\n      <th></th>\n      <th></th>\n      <th></th>\n    </tr>\n  </thead>\n  <tbody>\n    <tr>\n      <th>ZaidAbdulAziz_1974_HOU</th>\n      <td>0.459</td>\n      <td>13.5</td>\n      <td>10.7</td>\n      <td>9.3</td>\n      <td>6.2</td>\n      <td>4.9</td>\n      <td>4.3</td>\n      <td>0.0</td>\n      <td>0.0</td>\n      <td>0.0</td>\n      <td>...</td>\n      <td>32</td>\n      <td>50</td>\n      <td>0.39</td>\n      <td>15.0</td>\n      <td>41</td>\n      <td>41</td>\n      <td>107.4</td>\n      <td>107.6</td>\n      <td>EASTERN_CONF</td>\n      <td>8</td>\n    </tr>\n    <tr>\n      <th>ECColeman_1974_HOU</th>\n      <td>0.512</td>\n      <td>10.5</td>\n      <td>8.4</td>\n      <td>4.3</td>\n      <td>5.4</td>\n      <td>4.3</td>\n      <td>2.2</td>\n      <td>0.0</td>\n      <td>0.0</td>\n      <td>0.0</td>\n      <td>...</td>\n      <td>32</td>\n      <td>50</td>\n      <td>0.39</td>\n      <td>15.0</td>\n      <td>41</td>\n      <td>41</td>\n      <td>107.4</td>\n      <td>107.6</td>\n      <td>EASTERN_CONF</td>\n      <td>8</td>\n    </tr>\n    <tr>\n      <th>MattGuokas_1974_HOU</th>\n      <td>0.458</td>\n      <td>9.1</td>\n      <td>7.3</td>\n      <td>5.2</td>\n      <td>4.2</td>\n      <td>3.3</td>\n      <td>2.4</td>\n      <td>0.0</td>\n      <td>0.0</td>\n      <td>0.0</td>\n      <td>...</td>\n      <td>32</td>\n      <td>50</td>\n      <td>0.39</td>\n      <td>15.0</td>\n      <td>41</td>\n      <td>41</td>\n      <td>107.4</td>\n      <td>107.6</td>\n      <td>EASTERN_CONF</td>\n      <td>8</td>\n    </tr>\n    <tr>\n      <th>GeorgeJohnson_1974_HOU</th>\n      <td>0.451</td>\n      <td>9.7</td>\n      <td>7.7</td>\n      <td>2.0</td>\n      <td>4.4</td>\n      <td>3.5</td>\n      <td>0.9</td>\n      <td>0.0</td>\n      <td>0.0</td>\n      <td>0.0</td>\n      <td>...</td>\n      <td>32</td>\n      <td>50</td>\n      <td>0.39</td>\n      <td>15.0</td>\n      <td>41</td>\n      <td>41</td>\n      <td>107.4</td>\n      <td>107.6</td>\n      <td>EASTERN_CONF</td>\n      <td>8</td>\n    </tr>\n    <tr>\n      <th>KevinKunnert_1974_HOU</th>\n      <td>0.491</td>\n      <td>14.3</td>\n      <td>11.4</td>\n      <td>4.6</td>\n      <td>7.0</td>\n      <td>5.6</td>\n      <td>2.2</td>\n      <td>0.0</td>\n      <td>0.0</td>\n      <td>0.0</td>\n      <td>...</td>\n      <td>32</td>\n      <td>50</td>\n      <td>0.39</td>\n      <td>15.0</td>\n      <td>41</td>\n      <td>41</td>\n      <td>107.4</td>\n      <td>107.6</td>\n      <td>EASTERN_CONF</td>\n      <td>8</td>\n    </tr>\n  </tbody>\n</table>\n<p>5 rows × 100 columns</p>\n</div>"
     },
     "metadata": {},
     "execution_count": 19
    }
   ],
   "source": [
    "csv = pandas.read_csv(\"../../data/training/all_consolidated_final.csv\", index_col=0)\n",
    "csv.head()"
   ]
  },
  {
   "cell_type": "code",
   "execution_count": 31,
   "metadata": {},
   "outputs": [],
   "source": [
    "cols = \"2P%,2PA_per_100poss,2PA_per_36min,2PA_per_game,2P_per_100poss,2P_per_36min,2P_per_game,3P%,3PAR_advanced,3PA_per_100poss,3PA_per_36min,3PA_per_game,3P_per_100poss,3P_per_36min,3P_per_game,AGE,AST%_advanced,AST_per_100poss,AST_per_36min,AST_per_game,BLK%_advanced,BLK_per_100poss,BLK_per_36min,BLK_per_game,BPM_advanced,DBPM_advanced,DRB%_advanced,DRB_per_100poss,DRB_per_36min,DRB_per_game,DRTG_per_100poss,DWS_advanced,EFG%_per_game,FG%,FGA_per_100poss,FGA_per_36min,FGA_per_game,FG_per_100poss,FG_per_36min,FG_per_game,FT%,FTA_per_100poss,FTA_per_36min,FTA_per_game,FTR_advanced,FT_per_100poss,FT_per_36min,FT_per_game,G,MP,OBPM_advanced,ORB%_advanced,ORB_per_100poss,ORB_per_36min,ORB_per_game,ORTG_per_100poss,OWS_advanced,PER_advanced,PF_per_100poss,PF_per_36min,PF_per_game,PTS_per_100poss,PTS_per_36min,PTS_per_game,SEASON,STL%_advanced,STL_per_100poss,STL_per_36min,STL_per_game,TOV%_advanced,TOV_per_100poss,TOV_per_36min,TOV_per_game,TRB%_advanced,TRB_per_100poss,TRB_per_36min,TRB_per_game,TS%_advanced,USG%_advanced,VORP_advanced,WS/48_advanced,WS_advanced,W,L,W/L%,GB,PW,PL,PS/G,PA/G,CONF_RANK\"\n",
    "cols = [f\"{col}\" for col in cols.split(\",\")]"
   ]
  },
  {
   "cell_type": "code",
   "execution_count": 32,
   "metadata": {},
   "outputs": [
    {
     "output_type": "execute_result",
     "data": {
      "text/plain": [
       "                          2P%  2PA_per_100poss  2PA_per_36min  2PA_per_game  \\\n",
       "player_season_team                                                            \n",
       "ZaidAbdulAziz_1974_HOU  0.459             13.5           10.7           9.3   \n",
       "ECColeman_1974_HOU      0.512             10.5            8.4           4.3   \n",
       "MattGuokas_1974_HOU     0.458              9.1            7.3           5.2   \n",
       "GeorgeJohnson_1974_HOU  0.451              9.7            7.7           2.0   \n",
       "KevinKunnert_1974_HOU   0.491             14.3           11.4           4.6   \n",
       "\n",
       "                        2P_per_100poss  2P_per_36min  2P_per_game  3P%  \\\n",
       "player_season_team                                                       \n",
       "ZaidAbdulAziz_1974_HOU             6.2           4.9          4.3  0.0   \n",
       "ECColeman_1974_HOU                 5.4           4.3          2.2  0.0   \n",
       "MattGuokas_1974_HOU                4.2           3.3          2.4  0.0   \n",
       "GeorgeJohnson_1974_HOU             4.4           3.5          0.9  0.0   \n",
       "KevinKunnert_1974_HOU              7.0           5.6          2.2  0.0   \n",
       "\n",
       "                        3PAR_advanced  3PA_per_100poss  ...  WS_advanced   W  \\\n",
       "player_season_team                                      ...                    \n",
       "ZaidAbdulAziz_1974_HOU            0.0              0.0  ...          6.5  32   \n",
       "ECColeman_1974_HOU                0.0              0.0  ...          1.7  32   \n",
       "MattGuokas_1974_HOU               0.0              0.0  ...          0.7  32   \n",
       "GeorgeJohnson_1974_HOU            0.0              0.0  ...          0.1  32   \n",
       "KevinKunnert_1974_HOU             0.0              0.0  ...          0.6  32   \n",
       "\n",
       "                         L  W/L%    GB  PW  PL   PS/G   PA/G  CONF_RANK  \n",
       "player_season_team                                                       \n",
       "ZaidAbdulAziz_1974_HOU  50  0.39  15.0  41  41  107.4  107.6          8  \n",
       "ECColeman_1974_HOU      50  0.39  15.0  41  41  107.4  107.6          8  \n",
       "MattGuokas_1974_HOU     50  0.39  15.0  41  41  107.4  107.6          8  \n",
       "GeorgeJohnson_1974_HOU  50  0.39  15.0  41  41  107.4  107.6          8  \n",
       "KevinKunnert_1974_HOU   50  0.39  15.0  41  41  107.4  107.6          8  \n",
       "\n",
       "[5 rows x 91 columns]"
      ],
      "text/html": "<div>\n<style scoped>\n    .dataframe tbody tr th:only-of-type {\n        vertical-align: middle;\n    }\n\n    .dataframe tbody tr th {\n        vertical-align: top;\n    }\n\n    .dataframe thead th {\n        text-align: right;\n    }\n</style>\n<table border=\"1\" class=\"dataframe\">\n  <thead>\n    <tr style=\"text-align: right;\">\n      <th></th>\n      <th>2P%</th>\n      <th>2PA_per_100poss</th>\n      <th>2PA_per_36min</th>\n      <th>2PA_per_game</th>\n      <th>2P_per_100poss</th>\n      <th>2P_per_36min</th>\n      <th>2P_per_game</th>\n      <th>3P%</th>\n      <th>3PAR_advanced</th>\n      <th>3PA_per_100poss</th>\n      <th>...</th>\n      <th>WS_advanced</th>\n      <th>W</th>\n      <th>L</th>\n      <th>W/L%</th>\n      <th>GB</th>\n      <th>PW</th>\n      <th>PL</th>\n      <th>PS/G</th>\n      <th>PA/G</th>\n      <th>CONF_RANK</th>\n    </tr>\n    <tr>\n      <th>player_season_team</th>\n      <th></th>\n      <th></th>\n      <th></th>\n      <th></th>\n      <th></th>\n      <th></th>\n      <th></th>\n      <th></th>\n      <th></th>\n      <th></th>\n      <th></th>\n      <th></th>\n      <th></th>\n      <th></th>\n      <th></th>\n      <th></th>\n      <th></th>\n      <th></th>\n      <th></th>\n      <th></th>\n      <th></th>\n    </tr>\n  </thead>\n  <tbody>\n    <tr>\n      <th>ZaidAbdulAziz_1974_HOU</th>\n      <td>0.459</td>\n      <td>13.5</td>\n      <td>10.7</td>\n      <td>9.3</td>\n      <td>6.2</td>\n      <td>4.9</td>\n      <td>4.3</td>\n      <td>0.0</td>\n      <td>0.0</td>\n      <td>0.0</td>\n      <td>...</td>\n      <td>6.5</td>\n      <td>32</td>\n      <td>50</td>\n      <td>0.39</td>\n      <td>15.0</td>\n      <td>41</td>\n      <td>41</td>\n      <td>107.4</td>\n      <td>107.6</td>\n      <td>8</td>\n    </tr>\n    <tr>\n      <th>ECColeman_1974_HOU</th>\n      <td>0.512</td>\n      <td>10.5</td>\n      <td>8.4</td>\n      <td>4.3</td>\n      <td>5.4</td>\n      <td>4.3</td>\n      <td>2.2</td>\n      <td>0.0</td>\n      <td>0.0</td>\n      <td>0.0</td>\n      <td>...</td>\n      <td>1.7</td>\n      <td>32</td>\n      <td>50</td>\n      <td>0.39</td>\n      <td>15.0</td>\n      <td>41</td>\n      <td>41</td>\n      <td>107.4</td>\n      <td>107.6</td>\n      <td>8</td>\n    </tr>\n    <tr>\n      <th>MattGuokas_1974_HOU</th>\n      <td>0.458</td>\n      <td>9.1</td>\n      <td>7.3</td>\n      <td>5.2</td>\n      <td>4.2</td>\n      <td>3.3</td>\n      <td>2.4</td>\n      <td>0.0</td>\n      <td>0.0</td>\n      <td>0.0</td>\n      <td>...</td>\n      <td>0.7</td>\n      <td>32</td>\n      <td>50</td>\n      <td>0.39</td>\n      <td>15.0</td>\n      <td>41</td>\n      <td>41</td>\n      <td>107.4</td>\n      <td>107.6</td>\n      <td>8</td>\n    </tr>\n    <tr>\n      <th>GeorgeJohnson_1974_HOU</th>\n      <td>0.451</td>\n      <td>9.7</td>\n      <td>7.7</td>\n      <td>2.0</td>\n      <td>4.4</td>\n      <td>3.5</td>\n      <td>0.9</td>\n      <td>0.0</td>\n      <td>0.0</td>\n      <td>0.0</td>\n      <td>...</td>\n      <td>0.1</td>\n      <td>32</td>\n      <td>50</td>\n      <td>0.39</td>\n      <td>15.0</td>\n      <td>41</td>\n      <td>41</td>\n      <td>107.4</td>\n      <td>107.6</td>\n      <td>8</td>\n    </tr>\n    <tr>\n      <th>KevinKunnert_1974_HOU</th>\n      <td>0.491</td>\n      <td>14.3</td>\n      <td>11.4</td>\n      <td>4.6</td>\n      <td>7.0</td>\n      <td>5.6</td>\n      <td>2.2</td>\n      <td>0.0</td>\n      <td>0.0</td>\n      <td>0.0</td>\n      <td>...</td>\n      <td>0.6</td>\n      <td>32</td>\n      <td>50</td>\n      <td>0.39</td>\n      <td>15.0</td>\n      <td>41</td>\n      <td>41</td>\n      <td>107.4</td>\n      <td>107.6</td>\n      <td>8</td>\n    </tr>\n  </tbody>\n</table>\n<p>5 rows × 91 columns</p>\n</div>"
     },
     "metadata": {},
     "execution_count": 32
    }
   ],
   "source": [
    "csv = csv[cols]\n",
    "csv.head()"
   ]
  },
  {
   "cell_type": "code",
   "execution_count": 33,
   "metadata": {},
   "outputs": [],
   "source": [
    "csv.to_csv('data.tsv', sep=\"\\t\", index=False, header=False)"
   ]
  },
  {
   "cell_type": "code",
   "execution_count": 37,
   "metadata": {},
   "outputs": [
    {
     "output_type": "error",
     "ename": "AttributeError",
     "evalue": "'Index' object has no attribute 'to_csv'",
     "traceback": [
      "\u001b[1;31m---------------------------------------------------------------------------\u001b[0m",
      "\u001b[1;31mAttributeError\u001b[0m                            Traceback (most recent call last)",
      "\u001b[1;32m<ipython-input-37-9dfca1ab4d86>\u001b[0m in \u001b[0;36m<module>\u001b[1;34m\u001b[0m\n\u001b[1;32m----> 1\u001b[1;33m \u001b[0mcsv\u001b[0m\u001b[1;33m.\u001b[0m\u001b[0mindex\u001b[0m\u001b[1;33m.\u001b[0m\u001b[0mto_csv\u001b[0m\u001b[1;33m(\u001b[0m\u001b[1;34m'index.tsv'\u001b[0m\u001b[1;33m,\u001b[0m \u001b[0msep\u001b[0m\u001b[1;33m=\u001b[0m\u001b[1;34m\"\\t\"\u001b[0m\u001b[1;33m,\u001b[0m \u001b[0mindex\u001b[0m\u001b[1;33m=\u001b[0m\u001b[1;32mTrue\u001b[0m\u001b[1;33m)\u001b[0m\u001b[1;33m\u001b[0m\u001b[1;33m\u001b[0m\u001b[0m\n\u001b[0m",
      "\u001b[1;31mAttributeError\u001b[0m: 'Index' object has no attribute 'to_csv'"
     ]
    }
   ],
   "source": [
    "csv.index.to_series().to_csv('index.tsv', sep=\"\\t\", index=True)"
   ]
  },
  {
   "cell_type": "code",
   "execution_count": null,
   "metadata": {},
   "outputs": [],
   "source": []
  }
 ]
}