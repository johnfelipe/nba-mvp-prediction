{
 "metadata": {
  "language_info": {
   "codemirror_mode": {
    "name": "ipython",
    "version": 3
   },
   "file_extension": ".py",
   "mimetype": "text/x-python",
   "name": "python",
   "nbconvert_exporter": "python",
   "pygments_lexer": "ipython3",
   "version": "3.7.9"
  },
  "orig_nbformat": 2,
  "kernelspec": {
   "name": "python379jvsc74a57bd0588e6cf7f0e2d88a88a9c0fa699285da3f1e3d1b707cdb9814f8d3d36f077494",
   "display_name": "Python 3.7.9 64-bit ('nba-mvp-prediction-O7Ksfrer': pipenv)"
  }
 },
 "nbformat": 4,
 "nbformat_minor": 2,
 "cells": [
  {
   "cell_type": "code",
   "execution_count": 2,
   "metadata": {},
   "outputs": [],
   "source": [
    "import pandas"
   ]
  },
  {
   "cell_type": "code",
   "execution_count": 41,
   "metadata": {},
   "outputs": [],
   "source": [
    "csv = pandas.read_csv(\"../../data/training/all_consolidated_final.csv\", index_col=0)\n",
    "csv = csv[csv.SEASON==2020]"
   ]
  },
  {
   "cell_type": "code",
   "execution_count": 42,
   "metadata": {},
   "outputs": [],
   "source": [
    "cols = \"2P%,2PA_per_100poss,2PA_per_36min,2PA_per_game,2P_per_100poss,2P_per_36min,2P_per_game,3P%,3PAR_advanced,3PA_per_100poss,3PA_per_36min,3PA_per_game,3P_per_100poss,3P_per_36min,3P_per_game,AGE,AST%_advanced,AST_per_100poss,AST_per_36min,AST_per_game,BLK%_advanced,BLK_per_100poss,BLK_per_36min,BLK_per_game,BPM_advanced,DBPM_advanced,DRB%_advanced,DRB_per_100poss,DRB_per_36min,DRB_per_game,DRTG_per_100poss,DWS_advanced,EFG%_per_game,FG%,FGA_per_100poss,FGA_per_36min,FGA_per_game,FG_per_100poss,FG_per_36min,FG_per_game,FT%,FTA_per_100poss,FTA_per_36min,FTA_per_game,FTR_advanced,FT_per_100poss,FT_per_36min,FT_per_game,G,MP,OBPM_advanced,ORB%_advanced,ORB_per_100poss,ORB_per_36min,ORB_per_game,ORTG_per_100poss,OWS_advanced,PER_advanced,PF_per_100poss,PF_per_36min,PF_per_game,PTS_per_100poss,PTS_per_36min,PTS_per_game,SEASON,STL%_advanced,STL_per_100poss,STL_per_36min,STL_per_game,TOV%_advanced,TOV_per_100poss,TOV_per_36min,TOV_per_game,TRB%_advanced,TRB_per_100poss,TRB_per_36min,TRB_per_game,TS%_advanced,USG%_advanced,VORP_advanced,WS/48_advanced,WS_advanced,W,L,W/L%,GB,PW,PL,PS/G,PA/G,CONF_RANK\"\n",
    "cols = [f\"{col}\" for col in cols.split(\",\")]"
   ]
  },
  {
   "cell_type": "code",
   "execution_count": 43,
   "metadata": {},
   "outputs": [
    {
     "output_type": "execute_result",
     "data": {
      "text/plain": [
       "                          2P%  2PA_per_100poss  2PA_per_36min  2PA_per_game  \\\n",
       "player_season_team                                                            \n",
       "StevenAdams_2020_OKC    0.594             13.7           10.2           7.5   \n",
       "DariusBazley_2020_OKC   0.432              7.6            5.6           2.9   \n",
       "DeonteBurton_2020_OKC   0.458              9.8            7.3           1.8   \n",
       "HamidouDiallo_2020_OKC  0.485             13.0            9.6           5.2   \n",
       "LuguentzDort_2020_OKC   0.479              6.9            5.1           3.3   \n",
       "\n",
       "                        2P_per_100poss  2P_per_36min  2P_per_game    3P%  \\\n",
       "player_season_team                                                         \n",
       "StevenAdams_2020_OKC               8.2           6.0          4.5  0.333   \n",
       "DariusBazley_2020_OKC              3.3           2.4          1.2  0.348   \n",
       "DeonteBurton_2020_OKC              4.5           3.3          0.8  0.189   \n",
       "HamidouDiallo_2020_OKC             6.3           4.7          2.5  0.281   \n",
       "LuguentzDort_2020_OKC              3.3           2.5          1.6  0.297   \n",
       "\n",
       "                        3PAR_advanced  3PA_per_100poss  ...  WS_advanced   W  \\\n",
       "player_season_team                                      ...                    \n",
       "StevenAdams_2020_OKC            0.006              0.1  ...          6.5  40   \n",
       "DariusBazley_2020_OKC           0.445              6.1  ...          1.0  40   \n",
       "DeonteBurton_2020_OKC           0.424              7.2  ...         -0.5  40   \n",
       "HamidouDiallo_2020_OKC          0.193              3.1  ...          0.4  40   \n",
       "LuguentzDort_2020_OKC           0.463              6.0  ...          0.8  40   \n",
       "\n",
       "                         L   W/L%   GB  PW  PL   PS/G   PA/G  CONF_RANK  \n",
       "player_season_team                                                       \n",
       "StevenAdams_2020_OKC    24  0.625  9.5  37  27  110.8  108.3          6  \n",
       "DariusBazley_2020_OKC   24  0.625  9.5  37  27  110.8  108.3          6  \n",
       "DeonteBurton_2020_OKC   24  0.625  9.5  37  27  110.8  108.3          6  \n",
       "HamidouDiallo_2020_OKC  24  0.625  9.5  37  27  110.8  108.3          6  \n",
       "LuguentzDort_2020_OKC   24  0.625  9.5  37  27  110.8  108.3          6  \n",
       "\n",
       "[5 rows x 91 columns]"
      ],
      "text/html": "<div>\n<style scoped>\n    .dataframe tbody tr th:only-of-type {\n        vertical-align: middle;\n    }\n\n    .dataframe tbody tr th {\n        vertical-align: top;\n    }\n\n    .dataframe thead th {\n        text-align: right;\n    }\n</style>\n<table border=\"1\" class=\"dataframe\">\n  <thead>\n    <tr style=\"text-align: right;\">\n      <th></th>\n      <th>2P%</th>\n      <th>2PA_per_100poss</th>\n      <th>2PA_per_36min</th>\n      <th>2PA_per_game</th>\n      <th>2P_per_100poss</th>\n      <th>2P_per_36min</th>\n      <th>2P_per_game</th>\n      <th>3P%</th>\n      <th>3PAR_advanced</th>\n      <th>3PA_per_100poss</th>\n      <th>...</th>\n      <th>WS_advanced</th>\n      <th>W</th>\n      <th>L</th>\n      <th>W/L%</th>\n      <th>GB</th>\n      <th>PW</th>\n      <th>PL</th>\n      <th>PS/G</th>\n      <th>PA/G</th>\n      <th>CONF_RANK</th>\n    </tr>\n    <tr>\n      <th>player_season_team</th>\n      <th></th>\n      <th></th>\n      <th></th>\n      <th></th>\n      <th></th>\n      <th></th>\n      <th></th>\n      <th></th>\n      <th></th>\n      <th></th>\n      <th></th>\n      <th></th>\n      <th></th>\n      <th></th>\n      <th></th>\n      <th></th>\n      <th></th>\n      <th></th>\n      <th></th>\n      <th></th>\n      <th></th>\n    </tr>\n  </thead>\n  <tbody>\n    <tr>\n      <th>StevenAdams_2020_OKC</th>\n      <td>0.594</td>\n      <td>13.7</td>\n      <td>10.2</td>\n      <td>7.5</td>\n      <td>8.2</td>\n      <td>6.0</td>\n      <td>4.5</td>\n      <td>0.333</td>\n      <td>0.006</td>\n      <td>0.1</td>\n      <td>...</td>\n      <td>6.5</td>\n      <td>40</td>\n      <td>24</td>\n      <td>0.625</td>\n      <td>9.5</td>\n      <td>37</td>\n      <td>27</td>\n      <td>110.8</td>\n      <td>108.3</td>\n      <td>6</td>\n    </tr>\n    <tr>\n      <th>DariusBazley_2020_OKC</th>\n      <td>0.432</td>\n      <td>7.6</td>\n      <td>5.6</td>\n      <td>2.9</td>\n      <td>3.3</td>\n      <td>2.4</td>\n      <td>1.2</td>\n      <td>0.348</td>\n      <td>0.445</td>\n      <td>6.1</td>\n      <td>...</td>\n      <td>1.0</td>\n      <td>40</td>\n      <td>24</td>\n      <td>0.625</td>\n      <td>9.5</td>\n      <td>37</td>\n      <td>27</td>\n      <td>110.8</td>\n      <td>108.3</td>\n      <td>6</td>\n    </tr>\n    <tr>\n      <th>DeonteBurton_2020_OKC</th>\n      <td>0.458</td>\n      <td>9.8</td>\n      <td>7.3</td>\n      <td>1.8</td>\n      <td>4.5</td>\n      <td>3.3</td>\n      <td>0.8</td>\n      <td>0.189</td>\n      <td>0.424</td>\n      <td>7.2</td>\n      <td>...</td>\n      <td>-0.5</td>\n      <td>40</td>\n      <td>24</td>\n      <td>0.625</td>\n      <td>9.5</td>\n      <td>37</td>\n      <td>27</td>\n      <td>110.8</td>\n      <td>108.3</td>\n      <td>6</td>\n    </tr>\n    <tr>\n      <th>HamidouDiallo_2020_OKC</th>\n      <td>0.485</td>\n      <td>13.0</td>\n      <td>9.6</td>\n      <td>5.2</td>\n      <td>6.3</td>\n      <td>4.7</td>\n      <td>2.5</td>\n      <td>0.281</td>\n      <td>0.193</td>\n      <td>3.1</td>\n      <td>...</td>\n      <td>0.4</td>\n      <td>40</td>\n      <td>24</td>\n      <td>0.625</td>\n      <td>9.5</td>\n      <td>37</td>\n      <td>27</td>\n      <td>110.8</td>\n      <td>108.3</td>\n      <td>6</td>\n    </tr>\n    <tr>\n      <th>LuguentzDort_2020_OKC</th>\n      <td>0.479</td>\n      <td>6.9</td>\n      <td>5.1</td>\n      <td>3.3</td>\n      <td>3.3</td>\n      <td>2.5</td>\n      <td>1.6</td>\n      <td>0.297</td>\n      <td>0.463</td>\n      <td>6.0</td>\n      <td>...</td>\n      <td>0.8</td>\n      <td>40</td>\n      <td>24</td>\n      <td>0.625</td>\n      <td>9.5</td>\n      <td>37</td>\n      <td>27</td>\n      <td>110.8</td>\n      <td>108.3</td>\n      <td>6</td>\n    </tr>\n  </tbody>\n</table>\n<p>5 rows × 91 columns</p>\n</div>"
     },
     "metadata": {},
     "execution_count": 43
    }
   ],
   "source": [
    "csv = csv[cols]\n",
    "csv.head()"
   ]
  },
  {
   "cell_type": "code",
   "execution_count": 44,
   "metadata": {},
   "outputs": [
    {
     "output_type": "stream",
     "name": "stderr",
     "text": [
      "ipykernel_launcher:2: FutureWarning: The signature of `Series.to_csv` was aligned to that of `DataFrame.to_csv`, and argument 'header' will change its default value from False to True: please pass an explicit value to suppress this warning.\n"
     ]
    }
   ],
   "source": [
    "csv.to_csv('data.tsv', sep=\"\\t\", index=False, header=False)\n",
    "csv.index.to_series().to_csv('index.tsv', sep=\"\\t\", index=False)"
   ]
  },
  {
   "cell_type": "code",
   "execution_count": null,
   "metadata": {},
   "outputs": [],
   "source": []
  }
 ]
}