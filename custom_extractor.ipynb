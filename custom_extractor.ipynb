{
 "cells": [
  {
   "cell_type": "code",
   "execution_count": 1,
   "metadata": {},
   "outputs": [],
   "source": [
    "import pandas as pd\n",
    "import requests\n",
    "from bs4 import BeautifulSoup"
   ]
  },
  {
   "cell_type": "code",
   "execution_count": 2,
   "metadata": {},
   "outputs": [],
   "source": [
    "root_url = \"https://www.basketball-reference.com/\""
   ]
  },
  {
   "cell_type": "code",
   "execution_count": 19,
   "metadata": {
    "tags": []
   },
   "outputs": [
    {
     "output_type": "stream",
     "name": "stdout",
     "text": "https://www.basketball-reference.com/leagues/NBA_2020_per_minute.html\n                     PLAYER    POS AGE   TM   G  GS    MP    FG   FGA   FG%  \\\n618             Paul Watson     SG  25  ATL   2   0    17   0.0  14.8  .000   \n619             Paul Watson     SF  25  TOR   3   0     8   0.0   4.5  .000   \n620  Quinndary Weatherspoon     SG  23  SAS   3   0    15   0.0   7.2  .000   \n621       Russell Westbrook     PG  31  HOU  53  53  1905  10.7  22.7  .474   \n622              Coby White     SG  19  CHI  65   1  1674   6.7  17.0  .394   \n623           Derrick White     SG  25  SAS  61  13  1468   5.2  11.4  .459   \n624        Hassan Whiteside      C  30  POR  61  61  1911   7.9  12.7  .618   \n625          Andrew Wiggins  SF-SG  24  TOT  54  54  1858   8.5  18.9  .447   \n626          Andrew Wiggins     SF  24  MIN  42  42  1455   8.7  19.5  .444   \n627          Andrew Wiggins     SG  24  GSW  12  12   403   7.7  16.8  .457   \n628          Grant Williams     PF  21  BOS  62   5   970   3.0   7.1  .417   \n629      Johnathan Williams      C  24  WAS  11   5   135   4.3   6.7  .640   \n630        Kenrich Williams     PF  25  NOP  35  18   779   2.3   6.6  .343   \n631            Lou Williams     SG  33  LAC  60   8  1757   7.5  18.1  .416   \n633         Marvin Williams     PF  33  TOT  52   1  1011   3.9   8.9  .442   \n634         Marvin Williams     PF  33  CHO  41   1   808   4.2   9.4  .448   \n635         Marvin Williams     PF  33  MIL  11   0   203   2.8   6.9  .410   \n636         Robert Williams      C  22  BOS  23   1   323   4.7   6.9  .677   \n637     Nigel Williams-Goss     PG  25  UTA   9   0    28   1.3   9.0  .143   \n638         Zion Williamson     PF  19  NOP  19  19   565  11.0  18.6  .589   \n639             D.J. Wilson     PF  23  MIL  31   0   280   5.1  13.0  .396   \n640         Justise Winslow     SF  23  MIA  11   5   352   5.1  13.2  .388   \n641          Christian Wood     PF  24  DET  62  12  1325   7.8  13.8  .567   \n642            Delon Wright     SG  27  DAL  65   5  1412   4.6   9.7  .470   \n643   Justin Wright-Foreman     PG  22  UTA   1   0     2   0.0   0.0   NaN   \n644          Thaddeus Young     PF  31  CHI  64  16  1591   6.1  13.6  .448   \n645              Trae Young     PG  21  ATL  60  60  2120   9.3  21.2  .437   \n646             Cody Zeller      C  27  CHO  58  39  1341   6.7  12.9  .524   \n647              Ante Žižić      C  23  CLE  22   0   221   6.7  11.7  .569   \n648             Ivica Zubac      C  22  LAC  64  62  1156   6.3  10.5  .601   \n\n     ...  ORB   DRB   TRB  AST  STL  BLK  TOV   PF   PTS SEASON  \n618  ...  0.0   4.2   4.2  6.4  2.1  0.0  0.0  2.1   0.0   2020  \n619  ...  0.0   9.0   9.0  9.0  0.0  4.5  0.0  0.0   4.5   2020  \n620  ...  0.0   2.4   2.4  2.4  0.0  0.0  0.0  0.0   0.0   2020  \n621  ...  1.8   6.3   8.1  7.0  1.7  0.3  4.5  3.5  27.5   2020  \n622  ...  0.6   4.3   4.9  3.8  1.1  0.1  2.3  2.5  18.5   2020  \n623  ...  0.7   4.0   4.7  5.1  1.0  1.3  1.8  3.3  15.5   2020  \n624  ...  4.6  11.8  16.4  1.4  0.5  3.5  2.2  3.4  18.7   2020  \n625  ...  1.3   4.0   5.3  3.8  0.9  1.0  2.6  2.5  22.8   2020  \n626  ...  1.2   4.2   5.4  3.8  0.7  0.9  2.6  2.5  23.3   2020  \n627  ...  1.6   3.3   4.9  3.8  1.4  1.5  2.2  2.3  20.8   2020  \n628  ...  2.2   4.0   6.1  2.3  1.0  1.2  1.7  5.5   8.1   2020  \n629  ...  4.0   7.5  11.5  1.6  0.3  1.6  1.1  2.9   9.3   2020  \n630  ...  2.3   6.0   8.2  2.4  1.2  1.0  1.0  3.7   6.1   2020  \n631  ...  0.6   3.2   3.8  7.0  0.8  0.2  3.5  1.6  22.9   2020  \n633  ...  0.7   4.6   5.3  2.0  1.2  0.9  1.0  3.3  11.4   2020  \n634  ...  0.7   4.2   4.9  1.8  1.2  1.0  1.1  3.2  12.3   2020  \n635  ...  0.9   6.0   6.9  2.7  1.6  0.7  0.5  4.1   7.8   2020  \n636  ...  3.8   8.2  12.0  2.5  2.2  3.1  2.2  4.5  10.9   2020  \n637  ...  2.6   3.9   6.4  6.4  1.3  1.3  2.6  2.6   5.1   2020  \n638  ...  3.5   4.7   8.2  2.6  1.0  0.6  3.2  2.0  28.5   2020  \n639  ...  1.3   7.5   8.7  2.8  0.3  0.6  1.9  3.3  12.9   2020  \n640  ...  1.6   5.8   7.5  4.5  0.7  0.5  2.5  3.9  12.7   2020  \n641  ...  2.8   7.8  10.6  1.6  0.9  1.5  2.3  2.7  22.0   2020  \n642  ...  1.7   4.9   6.6  5.6  1.9  0.5  1.7  2.1  12.1   2020  \n643  ...  0.0   0.0   0.0  0.0  0.0  0.0  0.0  0.0   0.0   2020  \n644  ...  2.1   5.0   7.1  2.6  2.1  0.5  2.3  3.0  14.9   2020  \n645  ...  0.5   3.8   4.3  9.5  1.1  0.1  4.9  1.8  30.2   2020  \n646  ...  4.3   6.7  11.0  2.4  1.1  0.7  2.0  3.8  17.2   2020  \n647  ...  2.9   7.8  10.8  1.0  1.1  0.8  1.6  4.4  15.6   2020  \n648  ...  5.2   9.2  14.4  2.1  0.4  1.9  1.7  4.5  15.9   2020  \n\n[30 rows x 29 columns]\n"
    }
   ],
   "source": [
    "input_season = 2020\n",
    "input_stat_type = \"PeR_36MiN\"\n",
    "\n",
    "season = str(input_season)\n",
    "stat_type = str(input_stat_type).lower()\n",
    "\n",
    "url_mapper = {'totals':'totals', 'per_game':'per_game', 'per_36min':'per_minute', 'per_100poss':'per_poss', 'advanced':'advanced'}\n",
    "\n",
    "stat_type = url_mapper[stat_type]\n",
    "\n",
    "url = f\"{root_url}leagues/NBA_{season}_{stat_type}.html\"\n",
    "print(url)\n",
    "\n",
    "df = None\n",
    "\n",
    "r = requests.get(url)\n",
    "\n",
    "if r.status_code==200:\n",
    "        soup = BeautifulSoup(r.content, 'html.parser')\n",
    "        table = soup.find('table')\n",
    "        df = pd.read_html(str(table))[0]\n",
    "        df = df.loc[df.Player!=\"Player\",:]\n",
    "        df.columns = [str(col).upper() for col in df.columns]\n",
    "        df.loc[:, 'SEASON'] = season\n",
    "        df = df.drop(\"RK\", axis='columns')\n",
    "        print(df.tail(30))"
   ]
  }
 ],
 "metadata": {
  "language_info": {
   "codemirror_mode": {
    "name": "ipython",
    "version": 3
   },
   "file_extension": ".py",
   "mimetype": "text/x-python",
   "name": "python",
   "nbconvert_exporter": "python",
   "pygments_lexer": "ipython3",
   "version": "3.7.7-final"
  },
  "orig_nbformat": 2,
  "kernelspec": {
   "name": "python37764bitnba1ouegnjovenv4fdc84ead6214ab69fe6eec387d9b7f7",
   "display_name": "Python 3.7.7 64-bit ('nba-1OUeGnJo': venv)"
  }
 },
 "nbformat": 4,
 "nbformat_minor": 2
}