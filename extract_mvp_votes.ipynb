{
 "cells": [
  {
   "cell_type": "code",
   "execution_count": 1,
   "metadata": {},
   "outputs": [],
   "source": [
    "import pandas\n",
    "pandas.set_option('display.max_columns', None)\n",
    "from nba import br_extractor\n",
    "extractor = br_extractor.BRExtractor()"
   ]
  },
  {
   "cell_type": "code",
   "execution_count": 2,
   "metadata": {
    "tags": []
   },
   "outputs": [
    {
     "output_type": "stream",
     "name": "stdout",
     "text": "Retrieving MVP of season 1995 ...\nRetrieving MVP of season 2019 ...\n"
    }
   ],
   "source": [
    "stats = extractor.get_mvp(subset_by_seasons=[1995, 2019])"
   ]
  },
  {
   "cell_type": "code",
   "execution_count": 3,
   "metadata": {},
   "outputs": [
    {
     "output_type": "execute_result",
     "data": {
      "text/plain": "                                PLAYER TEAM SEASON  MVP_VOTES_SHARE  \\\nplayer_season_team                                                    \nJohnStockton_1995_UTA    John Stockton  UTA   1995            0.045   \nStephenCurry_2019_GSW    Stephen Curry  GSW   2019            0.173   \nJasonKidd_1995_DAL          Jason Kidd  DAL   1995            0.007   \nKevinDurant_2019_GSW      Kevin Durant  GSW   2019            0.025   \nPatrickEwing_1995_NYK    Patrick Ewing  NYK   1995            0.219   \nKarlMalone_1995_UTA        Karl Malone  UTA   1995            0.507   \nMichaelJordan_1995_CHI  Michael Jordan  CHI   1995            0.011   \nJamesHarden_2019_HOU      James Harden  HOU   2019            0.768   \nJoelEmbiid_2019_PHI        Joel Embiid  PHI   2019            0.049   \nDennisRodman_1995_SAS    Dennis Rodman  SAS   1995            0.009   \n\n                        MVP_WINNER  MVP_PODIUM  MVP_CANDIDATE  \nplayer_season_team                                             \nJohnStockton_1995_UTA        False       False           True  \nStephenCurry_2019_GSW        False       False           True  \nJasonKidd_1995_DAL           False       False           True  \nKevinDurant_2019_GSW         False       False           True  \nPatrickEwing_1995_NYK        False       False           True  \nKarlMalone_1995_UTA          False        True           True  \nMichaelJordan_1995_CHI       False       False           True  \nJamesHarden_2019_HOU         False        True           True  \nJoelEmbiid_2019_PHI          False       False           True  \nDennisRodman_1995_SAS        False       False           True  ",
      "text/html": "<div>\n<style scoped>\n    .dataframe tbody tr th:only-of-type {\n        vertical-align: middle;\n    }\n\n    .dataframe tbody tr th {\n        vertical-align: top;\n    }\n\n    .dataframe thead th {\n        text-align: right;\n    }\n</style>\n<table border=\"1\" class=\"dataframe\">\n  <thead>\n    <tr style=\"text-align: right;\">\n      <th></th>\n      <th>PLAYER</th>\n      <th>TEAM</th>\n      <th>SEASON</th>\n      <th>MVP_VOTES_SHARE</th>\n      <th>MVP_WINNER</th>\n      <th>MVP_PODIUM</th>\n      <th>MVP_CANDIDATE</th>\n    </tr>\n    <tr>\n      <th>player_season_team</th>\n      <th></th>\n      <th></th>\n      <th></th>\n      <th></th>\n      <th></th>\n      <th></th>\n      <th></th>\n    </tr>\n  </thead>\n  <tbody>\n    <tr>\n      <th>JohnStockton_1995_UTA</th>\n      <td>John Stockton</td>\n      <td>UTA</td>\n      <td>1995</td>\n      <td>0.045</td>\n      <td>False</td>\n      <td>False</td>\n      <td>True</td>\n    </tr>\n    <tr>\n      <th>StephenCurry_2019_GSW</th>\n      <td>Stephen Curry</td>\n      <td>GSW</td>\n      <td>2019</td>\n      <td>0.173</td>\n      <td>False</td>\n      <td>False</td>\n      <td>True</td>\n    </tr>\n    <tr>\n      <th>JasonKidd_1995_DAL</th>\n      <td>Jason Kidd</td>\n      <td>DAL</td>\n      <td>1995</td>\n      <td>0.007</td>\n      <td>False</td>\n      <td>False</td>\n      <td>True</td>\n    </tr>\n    <tr>\n      <th>KevinDurant_2019_GSW</th>\n      <td>Kevin Durant</td>\n      <td>GSW</td>\n      <td>2019</td>\n      <td>0.025</td>\n      <td>False</td>\n      <td>False</td>\n      <td>True</td>\n    </tr>\n    <tr>\n      <th>PatrickEwing_1995_NYK</th>\n      <td>Patrick Ewing</td>\n      <td>NYK</td>\n      <td>1995</td>\n      <td>0.219</td>\n      <td>False</td>\n      <td>False</td>\n      <td>True</td>\n    </tr>\n    <tr>\n      <th>KarlMalone_1995_UTA</th>\n      <td>Karl Malone</td>\n      <td>UTA</td>\n      <td>1995</td>\n      <td>0.507</td>\n      <td>False</td>\n      <td>True</td>\n      <td>True</td>\n    </tr>\n    <tr>\n      <th>MichaelJordan_1995_CHI</th>\n      <td>Michael Jordan</td>\n      <td>CHI</td>\n      <td>1995</td>\n      <td>0.011</td>\n      <td>False</td>\n      <td>False</td>\n      <td>True</td>\n    </tr>\n    <tr>\n      <th>JamesHarden_2019_HOU</th>\n      <td>James Harden</td>\n      <td>HOU</td>\n      <td>2019</td>\n      <td>0.768</td>\n      <td>False</td>\n      <td>True</td>\n      <td>True</td>\n    </tr>\n    <tr>\n      <th>JoelEmbiid_2019_PHI</th>\n      <td>Joel Embiid</td>\n      <td>PHI</td>\n      <td>2019</td>\n      <td>0.049</td>\n      <td>False</td>\n      <td>False</td>\n      <td>True</td>\n    </tr>\n    <tr>\n      <th>DennisRodman_1995_SAS</th>\n      <td>Dennis Rodman</td>\n      <td>SAS</td>\n      <td>1995</td>\n      <td>0.009</td>\n      <td>False</td>\n      <td>False</td>\n      <td>True</td>\n    </tr>\n  </tbody>\n</table>\n</div>"
     },
     "metadata": {},
     "execution_count": 3
    }
   ],
   "source": [
    "stats.sample(10)"
   ]
  },
  {
   "cell_type": "code",
   "execution_count": 4,
   "metadata": {
    "tags": []
   },
   "outputs": [
    {
     "output_type": "stream",
     "name": "stdout",
     "text": "Retrieving MVP of season 1974 ...\nRetrieving MVP of season 1975 ...\nRetrieving MVP of season 1976 ...\nRetrieving MVP of season 1977 ...\nRetrieving MVP of season 1978 ...\nRetrieving MVP of season 1979 ...\nRetrieving MVP of season 1980 ...\nRetrieving MVP of season 1981 ...\nRetrieving MVP of season 1982 ...\nRetrieving MVP of season 1983 ...\nRetrieving MVP of season 1984 ...\nRetrieving MVP of season 1985 ...\nRetrieving MVP of season 1986 ...\nRetrieving MVP of season 1987 ...\nRetrieving MVP of season 1988 ...\nRetrieving MVP of season 1989 ...\nRetrieving MVP of season 1990 ...\nRetrieving MVP of season 1991 ...\nRetrieving MVP of season 1992 ...\nRetrieving MVP of season 1993 ...\nRetrieving MVP of season 1994 ...\nRetrieving MVP of season 1995 ...\nRetrieving MVP of season 1996 ...\nRetrieving MVP of season 1997 ...\nRetrieving MVP of season 1998 ...\nRetrieving MVP of season 1999 ...\nRetrieving MVP of season 2000 ...\nRetrieving MVP of season 2001 ...\nRetrieving MVP of season 2002 ...\nRetrieving MVP of season 2003 ...\nRetrieving MVP of season 2004 ...\nRetrieving MVP of season 2005 ...\nRetrieving MVP of season 2006 ...\nRetrieving MVP of season 2007 ...\nRetrieving MVP of season 2008 ...\nRetrieving MVP of season 2009 ...\nRetrieving MVP of season 2010 ...\nRetrieving MVP of season 2011 ...\nRetrieving MVP of season 2012 ...\nRetrieving MVP of season 2013 ...\nRetrieving MVP of season 2014 ...\nRetrieving MVP of season 2015 ...\nRetrieving MVP of season 2016 ...\nRetrieving MVP of season 2017 ...\nRetrieving MVP of season 2018 ...\nRetrieving MVP of season 2019 ...\n"
    }
   ],
   "source": [
    "stats = extractor.get_mvp()"
   ]
  },
  {
   "cell_type": "code",
   "execution_count": 5,
   "metadata": {},
   "outputs": [
    {
     "output_type": "execute_result",
     "data": {
      "text/plain": "                                    PLAYER TEAM SEASON  MVP_VOTES_SHARE  \\\nplayer_season_team                                                        \nMichaelJordan_1998_CHI      Michael Jordan  CHI   1998            0.934   \nDirkNowitzki_2003_DAL        Dirk Nowitzki  DAL   2003            0.036   \nDraymondGreen_2016_GSW      Draymond Green  GSW   2016            0.038   \nShaquilleO'Neal_2001_LAL  Shaquille O'Neal  LAL   2001            0.466   \nAlonzoMourning_1996_MIA    Alonzo Mourning  MIA   1996            0.005   \n\n                          MVP_WINNER  MVP_PODIUM  MVP_CANDIDATE  \nplayer_season_team                                               \nMichaelJordan_1998_CHI          True        True           True  \nDirkNowitzki_2003_DAL          False       False           True  \nDraymondGreen_2016_GSW         False       False           True  \nShaquilleO'Neal_2001_LAL       False        True           True  \nAlonzoMourning_1996_MIA        False       False           True  ",
      "text/html": "<div>\n<style scoped>\n    .dataframe tbody tr th:only-of-type {\n        vertical-align: middle;\n    }\n\n    .dataframe tbody tr th {\n        vertical-align: top;\n    }\n\n    .dataframe thead th {\n        text-align: right;\n    }\n</style>\n<table border=\"1\" class=\"dataframe\">\n  <thead>\n    <tr style=\"text-align: right;\">\n      <th></th>\n      <th>PLAYER</th>\n      <th>TEAM</th>\n      <th>SEASON</th>\n      <th>MVP_VOTES_SHARE</th>\n      <th>MVP_WINNER</th>\n      <th>MVP_PODIUM</th>\n      <th>MVP_CANDIDATE</th>\n    </tr>\n    <tr>\n      <th>player_season_team</th>\n      <th></th>\n      <th></th>\n      <th></th>\n      <th></th>\n      <th></th>\n      <th></th>\n      <th></th>\n    </tr>\n  </thead>\n  <tbody>\n    <tr>\n      <th>MichaelJordan_1998_CHI</th>\n      <td>Michael Jordan</td>\n      <td>CHI</td>\n      <td>1998</td>\n      <td>0.934</td>\n      <td>True</td>\n      <td>True</td>\n      <td>True</td>\n    </tr>\n    <tr>\n      <th>DirkNowitzki_2003_DAL</th>\n      <td>Dirk Nowitzki</td>\n      <td>DAL</td>\n      <td>2003</td>\n      <td>0.036</td>\n      <td>False</td>\n      <td>False</td>\n      <td>True</td>\n    </tr>\n    <tr>\n      <th>DraymondGreen_2016_GSW</th>\n      <td>Draymond Green</td>\n      <td>GSW</td>\n      <td>2016</td>\n      <td>0.038</td>\n      <td>False</td>\n      <td>False</td>\n      <td>True</td>\n    </tr>\n    <tr>\n      <th>ShaquilleO'Neal_2001_LAL</th>\n      <td>Shaquille O'Neal</td>\n      <td>LAL</td>\n      <td>2001</td>\n      <td>0.466</td>\n      <td>False</td>\n      <td>True</td>\n      <td>True</td>\n    </tr>\n    <tr>\n      <th>AlonzoMourning_1996_MIA</th>\n      <td>Alonzo Mourning</td>\n      <td>MIA</td>\n      <td>1996</td>\n      <td>0.005</td>\n      <td>False</td>\n      <td>False</td>\n      <td>True</td>\n    </tr>\n  </tbody>\n</table>\n</div>"
     },
     "metadata": {},
     "execution_count": 5
    }
   ],
   "source": [
    "stats.sample(5)"
   ]
  },
  {
   "cell_type": "code",
   "execution_count": 6,
   "metadata": {
    "tags": []
   },
   "outputs": [
    {
     "output_type": "stream",
     "name": "stdout",
     "text": "\nTOP 5 MVP_WINNER\nPLAYER\nMichael Jordan         5.0\nKareem Abdul-Jabbar    4.0\nLeBron James           4.0\nLarry Bird             3.0\nMoses Malone           3.0\nName: MVP_WINNER, dtype: float64\n\nTOP 5 MVP_PODIUM\nPLAYER\nMichael Jordan    10.0\nLeBron James      10.0\nMagic Johnson      9.0\nLarry Bird         8.0\nKarl Malone        5.0\nName: MVP_PODIUM, dtype: float64\n\nTOP 5 MVP_CANDIDATE\nPLAYER\nLeBron James        16.0\nTim Duncan          16.0\nKarl Malone         15.0\nShaquille O'Neal    14.0\nHakeem Olajuwon     13.0\nName: MVP_CANDIDATE, dtype: float64\n"
    }
   ],
   "source": [
    "for col in \"MVP_WINNER\", \"MVP_PODIUM\", \"MVP_CANDIDATE\":\n",
    "    print(\"\\nTOP 5\", col)\n",
    "    print(stats.groupby(\"PLAYER\").sum()[col].sort_values(ascending=False).head(5))"
   ]
  },
  {
   "cell_type": "code",
   "execution_count": 7,
   "metadata": {
    "tags": []
   },
   "outputs": [
    {
     "output_type": "stream",
     "name": "stdout",
     "text": "\nTOP 5 MVP_WINNER\nTEAM\nLAL    8.0\nCHI    6.0\nHOU    4.0\nPHI    3.0\nBOS    3.0\nName: MVP_WINNER, dtype: float64\n\nTOP 5 MVP_PODIUM\nTEAM\nLAL    21.0\nSAS    15.0\nCHI    12.0\nBOS    11.0\nHOU     8.0\nName: MVP_PODIUM, dtype: float64\n\nTOP 5 MVP_CANDIDATE\nTEAM\nLAL    53.0\nSAS    53.0\nBOS    43.0\nUTA    40.0\nPHO    38.0\nName: MVP_CANDIDATE, dtype: float64\n"
    }
   ],
   "source": [
    "for col in \"MVP_WINNER\", \"MVP_PODIUM\", \"MVP_CANDIDATE\":\n",
    "    print(\"\\nTOP 5\", col)\n",
    "    print(stats.groupby(\"TEAM\").sum()[col].sort_values(ascending=False).head(5))"
   ]
  },
  {
   "cell_type": "code",
   "execution_count": 7,
   "metadata": {},
   "outputs": [],
   "source": [
    "stats.to_csv(\"./data/all_mvp_awards.csv\")"
   ]
  }
 ],
 "metadata": {
  "language_info": {
   "codemirror_mode": {
    "name": "ipython",
    "version": 3
   },
   "file_extension": ".py",
   "mimetype": "text/x-python",
   "name": "python",
   "nbconvert_exporter": "python",
   "pygments_lexer": "ipython3",
   "version": "3.7.7-final"
  },
  "orig_nbformat": 2,
  "kernelspec": {
   "name": "python37764bitnba1ouegnjovenv4fdc84ead6214ab69fe6eec387d9b7f7",
   "display_name": "Python 3.7.7 64-bit ('nba-1OUeGnJo': venv)"
  }
 },
 "nbformat": 4,
 "nbformat_minor": 2
}